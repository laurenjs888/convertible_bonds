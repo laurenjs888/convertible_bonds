{
 "cells": [
  {
   "cell_type": "code",
   "execution_count": 1240,
   "id": "e96e59f6",
   "metadata": {},
   "outputs": [],
   "source": [
    "import pandas as pd\n",
    "import numpy as np\n",
    "import matplotlib as mpl\n",
    "import math"
   ]
  },
  {
   "cell_type": "code",
   "execution_count": 1241,
   "id": "bfd386fe",
   "metadata": {},
   "outputs": [],
   "source": [
    "filename=r'/Users/Amelia/Desktop/DAL.csv'"
   ]
  },
  {
   "cell_type": "code",
   "execution_count": 1242,
   "id": "b8c72891",
   "metadata": {},
   "outputs": [],
   "source": [
    "def makeDataFrame(filename):\n",
    "    data=pd.read_csv(filename)\n",
    "    df=pd.DataFrame(data,columns=['Adj Close'])\n",
    "    print(df)\n",
    "    s=df.values.tolist()\n",
    "    return s "
   ]
  },
  {
   "attachments": {},
   "cell_type": "markdown",
   "id": "39517972",
   "metadata": {},
   "source": [
    "makeDataFrame(filename)"
   ]
  },
  {
   "cell_type": "code",
   "execution_count": 1243,
   "id": "1f85e768",
   "metadata": {},
   "outputs": [],
   "source": [
    "# parameters\n",
    "S0=30\n",
    "r=0.06\n",
    "N=\n",
    "t=5\n",
    "u=1+r+math.sqrt((1+r)**2-1)\n",
    "drift=0\n",
    "vol=14\n",
    "d=1/u\n",
    "face=50\n",
    "coupon_rate = 0.04\n",
    "coupon = coupon_rate*face\n",
    "default_threshold = 1/3\n",
    "bankrupcy_ratio = 2.4\n",
    "K=55 # call value"
   ]
  },
  {
   "cell_type": "code",
   "execution_count": 1244,
   "id": "7a4028c2",
   "metadata": {},
   "outputs": [],
   "source": [
    "def g(x): # payoff function e.g for a call it would be max(0, x-K)\n",
    "    if x==0:\n",
    "        return [0, 0]\n",
    "    if x <= default_threshold*S0:\n",
    "        return [x*bankrupcy_ratio, 0]\n",
    "    return [face, coupon] # first entry is the actual value, second is dividends or coupons"
   ]
  },
  {
   "attachments": {},
   "cell_type": "markdown",
   "id": "f163288d",
   "metadata": {},
   "source": [
    "K2 has to be greater than K1"
   ]
  },
  {
   "cell_type": "code",
   "execution_count": 1245,
   "id": "9de268b3",
   "metadata": {},
   "outputs": [
    {
     "name": "stdout",
     "output_type": "stream",
     "text": [
      "0.5 0.5\n"
     ]
    }
   ],
   "source": [
    "p=0.5#(1+r-d)/(u-d)\n",
    "q=1-p\n",
    "p=1-q # fixes floating-point errors hopefully\n",
    "print(p, q) # only use these in the multiplicative model"
   ]
  },
  {
   "cell_type": "code",
   "execution_count": 1246,
   "id": "20162c89",
   "metadata": {},
   "outputs": [],
   "source": [
    "def nSigFigs(num, n):\n",
    "    #print(num == np.nan)\n",
    "    if type(num) not in [float, int, np.float64] or num == float(\"NaN\"): return float(\"NaN\")\n",
    "    return int(num * 10**n) / 10**n"
   ]
  },
  {
   "attachments": {},
   "cell_type": "markdown",
   "id": "2b942cf1",
   "metadata": {},
   "source": [
    "print(p,q)"
   ]
  },
  {
   "cell_type": "code",
   "execution_count": 1247,
   "id": "040af1f6",
   "metadata": {},
   "outputs": [],
   "source": [
    "def r_values(drift, vol):\n",
    "    R = {}\n",
    "    for i in range(N, -1, -1):\n",
    "        R[i] = r + i*drift - vol*np.arange(i, -1, -1) + vol*np.arange(0, i+1, 1)\n",
    "    return R"
   ]
  },
  {
   "cell_type": "code",
   "execution_count": 1248,
   "id": "ad19b570",
   "metadata": {},
   "outputs": [],
   "source": [
    "rates = r_values(0, 0.005)\n",
    "def p_values(stock_price_chart, rates):\n",
    "    P = {i: [1]*(i+1) for i in range(N)}\n",
    "    for i in range(0, N):\n",
    "        for j in range(i+1):\n",
    "            d = stock_price_chart[i+1][j] / stock_price_chart[i][j]\n",
    "            u = stock_price_chart[i+1][j+1] / stock_price_chart[i][j]\n",
    "            if stock_price_chart[i][j] == 0:\n",
    "                P[i][j] = 0\n",
    "            else:\n",
    "                P[i][j] = (1 + rates[i][j] - d) / (u-d)\n",
    "    return P"
   ]
  },
  {
   "cell_type": "code",
   "execution_count": 1249,
   "id": "a8f80da5",
   "metadata": {},
   "outputs": [
    {
     "name": "stdout",
     "output_type": "stream",
     "text": [
      "4: [0.0, 2.0, 30.0, 58.0, 86.0]\n",
      "3: [0.0, 16.0, 44.0, 72.0]\n",
      "2: [2.0, 30.0, 58.0]\n",
      "1: [16.0, 44.0]\n",
      "0: [30.0]\n"
     ]
    },
    {
     "name": "stderr",
     "output_type": "stream",
     "text": [
      "/var/folders/v2/8kmltg8j0d1glmqdfvfvmprc0000gn/T/ipykernel_33897/903574956.py:6: RuntimeWarning: invalid value encountered in scalar divide\n",
      "  d = stock_price_chart[i+1][j] / stock_price_chart[i][j]\n",
      "/var/folders/v2/8kmltg8j0d1glmqdfvfvmprc0000gn/T/ipykernel_33897/903574956.py:7: RuntimeWarning: divide by zero encountered in scalar divide\n",
      "  u = stock_price_chart[i+1][j+1] / stock_price_chart[i][j]\n"
     ]
    }
   ],
   "source": [
    "def StockPrice(mode='a'): # a for additive, m for multiplicative\n",
    "    StockPrice={}\n",
    "    if mode == 'm':\n",
    "        for i in range(N, -1, -1):\n",
    "            StockPrice[i] = S0 * d ** (np.arange(i,-1,-1)) * u ** (np.arange(0,i+1,1)) #np.empty(N+1)\n",
    "\n",
    "    elif mode == 'a':\n",
    "        for i in range(N, -1, -1):\n",
    "            StockPrice[i] = np.maximum(np.zeros(i+1), S0 + i*drift - vol*np.arange(i, -1, -1) + vol*np.arange(0,i+1,1))\n",
    "    '''for n in range(0, N+1):\n",
    "        StockPrice[N].append(S0*(u**n)*(d**(N-n)))\n",
    "    for i in range(N-1, -1, -1):\n",
    "        StockPrice[i]=[] #np.empty(i+1)\n",
    "        for j in range(0, i+1):\n",
    "            StockPrice[i].append((StockPrice[i+1][j+1])/u)'''\n",
    "    return StockPrice\n",
    "SP = StockPrice()\n",
    "for i in range(N, -1, -1):\n",
    "    print(str(i) + \": \"+str([nSigFigs(x, n=4) for x in SP[i]]))\n",
    "\n",
    "p_vals = p_values(SP, rates)"
   ]
  },
  {
   "cell_type": "code",
   "execution_count": 1250,
   "id": "3bc811db",
   "metadata": {},
   "outputs": [
    {
     "name": "stderr",
     "output_type": "stream",
     "text": [
      "/var/folders/v2/8kmltg8j0d1glmqdfvfvmprc0000gn/T/ipykernel_33897/1105197269.py:15: FutureWarning: this method is deprecated in favour of `Styler.hide(axis=\"index\")`\n",
      "  return df.style.hide_index()\n",
      "/var/folders/v2/8kmltg8j0d1glmqdfvfvmprc0000gn/T/ipykernel_33897/1105197269.py:15: FutureWarning: this method is deprecated in favour of `Styler.hide(axis=\"index\")`\n",
      "  return df.style.hide_index()\n"
     ]
    },
    {
     "data": {
      "text/html": [
       "<style type=\"text/css\">\n",
       "</style>\n",
       "<table id=\"T_4854b\">\n",
       "  <thead>\n",
       "    <tr>\n",
       "      <th id=\"T_4854b_level0_col0\" class=\"col_heading level0 col0\" >0</th>\n",
       "      <th id=\"T_4854b_level0_col1\" class=\"col_heading level0 col1\" >1</th>\n",
       "      <th id=\"T_4854b_level0_col2\" class=\"col_heading level0 col2\" >2</th>\n",
       "      <th id=\"T_4854b_level0_col3\" class=\"col_heading level0 col3\" >3</th>\n",
       "    </tr>\n",
       "  </thead>\n",
       "  <tbody>\n",
       "    <tr>\n",
       "      <td id=\"T_4854b_row0_col0\" class=\"data row0 col0\" ></td>\n",
       "      <td id=\"T_4854b_row0_col1\" class=\"data row0 col1\" ></td>\n",
       "      <td id=\"T_4854b_row0_col2\" class=\"data row0 col2\" ></td>\n",
       "      <td id=\"T_4854b_row0_col3\" class=\"data row0 col3\" >0.692857</td>\n",
       "    </tr>\n",
       "    <tr>\n",
       "      <td id=\"T_4854b_row1_col0\" class=\"data row1 col0\" ></td>\n",
       "      <td id=\"T_4854b_row1_col1\" class=\"data row1 col1\" ></td>\n",
       "      <td id=\"T_4854b_row1_col2\" class=\"data row1 col2\" >0.645000</td>\n",
       "      <td id=\"T_4854b_row1_col3\" class=\"data row1 col3\" >0.602143</td>\n",
       "    </tr>\n",
       "    <tr>\n",
       "      <td id=\"T_4854b_row2_col0\" class=\"data row2 col0\" ></td>\n",
       "      <td id=\"T_4854b_row2_col1\" class=\"data row2 col1\" >0.602143</td>\n",
       "      <td id=\"T_4854b_row2_col2\" class=\"data row2 col2\" >0.564286</td>\n",
       "      <td id=\"T_4854b_row2_col3\" class=\"data row2 col3\" >0.531429</td>\n",
       "    </tr>\n",
       "    <tr>\n",
       "      <td id=\"T_4854b_row3_col0\" class=\"data row3 col0\" >0.564286</td>\n",
       "      <td id=\"T_4854b_row3_col1\" class=\"data row3 col1\" >0.531429</td>\n",
       "      <td id=\"T_4854b_row3_col2\" class=\"data row3 col2\" >0.131250</td>\n",
       "      <td id=\"T_4854b_row3_col3\" class=\"data row3 col3\" >0.000000</td>\n",
       "    </tr>\n",
       "  </tbody>\n",
       "</table>\n"
      ],
      "text/plain": [
       "<pandas.io.formats.style.Styler at 0x124d35150>"
      ]
     },
     "execution_count": 1250,
     "metadata": {},
     "output_type": "execute_result"
    }
   ],
   "source": [
    "def displayChart(tab):\n",
    "    Chart=[]\n",
    "    columns = []\n",
    "    N = len(tab)-1\n",
    "    for i in range(N, -1, -1):\n",
    "        chart = []\n",
    "        columns.append(N-i)\n",
    "        for j in range(0,i):\n",
    "            chart.append(\"\")\n",
    "        for j in range(i, N+1):\n",
    "            entry = tab[j][i]\n",
    "            chart.append(entry)\n",
    "        Chart.append(chart)\n",
    "    df = pd.DataFrame(Chart, columns = columns)\n",
    "    return df.style.hide_index()\n",
    "\n",
    "displayChart(SP)\n",
    "displayChart(p_vals)\n",
    "#displayChart(rates)"
   ]
  },
  {
   "attachments": {},
   "cell_type": "markdown",
   "id": "5d845d23",
   "metadata": {},
   "source": [
    "for i in range(0, N+1):\n",
    "    for j in range(i,-1,-1):\n",
    "        print(StockPrice[i][j])\n",
    "    print(\"\\n\")"
   ]
  },
  {
   "attachments": {},
   "cell_type": "markdown",
   "id": "49d50513",
   "metadata": {},
   "source": [
    "for i in range(0, N+1):\n",
    "    for j in range(i,-1,-1):\n",
    "        print(IntrinsicPut[i][j])\n",
    "    print(\"\\n\")"
   ]
  },
  {
   "attachments": {},
   "cell_type": "markdown",
   "id": "513f8ce1",
   "metadata": {},
   "source": [
    "for i in range(0, N+1):\n",
    "    for j in range(i,-1,-1):\n",
    "        print(IntrinsicCall[i][j])\n",
    "    print(\"\\n\")"
   ]
  },
  {
   "cell_type": "code",
   "execution_count": 1251,
   "id": "008f9e91",
   "metadata": {},
   "outputs": [],
   "source": [
    "def exp(x,y,p=p,r=r):\n",
    "    if p != 0:\n",
    "        return (x*p+y*(1-p))/(1+r)\n",
    "    return 0\n",
    "\n",
    "def rnExp(x,y):\n",
    "    return exp(x,y,p,r)"
   ]
  },
  {
   "cell_type": "code",
   "execution_count": 1252,
   "id": "7a2acc29",
   "metadata": {},
   "outputs": [
    {
     "name": "stderr",
     "output_type": "stream",
     "text": [
      "/var/folders/v2/8kmltg8j0d1glmqdfvfvmprc0000gn/T/ipykernel_33897/1105197269.py:15: FutureWarning: this method is deprecated in favour of `Styler.hide(axis=\"index\")`\n",
      "  return df.style.hide_index()\n"
     ]
    },
    {
     "data": {
      "text/html": [
       "<style type=\"text/css\">\n",
       "</style>\n",
       "<table id=\"T_87a60\">\n",
       "  <thead>\n",
       "    <tr>\n",
       "      <th id=\"T_87a60_level0_col0\" class=\"col_heading level0 col0\" >0</th>\n",
       "      <th id=\"T_87a60_level0_col1\" class=\"col_heading level0 col1\" >1</th>\n",
       "      <th id=\"T_87a60_level0_col2\" class=\"col_heading level0 col2\" >2</th>\n",
       "      <th id=\"T_87a60_level0_col3\" class=\"col_heading level0 col3\" >3</th>\n",
       "      <th id=\"T_87a60_level0_col4\" class=\"col_heading level0 col4\" >4</th>\n",
       "    </tr>\n",
       "  </thead>\n",
       "  <tbody>\n",
       "    <tr>\n",
       "      <td id=\"T_87a60_row0_col0\" class=\"data row0 col0\" ></td>\n",
       "      <td id=\"T_87a60_row0_col1\" class=\"data row0 col1\" ></td>\n",
       "      <td id=\"T_87a60_row0_col2\" class=\"data row0 col2\" ></td>\n",
       "      <td id=\"T_87a60_row0_col3\" class=\"data row0 col3\" ></td>\n",
       "      <td id=\"T_87a60_row0_col4\" class=\"data row0 col4\" >[50, 2.0]</td>\n",
       "    </tr>\n",
       "    <tr>\n",
       "      <td id=\"T_87a60_row1_col0\" class=\"data row1 col0\" ></td>\n",
       "      <td id=\"T_87a60_row1_col1\" class=\"data row1 col1\" ></td>\n",
       "      <td id=\"T_87a60_row1_col2\" class=\"data row1 col2\" ></td>\n",
       "      <td id=\"T_87a60_row1_col3\" class=\"data row1 col3\" >[48.37209302325582, 2.0]</td>\n",
       "      <td id=\"T_87a60_row1_col4\" class=\"data row1 col4\" >[50, 2.0]</td>\n",
       "    </tr>\n",
       "    <tr>\n",
       "      <td id=\"T_87a60_row2_col0\" class=\"data row2 col0\" ></td>\n",
       "      <td id=\"T_87a60_row2_col1\" class=\"data row2 col1\" ></td>\n",
       "      <td id=\"T_87a60_row2_col2\" class=\"data row2 col2\" >[47.22741433021807, 2.0]</td>\n",
       "      <td id=\"T_87a60_row2_col3\" class=\"data row2 col3\" >[48.82629107981221, 2.0]</td>\n",
       "      <td id=\"T_87a60_row2_col4\" class=\"data row2 col4\" >[50, 2.0]</td>\n",
       "    </tr>\n",
       "    <tr>\n",
       "      <td id=\"T_87a60_row3_col0\" class=\"data row3 col0\" ></td>\n",
       "      <td id=\"T_87a60_row3_col1\" class=\"data row3 col1\" >[43.344549982467704, 2.0]</td>\n",
       "      <td id=\"T_87a60_row3_col2\" class=\"data row3 col2\" >[39.52246632582677, 2.0]</td>\n",
       "      <td id=\"T_87a60_row3_col3\" class=\"data row3 col3\" >[28.32552471225457, 2.0]</td>\n",
       "      <td id=\"T_87a60_row3_col4\" class=\"data row3 col4\" >[4.8, 0]</td>\n",
       "    </tr>\n",
       "    <tr>\n",
       "      <td id=\"T_87a60_row4_col0\" class=\"data row4 col0\" >[34.615715964402504, 2.0]</td>\n",
       "      <td id=\"T_87a60_row4_col1\" class=\"data row4 col1\" >[23.487750827907913, 2.0]</td>\n",
       "      <td id=\"T_87a60_row4_col2\" class=\"data row4 col2\" >[3.790690589031821, 2.0]</td>\n",
       "      <td id=\"T_87a60_row4_col3\" class=\"data row4 col3\" >[0, 0]</td>\n",
       "      <td id=\"T_87a60_row4_col4\" class=\"data row4 col4\" >[0, 0]</td>\n",
       "    </tr>\n",
       "  </tbody>\n",
       "</table>\n"
      ],
      "text/plain": [
       "<pandas.io.formats.style.Styler at 0x124221250>"
      ]
     },
     "execution_count": 1252,
     "metadata": {},
     "output_type": "execute_result"
    }
   ],
   "source": [
    "bond_payoff = list(map(g, SP[N]))\n",
    "def vanillaBond(payoff): # coupon amount\n",
    "    vanillaBond={}\n",
    "    vanillaBond[N]=bond_payoff\n",
    "    #IP=IntrinsicPut()\n",
    "    #for n in range(0, N+1):\n",
    "    #    PutPriceA[N].append(IP[N][n])\n",
    "    for i in range(N-1, -1, -1):\n",
    "        vanillaBond[i]=[]\n",
    "        for j in range(i+1):\n",
    "            entry = [0,0]\n",
    "            if SP[i][j] != 0: \n",
    "                entry[0] = exp(vanillaBond[i+1][j+1][0], vanillaBond[i+1][j][0], p_vals[i][j], rates[i][j]) \\\n",
    "                         + exp(vanillaBond[i+1][j+1][1], vanillaBond[i+1][j][1], p_vals[i][j], rates[i][j])\n",
    "                entry[0] = entry[0]\n",
    "                entry[1] = coupon if SP[i][j] >= default_threshold or i<N else 0\n",
    "            #print(entry)\n",
    "            vanillaBond[i].append(entry)\n",
    "    return vanillaBond\n",
    "\n",
    "vBond = vanillaBond(bond_payoff)\n",
    "displayChart(vBond)"
   ]
  },
  {
   "cell_type": "code",
   "execution_count": 1253,
   "id": "de889cb7",
   "metadata": {},
   "outputs": [
    {
     "name": "stderr",
     "output_type": "stream",
     "text": [
      "/var/folders/v2/8kmltg8j0d1glmqdfvfvmprc0000gn/T/ipykernel_33897/1105197269.py:15: FutureWarning: this method is deprecated in favour of `Styler.hide(axis=\"index\")`\n",
      "  return df.style.hide_index()\n"
     ]
    },
    {
     "data": {
      "text/html": [
       "<style type=\"text/css\">\n",
       "</style>\n",
       "<table id=\"T_0e27e\">\n",
       "  <thead>\n",
       "    <tr>\n",
       "      <th id=\"T_0e27e_level0_col0\" class=\"col_heading level0 col0\" >0</th>\n",
       "      <th id=\"T_0e27e_level0_col1\" class=\"col_heading level0 col1\" >1</th>\n",
       "      <th id=\"T_0e27e_level0_col2\" class=\"col_heading level0 col2\" >2</th>\n",
       "      <th id=\"T_0e27e_level0_col3\" class=\"col_heading level0 col3\" >3</th>\n",
       "      <th id=\"T_0e27e_level0_col4\" class=\"col_heading level0 col4\" >4</th>\n",
       "    </tr>\n",
       "  </thead>\n",
       "  <tbody>\n",
       "    <tr>\n",
       "      <td id=\"T_0e27e_row0_col0\" class=\"data row0 col0\" ></td>\n",
       "      <td id=\"T_0e27e_row0_col1\" class=\"data row0 col1\" ></td>\n",
       "      <td id=\"T_0e27e_row0_col2\" class=\"data row0 col2\" ></td>\n",
       "      <td id=\"T_0e27e_row0_col3\" class=\"data row0 col3\" ></td>\n",
       "      <td id=\"T_0e27e_row0_col4\" class=\"data row0 col4\" >[86.0, 2.0]</td>\n",
       "    </tr>\n",
       "    <tr>\n",
       "      <td id=\"T_0e27e_row1_col0\" class=\"data row1 col0\" ></td>\n",
       "      <td id=\"T_0e27e_row1_col1\" class=\"data row1 col1\" ></td>\n",
       "      <td id=\"T_0e27e_row1_col2\" class=\"data row1 col2\" ></td>\n",
       "      <td id=\"T_0e27e_row1_col3\" class=\"data row1 col3\" >[73.86046511627907, 2.0]</td>\n",
       "      <td id=\"T_0e27e_row1_col4\" class=\"data row1 col4\" >[58.0, 2.0]</td>\n",
       "    </tr>\n",
       "    <tr>\n",
       "      <td id=\"T_0e27e_row2_col0\" class=\"data row2 col0\" ></td>\n",
       "      <td id=\"T_0e27e_row2_col1\" class=\"data row2 col1\" ></td>\n",
       "      <td id=\"T_0e27e_row2_col2\" class=\"data row2 col2\" >[64.09256786826882, 2.0]</td>\n",
       "      <td id=\"T_0e27e_row2_col3\" class=\"data row2 col3\" >[53.349429912810194, 2.0]</td>\n",
       "      <td id=\"T_0e27e_row2_col4\" class=\"data row2 col4\" >[50, 2.0]</td>\n",
       "    </tr>\n",
       "    <tr>\n",
       "      <td id=\"T_0e27e_row3_col0\" class=\"data row3 col0\" ></td>\n",
       "      <td id=\"T_0e27e_row3_col1\" class=\"data row3 col1\" >[53.779498504972025, 2.0]</td>\n",
       "      <td id=\"T_0e27e_row3_col2\" class=\"data row3 col2\" >[41.93033672883783, 2.0]</td>\n",
       "      <td id=\"T_0e27e_row3_col3\" class=\"data row3 col3\" >[28.32552471225457, 2.0]</td>\n",
       "      <td id=\"T_0e27e_row3_col4\" class=\"data row3 col4\" >[4.8, 0]</td>\n",
       "    </tr>\n",
       "    <tr>\n",
       "      <td id=\"T_0e27e_row4_col0\" class=\"data row4 col0\" >[40.669273426903096, 2.0]</td>\n",
       "      <td id=\"T_0e27e_row4_col1\" class=\"data row4 col1\" >[24.700652371469342, 2.0]</td>\n",
       "      <td id=\"T_0e27e_row4_col2\" class=\"data row4 col2\" >[3.790690589031821, 2.0]</td>\n",
       "      <td id=\"T_0e27e_row4_col3\" class=\"data row4 col3\" >[0, 0]</td>\n",
       "      <td id=\"T_0e27e_row4_col4\" class=\"data row4 col4\" >[0.0, 0]</td>\n",
       "    </tr>\n",
       "  </tbody>\n",
       "</table>\n"
      ],
      "text/plain": [
       "<pandas.io.formats.style.Styler at 0x124796390>"
      ]
     },
     "execution_count": 1253,
     "metadata": {},
     "output_type": "execute_result"
    }
   ],
   "source": [
    "def convBond(payoff):\n",
    "    convBond = {}\n",
    "    convBond[N] = [[max(SP[N][i], payoff[i][0]), payoff[i][1]] for i in range(N+1)]\n",
    "    for i in range(N-1, -1, -1):\n",
    "        convBond[i]=[]\n",
    "        for j in range(i+1):\n",
    "            entry = [0,0]\n",
    "            if SP[i][j] != 0: \n",
    "                entry[0] = exp(convBond[i+1][j+1][0], convBond[i+1][j][0], p_vals[i][j], rates[i][j]) \\\n",
    "                         + exp(convBond[i+1][j+1][1], convBond[i+1][j][1], p_vals[i][j], rates[i][j])\n",
    "                entry[0] = max(entry[0], SP[i][j])\n",
    "                entry[1] = coupon if SP[i][j] >= default_threshold or i<N else 0\n",
    "            #print(entry)\n",
    "            convBond[i].append(entry)\n",
    "    return convBond\n",
    "\n",
    "cBond = convBond(bond_payoff)\n",
    "displayChart(cBond)"
   ]
  },
  {
   "cell_type": "code",
   "execution_count": 1254,
   "id": "8f58f8eb",
   "metadata": {},
   "outputs": [],
   "source": [
    "'''def binomial_tree_fast(strike=K, init_s = S0, rate=r, num_pds=N, up=u, down=d): \n",
    "    # We'll use this to quickly compute callable bond prices instead of computing the whole tree multiple times\n",
    "    #p = (1+r-d)/(u-d)\n",
    "    #disc = 1/(1+r)\n",
    "\n",
    "    # initialise asset prices at maturity - Time step N\n",
    "    #C = SP[N] #S0 * d ** (np.arange(N,-1,-1)) * u ** (np.arange(0,N+1,1)) \n",
    "    #print(\"C = \"+str(C))\n",
    "    # initialise option values at maturity\n",
    "    C = np.maximum( C - K , np.zeros(N+1) )\n",
    "        \n",
    "    # step backwards through tree\n",
    "    for i in np.arange(N,0,-1):\n",
    "        C = disc * ( p * C[1:i+1] + (1-p) * C[0:i] )\n",
    "    return C\n",
    "\n",
    "print(binomial_tree_fast())'''\n",
    "\n",
    "def convCallableBond(tab=cBond, call_location='H', K=K): # location should be some string of Hs and Ts of length <=N\n",
    "    coords = [len(call_location), call_location.count('H')]\n",
    "    ccBond = tab\n",
    "    for i in range(coords[0], N+1):\n",
    "        for j in range(N+1):\n",
    "            pass"
   ]
  },
  {
   "attachments": {},
   "cell_type": "markdown",
   "id": "185cf4fc",
   "metadata": {},
   "source": [
    "PutPriceAChart=[]\n",
    "columns = []\n",
    "for i in range(N, -1, -1):\n",
    "    chart = []\n",
    "    columns.append(N-i)\n",
    "    for j in range(0,i):\n",
    "        chart.append(\"\")\n",
    "    for j in range(i, N+1):\n",
    "        chart.append(PutPriceA()[j][i])\n",
    "    PutPriceAChart.append(chart)\n",
    "df = pd.DataFrame(PutPriceAChart, columns = columns)\n",
    "df.style.hide_index()"
   ]
  },
  {
   "attachments": {},
   "cell_type": "markdown",
   "id": "4e3604b6",
   "metadata": {},
   "source": [
    "PutPriceAKChart=[]\n",
    "columns = []\n",
    "for i in range(N, -1, -1):\n",
    "    chart = []\n",
    "    columns.append(N-i)\n",
    "    for j in range(0,i):\n",
    "        chart.append(\"\")\n",
    "    for j in range(i, N+1):\n",
    "        chart.append(PutPriceAK[j][i])\n",
    "    PutPriceAKChart.append(chart)\n",
    "df = pd.DataFrame(PutPriceAKChart, columns = columns)\n",
    "df.style.hide_index()"
   ]
  },
  {
   "attachments": {},
   "cell_type": "markdown",
   "id": "5e68d11f",
   "metadata": {},
   "source": [
    "for i in range(0, N+1):\n",
    "    for j in range(i,-1,-1):\n",
    "        print(PutPriceA[i][j])\n",
    "    print(\"\\n\")"
   ]
  },
  {
   "attachments": {},
   "cell_type": "markdown",
   "id": "17b8c0ca",
   "metadata": {},
   "source": [
    "for i in range(0, N+1):\n",
    "    for j in range(i,-1,-1):\n",
    "        print(CallPriceA[i][j])\n",
    "    print(\"\\n\")"
   ]
  },
  {
   "attachments": {},
   "cell_type": "markdown",
   "id": "5184d08c",
   "metadata": {},
   "source": [
    "for i in range(0, t+1):\n",
    "    for j in range(i,-1,-1):\n",
    "        print(chooserA[i][j])\n",
    "    print(\"\\n\")"
   ]
  },
  {
   "attachments": {},
   "cell_type": "markdown",
   "id": "6f40a9c3",
   "metadata": {},
   "source": [
    "for i in range(0, N+1):\n",
    "    for j in range(i,-1,-1):\n",
    "        print(CallPriceE[i][j])\n",
    "    print(\"\\n\")"
   ]
  },
  {
   "attachments": {},
   "cell_type": "markdown",
   "id": "6a592461",
   "metadata": {},
   "source": [
    "PutPriceEKChart=[]\n",
    "columns = []\n",
    "for i in range(N, -1, -1):\n",
    "    chart = []\n",
    "    columns.append(N-i)\n",
    "    for j in range(0,i):\n",
    "        chart.append(\"\")\n",
    "    for j in range(i, N+1):\n",
    "        chart.append(PutPriceEK[j][i])\n",
    "    PutPriceEKChart.append(chart)\n",
    "df = pd.DataFrame(PutPriceEKChart, columns = columns)\n",
    "df.style.hide_index()"
   ]
  },
  {
   "attachments": {},
   "cell_type": "markdown",
   "id": "8e3dd9bf",
   "metadata": {},
   "source": [
    "for i in range(0, N+1):\n",
    "    for j in range(i,-1,-1):\n",
    "        print(PutPriceE[i][j])\n",
    "    print(\"\\n\")"
   ]
  },
  {
   "attachments": {},
   "cell_type": "markdown",
   "id": "714d8301",
   "metadata": {},
   "source": [
    "for i in range(0, N+1):\n",
    "    for j in range(i,-1,-1):\n",
    "        print(straddleED[i][j])\n",
    "    print(\"\\n\")"
   ]
  },
  {
   "attachments": {},
   "cell_type": "markdown",
   "id": "b1e566ce",
   "metadata": {},
   "source": [
    "for i in range(0, t+1):\n",
    "    for j in range(i,-1,-1):\n",
    "        print(ChooserE()[i][j])\n",
    "    print(\"\\n\")"
   ]
  },
  {
   "attachments": {},
   "cell_type": "markdown",
   "id": "4ea0e36f",
   "metadata": {},
   "source": [
    "for i in range(0, t+1):\n",
    "    for j in range(i,-1,-1):\n",
    "        print(NewEP[i][j])\n",
    "    print(\"\\n\")"
   ]
  },
  {
   "attachments": {},
   "cell_type": "markdown",
   "id": "8299dfef",
   "metadata": {},
   "source": [
    "for i in range(0, N):\n",
    "    for j in range(i,-1,-1):\n",
    "        print(BerCallIntri[i][j])\n",
    "    print(\"\\n\")"
   ]
  },
  {
   "attachments": {},
   "cell_type": "markdown",
   "id": "b345498a",
   "metadata": {},
   "source": [
    "for i in range(0, N+1):\n",
    "    for j in range(i,-1,-1):\n",
    "        print(BerCallPrice[i][j])\n",
    "    print(\"\\n\")"
   ]
  },
  {
   "attachments": {},
   "cell_type": "markdown",
   "id": "18d728db",
   "metadata": {},
   "source": [
    "for i in range(0,EuroChooserK2):\n",
    "    for j in range(i,-1,-1):\n",
    "        print(BermudanE[i][j])\n",
    "    print(\"\\n\")"
   ]
  },
  {
   "attachments": {},
   "cell_type": "markdown",
   "id": "56cdfdfe",
   "metadata": {},
   "source": [
    "for i in range(0,EuroChooserK2):\n",
    "    for j in range(i,-1,-1):\n",
    "        print(BermudanA[i][j])\n",
    "    print(\"\\n\")"
   ]
  },
  {
   "attachments": {},
   "cell_type": "markdown",
   "id": "b59e1097",
   "metadata": {},
   "source": [
    "def BS():\n",
    "    \n",
    "    return exp(-r*N)*K*"
   ]
  },
  {
   "cell_type": "code",
   "execution_count": 1255,
   "id": "c92a3bab",
   "metadata": {},
   "outputs": [
    {
     "name": "stdout",
     "output_type": "stream",
     "text": [
      "\n",
      "     ____30___\n",
      "    /         \\\n",
      "  _44         _16\n",
      " /   \\       /   \\\n",
      "58    30    30    2\n",
      "\n"
     ]
    }
   ],
   "source": [
    "# Ignore this for now ... I was considering using a different datatype than dict to store these trees\n",
    "from binarytree import Node\n",
    "stockPriceTree = Node(S0)\n",
    "stockPriceTree.left = Node(S0 + drift + vol)\n",
    "stockPriceTree.right = Node(S0 + drift - vol)\n",
    "#print(stockPriceTree)\n",
    "stockPriceTree.left.left = Node(S0+2*drift+2*vol)\n",
    "stockPriceTree.right.right = Node(S0+2*drift-2*vol)\n",
    "#print(stockPriceTree)\n",
    "stockPriceTree.left.right = Node(S0+2*drift)\n",
    "stockPriceTree.right.left = stockPriceTree.left.right\n",
    "print(stockPriceTree)\n",
    "\n",
    "#print(stockPriceTree is stockPriceTree.left.right)"
   ]
  },
  {
   "cell_type": "code",
   "execution_count": 1256,
   "id": "2674fe62",
   "metadata": {},
   "outputs": [
    {
     "data": {
      "image/png": "[encoded data removed]",
      "text/plain": [
       "<Figure size 640x480 with 1 Axes>"
      ]
     },
     "metadata": {},
     "output_type": "display_data"
    },
    {
     "name": "stderr",
     "output_type": "stream",
     "text": [
      "/var/folders/v2/8kmltg8j0d1glmqdfvfvmprc0000gn/T/ipykernel_33897/1105197269.py:15: FutureWarning: this method is deprecated in favour of `Styler.hide(axis=\"index\")`\n",
      "  return df.style.hide_index()\n"
     ]
    },
    {
     "data": {
      "text/html": [
       "<style type=\"text/css\">\n",
       "</style>\n",
       "<table id=\"T_50021\">\n",
       "  <thead>\n",
       "    <tr>\n",
       "      <th id=\"T_50021_level0_col0\" class=\"col_heading level0 col0\" >0</th>\n",
       "      <th id=\"T_50021_level0_col1\" class=\"col_heading level0 col1\" >1</th>\n",
       "      <th id=\"T_50021_level0_col2\" class=\"col_heading level0 col2\" >2</th>\n",
       "      <th id=\"T_50021_level0_col3\" class=\"col_heading level0 col3\" >3</th>\n",
       "      <th id=\"T_50021_level0_col4\" class=\"col_heading level0 col4\" >4</th>\n",
       "    </tr>\n",
       "  </thead>\n",
       "  <tbody>\n",
       "    <tr>\n",
       "      <td id=\"T_50021_row0_col0\" class=\"data row0 col0\" ></td>\n",
       "      <td id=\"T_50021_row0_col1\" class=\"data row0 col1\" ></td>\n",
       "      <td id=\"T_50021_row0_col2\" class=\"data row0 col2\" ></td>\n",
       "      <td id=\"T_50021_row0_col3\" class=\"data row0 col3\" ></td>\n",
       "      <td id=\"T_50021_row0_col4\" class=\"data row0 col4\" >[86.0, 2.0]</td>\n",
       "    </tr>\n",
       "    <tr>\n",
       "      <td id=\"T_50021_row1_col0\" class=\"data row1 col0\" ></td>\n",
       "      <td id=\"T_50021_row1_col1\" class=\"data row1 col1\" ></td>\n",
       "      <td id=\"T_50021_row1_col2\" class=\"data row1 col2\" ></td>\n",
       "      <td id=\"T_50021_row1_col3\" class=\"data row1 col3\" >[73.86046511627907, 2.0]</td>\n",
       "      <td id=\"T_50021_row1_col4\" class=\"data row1 col4\" >[58.0, 2.0]</td>\n",
       "    </tr>\n",
       "    <tr>\n",
       "      <td id=\"T_50021_row2_col0\" class=\"data row2 col0\" ></td>\n",
       "      <td id=\"T_50021_row2_col1\" class=\"data row2 col1\" ></td>\n",
       "      <td id=\"T_50021_row2_col2\" class=\"data row2 col2\" >[64.09256786826882, 2.0]</td>\n",
       "      <td id=\"T_50021_row2_col3\" class=\"data row2 col3\" >[53.349429912810194, 2.0]</td>\n",
       "      <td id=\"T_50021_row2_col4\" class=\"data row2 col4\" >[50, 2.0]</td>\n",
       "    </tr>\n",
       "    <tr>\n",
       "      <td id=\"T_50021_row3_col0\" class=\"data row3 col0\" ></td>\n",
       "      <td id=\"T_50021_row3_col1\" class=\"data row3 col1\" >[53.779498504972025, 2.0]</td>\n",
       "      <td id=\"T_50021_row3_col2\" class=\"data row3 col2\" >[41.93033672883783, 2.0]</td>\n",
       "      <td id=\"T_50021_row3_col3\" class=\"data row3 col3\" >[28.32552471225457, 2.0]</td>\n",
       "      <td id=\"T_50021_row3_col4\" class=\"data row3 col4\" >[4.8, 0]</td>\n",
       "    </tr>\n",
       "    <tr>\n",
       "      <td id=\"T_50021_row4_col0\" class=\"data row4 col0\" >[40.669273426903096, 2.0]</td>\n",
       "      <td id=\"T_50021_row4_col1\" class=\"data row4 col1\" >[24.700652371469342, 2.0]</td>\n",
       "      <td id=\"T_50021_row4_col2\" class=\"data row4 col2\" >[3.790690589031821, 2.0]</td>\n",
       "      <td id=\"T_50021_row4_col3\" class=\"data row4 col3\" >[0, 0]</td>\n",
       "      <td id=\"T_50021_row4_col4\" class=\"data row4 col4\" >[0.0, 0]</td>\n",
       "    </tr>\n",
       "  </tbody>\n",
       "</table>\n"
      ],
      "text/plain": [
       "<pandas.io.formats.style.Styler at 0x1247973d0>"
      ]
     },
     "execution_count": 1256,
     "metadata": {},
     "output_type": "execute_result"
    }
   ],
   "source": [
    "# Code copied and modified from https://stackoverflow.com/questions/59028711/plotting-a-binary-tree-in-matplotlib\n",
    "# For the sake of better visualizations\n",
    "import matplotlib.pyplot as plt\n",
    "from matplotlib.collections import LineCollection\n",
    "from matplotlib import colors as mcolors\n",
    "\n",
    "def bintree_level(tab, level):#levels, x, y, depth_dist, width_up, width_down):\n",
    "    #display(tab)\n",
    "    N = len(tab)+level-1\n",
    "    if level == N: return []\n",
    "    segments = []\n",
    "    x = level*10\n",
    "    y = tab[level][0]\n",
    "    xl = x + 10\n",
    "    yl = tab[level+1][0]\n",
    "    xr = x + 10\n",
    "    yr = tab[level+1][1]\n",
    "    if type(y) == list:\n",
    "        y = y[0]\n",
    "        yl = yl[0]\n",
    "        yr = yr[0]\n",
    "    segments.append([[x, y], [xl, yl]])\n",
    "    if y != 0:\n",
    "        segments.append([[x, y], [xr, yr]])\n",
    "    tab_up = {i:tab[i][1:] for i in range(level+1, N+1)}\n",
    "    tab_down = {i:tab[i][:-1] for i in range(level+1, N+1)}\n",
    "    #if level < N:\n",
    "    segments += bintree_level(tab_up, level+1)\n",
    "    segments += bintree_level(tab_down, level+1)\n",
    "    return segments\n",
    "\n",
    "def draw_tree(tab): # Eg stock price table SP\n",
    "    width_up = 10\n",
    "    width_down = 10\n",
    "    depth_dist = 10\n",
    "    levels = len(tab)-1\n",
    "\n",
    "    segs = bintree_level(tab, 0) ## IMPORTANT\n",
    "\n",
    "    colors = [mcolors.to_rgba(c)\n",
    "            for c in plt.rcParams['axes.prop_cycle'].by_key()['color']]\n",
    "    \n",
    "    line_segments = LineCollection(segs, linewidths=1, colors=colors, linestyle='solid')\n",
    "\n",
    "    fig, ax = plt.subplots()\n",
    "    y_upperlim = tab[levels][-1]\n",
    "    if type(y_upperlim) == list:\n",
    "        y_upperlim = y_upperlim[0]\n",
    "    ax.set_xlim(0, levels * depth_dist + 1)\n",
    "    ax.set_ylim(0, y_upperlim+5)\n",
    "    ax.add_collection(line_segments)\n",
    "    plt.show()\n",
    "\n",
    "draw_tree(cBond)\n",
    "displayChart(cBond)"
   ]
  },
  {
   "cell_type": "code",
   "execution_count": 1257,
   "id": "c8fda0d5",
   "metadata": {},
   "outputs": [
    {
     "name": "stderr",
     "output_type": "stream",
     "text": [
      "/var/folders/v2/8kmltg8j0d1glmqdfvfvmprc0000gn/T/ipykernel_33897/1105197269.py:15: FutureWarning: this method is deprecated in favour of `Styler.hide(axis=\"index\")`\n",
      "  return df.style.hide_index()\n"
     ]
    },
    {
     "data": {
      "text/html": [
       "<style type=\"text/css\">\n",
       "</style>\n",
       "<table id=\"T_b096e\">\n",
       "  <thead>\n",
       "    <tr>\n",
       "      <th id=\"T_b096e_level0_col0\" class=\"col_heading level0 col0\" >0</th>\n",
       "      <th id=\"T_b096e_level0_col1\" class=\"col_heading level0 col1\" >1</th>\n",
       "      <th id=\"T_b096e_level0_col2\" class=\"col_heading level0 col2\" >2</th>\n",
       "      <th id=\"T_b096e_level0_col3\" class=\"col_heading level0 col3\" >3</th>\n",
       "    </tr>\n",
       "  </thead>\n",
       "  <tbody>\n",
       "    <tr>\n",
       "      <td id=\"T_b096e_row0_col0\" class=\"data row0 col0\" ></td>\n",
       "      <td id=\"T_b096e_row0_col1\" class=\"data row0 col1\" ></td>\n",
       "      <td id=\"T_b096e_row0_col2\" class=\"data row0 col2\" ></td>\n",
       "      <td id=\"T_b096e_row0_col3\" class=\"data row0 col3\" >0.692857</td>\n",
       "    </tr>\n",
       "    <tr>\n",
       "      <td id=\"T_b096e_row1_col0\" class=\"data row1 col0\" ></td>\n",
       "      <td id=\"T_b096e_row1_col1\" class=\"data row1 col1\" ></td>\n",
       "      <td id=\"T_b096e_row1_col2\" class=\"data row1 col2\" >0.645000</td>\n",
       "      <td id=\"T_b096e_row1_col3\" class=\"data row1 col3\" >0.602143</td>\n",
       "    </tr>\n",
       "    <tr>\n",
       "      <td id=\"T_b096e_row2_col0\" class=\"data row2 col0\" ></td>\n",
       "      <td id=\"T_b096e_row2_col1\" class=\"data row2 col1\" >0.602143</td>\n",
       "      <td id=\"T_b096e_row2_col2\" class=\"data row2 col2\" >0.564286</td>\n",
       "      <td id=\"T_b096e_row2_col3\" class=\"data row2 col3\" >0.531429</td>\n",
       "    </tr>\n",
       "    <tr>\n",
       "      <td id=\"T_b096e_row3_col0\" class=\"data row3 col0\" >0.564286</td>\n",
       "      <td id=\"T_b096e_row3_col1\" class=\"data row3 col1\" >0.531429</td>\n",
       "      <td id=\"T_b096e_row3_col2\" class=\"data row3 col2\" >0.131250</td>\n",
       "      <td id=\"T_b096e_row3_col3\" class=\"data row3 col3\" >0.000000</td>\n",
       "    </tr>\n",
       "  </tbody>\n",
       "</table>\n"
      ],
      "text/plain": [
       "<pandas.io.formats.style.Styler at 0x124c85650>"
      ]
     },
     "execution_count": 1257,
     "metadata": {},
     "output_type": "execute_result"
    }
   ],
   "source": [
    "displayChart(p_vals)"
   ]
  },
  {
   "cell_type": "code",
   "execution_count": 1258,
   "id": "5b5abc27",
   "metadata": {},
   "outputs": [
    {
     "name": "stderr",
     "output_type": "stream",
     "text": [
      "/var/folders/v2/8kmltg8j0d1glmqdfvfvmprc0000gn/T/ipykernel_33897/1105197269.py:15: FutureWarning: this method is deprecated in favour of `Styler.hide(axis=\"index\")`\n",
      "  return df.style.hide_index()\n"
     ]
    },
    {
     "data": {
      "text/html": [
       "<style type=\"text/css\">\n",
       "</style>\n",
       "<table id=\"T_8fc73\">\n",
       "  <thead>\n",
       "    <tr>\n",
       "      <th id=\"T_8fc73_level0_col0\" class=\"col_heading level0 col0\" >0</th>\n",
       "      <th id=\"T_8fc73_level0_col1\" class=\"col_heading level0 col1\" >1</th>\n",
       "      <th id=\"T_8fc73_level0_col2\" class=\"col_heading level0 col2\" >2</th>\n",
       "      <th id=\"T_8fc73_level0_col3\" class=\"col_heading level0 col3\" >3</th>\n",
       "      <th id=\"T_8fc73_level0_col4\" class=\"col_heading level0 col4\" >4</th>\n",
       "    </tr>\n",
       "  </thead>\n",
       "  <tbody>\n",
       "    <tr>\n",
       "      <td id=\"T_8fc73_row0_col0\" class=\"data row0 col0\" ></td>\n",
       "      <td id=\"T_8fc73_row0_col1\" class=\"data row0 col1\" ></td>\n",
       "      <td id=\"T_8fc73_row0_col2\" class=\"data row0 col2\" ></td>\n",
       "      <td id=\"T_8fc73_row0_col3\" class=\"data row0 col3\" ></td>\n",
       "      <td id=\"T_8fc73_row0_col4\" class=\"data row0 col4\" >0.080000</td>\n",
       "    </tr>\n",
       "    <tr>\n",
       "      <td id=\"T_8fc73_row1_col0\" class=\"data row1 col0\" ></td>\n",
       "      <td id=\"T_8fc73_row1_col1\" class=\"data row1 col1\" ></td>\n",
       "      <td id=\"T_8fc73_row1_col2\" class=\"data row1 col2\" ></td>\n",
       "      <td id=\"T_8fc73_row1_col3\" class=\"data row1 col3\" >0.075000</td>\n",
       "      <td id=\"T_8fc73_row1_col4\" class=\"data row1 col4\" >0.070000</td>\n",
       "    </tr>\n",
       "    <tr>\n",
       "      <td id=\"T_8fc73_row2_col0\" class=\"data row2 col0\" ></td>\n",
       "      <td id=\"T_8fc73_row2_col1\" class=\"data row2 col1\" ></td>\n",
       "      <td id=\"T_8fc73_row2_col2\" class=\"data row2 col2\" >0.070000</td>\n",
       "      <td id=\"T_8fc73_row2_col3\" class=\"data row2 col3\" >0.065000</td>\n",
       "      <td id=\"T_8fc73_row2_col4\" class=\"data row2 col4\" >0.060000</td>\n",
       "    </tr>\n",
       "    <tr>\n",
       "      <td id=\"T_8fc73_row3_col0\" class=\"data row3 col0\" ></td>\n",
       "      <td id=\"T_8fc73_row3_col1\" class=\"data row3 col1\" >0.065000</td>\n",
       "      <td id=\"T_8fc73_row3_col2\" class=\"data row3 col2\" >0.060000</td>\n",
       "      <td id=\"T_8fc73_row3_col3\" class=\"data row3 col3\" >0.055000</td>\n",
       "      <td id=\"T_8fc73_row3_col4\" class=\"data row3 col4\" >0.050000</td>\n",
       "    </tr>\n",
       "    <tr>\n",
       "      <td id=\"T_8fc73_row4_col0\" class=\"data row4 col0\" >0.060000</td>\n",
       "      <td id=\"T_8fc73_row4_col1\" class=\"data row4 col1\" >0.055000</td>\n",
       "      <td id=\"T_8fc73_row4_col2\" class=\"data row4 col2\" >0.050000</td>\n",
       "      <td id=\"T_8fc73_row4_col3\" class=\"data row4 col3\" >0.045000</td>\n",
       "      <td id=\"T_8fc73_row4_col4\" class=\"data row4 col4\" >0.040000</td>\n",
       "    </tr>\n",
       "  </tbody>\n",
       "</table>\n"
      ],
      "text/plain": [
       "<pandas.io.formats.style.Styler at 0x124d369d0>"
      ]
     },
     "execution_count": 1258,
     "metadata": {},
     "output_type": "execute_result"
    }
   ],
   "source": [
    "displayChart(rates)"
   ]
  }
 ],
 "metadata": {
  "kernelspec": {
   "display_name": "Python 3",
   "language": "python",
   "name": "python3"
  },
  "language_info": {
   "codemirror_mode": {
    "name": "ipython",
    "version": 3
   },
   "file_extension": ".py",
   "mimetype": "text/x-python",
   "name": "python",
   "nbconvert_exporter": "python",
   "pygments_lexer": "ipython3",
   "version": "3.11.3"
  }
 },
 "nbformat": 4,
 "nbformat_minor": 5
}
