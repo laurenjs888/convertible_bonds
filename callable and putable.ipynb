{
 "cells": [
  {
   "cell_type": "code",
   "execution_count": 139,
   "id": "595497ea",
   "metadata": {},
   "outputs": [],
   "source": [
    "import pandas as pd\n",
    "import numpy as np\n",
    "import matplotlib as mpl\n",
    "import math\n",
    "import copy"
   ]
  },
  {
   "cell_type": "code",
   "execution_count": 140,
   "id": "d7d5ceea",
   "metadata": {},
   "outputs": [],
   "source": [
    "# def makeDataFrame(filename):\n",
    "#     data=pd.read_csv(filename)\n",
    "#     df=pd.DataFrame(data,columns=['Adj Close'])\n",
    "#     print(df)\n",
    "#     s=df.values.tolist()\n",
    "#     return s "
   ]
  },
  {
   "attachments": {},
   "cell_type": "markdown",
   "id": "1d001c54",
   "metadata": {},
   "source": [
    "makeDataFrame(filename)"
   ]
  },
  {
   "cell_type": "code",
   "execution_count": 141,
   "id": "4ff9820c",
   "metadata": {},
   "outputs": [],
   "source": [
    "# parameters\n",
    "S0=30\n",
    "r=0\n",
    "t=4\n",
    "u=1+r+math.sqrt((1+r)**2-1) \n",
    "drift=0\n",
    "vol=10 # for additive amount, how much to add\n",
    "d=(1+r)/u\n",
    "face=50\n",
    "coupon_rate = 0.04\n",
    "coupon = coupon_rate*face\n",
    "default_threshold = 1/3\n",
    "bankrupcy_ratio = 2.4\n",
    "K=55 # call at this value\n",
    "Pu=50 # put at this value"
   ]
  },
  {
   "cell_type": "code",
   "execution_count": 142,
   "id": "a1d50b86",
   "metadata": {},
   "outputs": [],
   "source": [
    "def g(x): # payoff function e.g for a call it would be max(0, x-K)\n",
    "    if x==0:\n",
    "        return [0, 0]\n",
    "    if x <= default_threshold*S0:\n",
    "        return [x*bankrupcy_ratio, 0]\n",
    "    return [face, coupon] # first entry is the actual value, second is dividends or coupons"
   ]
  },
  {
   "attachments": {},
   "cell_type": "markdown",
   "id": "10689cfc",
   "metadata": {},
   "source": [
    "K2 has to be greater than K1"
   ]
  },
  {
   "cell_type": "code",
   "execution_count": 143,
   "id": "00d54a6f",
   "metadata": {},
   "outputs": [
    {
     "name": "stdout",
     "output_type": "stream",
     "text": [
      "0.5 0.5\n"
     ]
    }
   ],
   "source": [
    "p=0.5#(1+r-d)/(u-d)\n",
    "q=1-p\n",
    "p=1-q # fixes floating-point errors hopefully\n",
    "print(p, q) # only use these in the multiplicative model"
   ]
  },
  {
   "cell_type": "code",
   "execution_count": 144,
   "id": "104486ab",
   "metadata": {},
   "outputs": [],
   "source": [
    "def nSigFigs(num, n):\n",
    "    #print(num == np.nan)\n",
    "    if type(num) not in [float, int, np.float64] or num == float(\"NaN\"): return float(\"NaN\")\n",
    "    return int(num * 10**n) / 10**n"
   ]
  },
  {
   "cell_type": "code",
   "execution_count": 145,
   "id": "a3df1baf",
   "metadata": {},
   "outputs": [],
   "source": [
    "def displayChart(tab):\n",
    "    Chart=[]\n",
    "    columns = []\n",
    "    N = len(tab)-1\n",
    "    for i in range(N, -1, -1):\n",
    "        chart = []\n",
    "        columns.append(N-i)\n",
    "        for j in range(0,i):\n",
    "            chart.append(\"\")\n",
    "        for j in range(i, N+1):\n",
    "            entry = tab[j][i]\n",
    "            chart.append(entry)\n",
    "        Chart.append(chart)\n",
    "    df = pd.DataFrame(Chart, columns = columns)\n",
    "    return df.style.hide_index()"
   ]
  },
  {
   "cell_type": "code",
   "execution_count": 146,
   "id": "f7888ca6",
   "metadata": {},
   "outputs": [
    {
     "name": "stdout",
     "output_type": "stream",
     "text": [
      "interest rates\n"
     ]
    },
    {
     "data": {
      "text/html": [
       "<style  type=\"text/css\" >\n",
       "</style><table id=\"T_7d16b696_200f_11ee_a60f_acde48001122\" ><thead>    <tr>        <th class=\"col_heading level0 col0\" >0</th>        <th class=\"col_heading level0 col1\" >1</th>        <th class=\"col_heading level0 col2\" >2</th>        <th class=\"col_heading level0 col3\" >3</th>        <th class=\"col_heading level0 col4\" >4</th>    </tr></thead><tbody>\n",
       "                <tr>\n",
       "                                <td id=\"T_7d16b696_200f_11ee_a60f_acde48001122row0_col0\" class=\"data row0 col0\" ></td>\n",
       "                        <td id=\"T_7d16b696_200f_11ee_a60f_acde48001122row0_col1\" class=\"data row0 col1\" ></td>\n",
       "                        <td id=\"T_7d16b696_200f_11ee_a60f_acde48001122row0_col2\" class=\"data row0 col2\" ></td>\n",
       "                        <td id=\"T_7d16b696_200f_11ee_a60f_acde48001122row0_col3\" class=\"data row0 col3\" ></td>\n",
       "                        <td id=\"T_7d16b696_200f_11ee_a60f_acde48001122row0_col4\" class=\"data row0 col4\" >0</td>\n",
       "            </tr>\n",
       "            <tr>\n",
       "                                <td id=\"T_7d16b696_200f_11ee_a60f_acde48001122row1_col0\" class=\"data row1 col0\" ></td>\n",
       "                        <td id=\"T_7d16b696_200f_11ee_a60f_acde48001122row1_col1\" class=\"data row1 col1\" ></td>\n",
       "                        <td id=\"T_7d16b696_200f_11ee_a60f_acde48001122row1_col2\" class=\"data row1 col2\" ></td>\n",
       "                        <td id=\"T_7d16b696_200f_11ee_a60f_acde48001122row1_col3\" class=\"data row1 col3\" >0</td>\n",
       "                        <td id=\"T_7d16b696_200f_11ee_a60f_acde48001122row1_col4\" class=\"data row1 col4\" >0</td>\n",
       "            </tr>\n",
       "            <tr>\n",
       "                                <td id=\"T_7d16b696_200f_11ee_a60f_acde48001122row2_col0\" class=\"data row2 col0\" ></td>\n",
       "                        <td id=\"T_7d16b696_200f_11ee_a60f_acde48001122row2_col1\" class=\"data row2 col1\" ></td>\n",
       "                        <td id=\"T_7d16b696_200f_11ee_a60f_acde48001122row2_col2\" class=\"data row2 col2\" >0</td>\n",
       "                        <td id=\"T_7d16b696_200f_11ee_a60f_acde48001122row2_col3\" class=\"data row2 col3\" >0</td>\n",
       "                        <td id=\"T_7d16b696_200f_11ee_a60f_acde48001122row2_col4\" class=\"data row2 col4\" >0</td>\n",
       "            </tr>\n",
       "            <tr>\n",
       "                                <td id=\"T_7d16b696_200f_11ee_a60f_acde48001122row3_col0\" class=\"data row3 col0\" ></td>\n",
       "                        <td id=\"T_7d16b696_200f_11ee_a60f_acde48001122row3_col1\" class=\"data row3 col1\" >0</td>\n",
       "                        <td id=\"T_7d16b696_200f_11ee_a60f_acde48001122row3_col2\" class=\"data row3 col2\" >0</td>\n",
       "                        <td id=\"T_7d16b696_200f_11ee_a60f_acde48001122row3_col3\" class=\"data row3 col3\" >0</td>\n",
       "                        <td id=\"T_7d16b696_200f_11ee_a60f_acde48001122row3_col4\" class=\"data row3 col4\" >0</td>\n",
       "            </tr>\n",
       "            <tr>\n",
       "                                <td id=\"T_7d16b696_200f_11ee_a60f_acde48001122row4_col0\" class=\"data row4 col0\" >0</td>\n",
       "                        <td id=\"T_7d16b696_200f_11ee_a60f_acde48001122row4_col1\" class=\"data row4 col1\" >0</td>\n",
       "                        <td id=\"T_7d16b696_200f_11ee_a60f_acde48001122row4_col2\" class=\"data row4 col2\" >0</td>\n",
       "                        <td id=\"T_7d16b696_200f_11ee_a60f_acde48001122row4_col3\" class=\"data row4 col3\" >0</td>\n",
       "                        <td id=\"T_7d16b696_200f_11ee_a60f_acde48001122row4_col4\" class=\"data row4 col4\" >0</td>\n",
       "            </tr>\n",
       "    </tbody></table>"
      ],
      "text/plain": [
       "<pandas.io.formats.style.Styler at 0x7f966f56e450>"
      ]
     },
     "execution_count": 146,
     "metadata": {},
     "output_type": "execute_result"
    }
   ],
   "source": [
    "def r_values(drift, vol):\n",
    "    R = {}\n",
    "    for i in range(t, -1, -1):\n",
    "        R[i] = r + i*drift - vol*np.arange(i, -1, -1) + vol*np.arange(0, i+1, 1)\n",
    "    return R\n",
    "\n",
    "rates = r_values(0, 0)\n",
    "print(\"interest rates\")\n",
    "displayChart(rates)"
   ]
  },
  {
   "cell_type": "code",
   "execution_count": 147,
   "id": "b59454a5",
   "metadata": {},
   "outputs": [
    {
     "name": "stdout",
     "output_type": "stream",
     "text": [
      "stock price\n"
     ]
    },
    {
     "data": {
      "text/html": [
       "<style  type=\"text/css\" >\n",
       "</style><table id=\"T_7d193754_200f_11ee_a60f_acde48001122\" ><thead>    <tr>        <th class=\"col_heading level0 col0\" >0</th>        <th class=\"col_heading level0 col1\" >1</th>        <th class=\"col_heading level0 col2\" >2</th>        <th class=\"col_heading level0 col3\" >3</th>        <th class=\"col_heading level0 col4\" >4</th>    </tr></thead><tbody>\n",
       "                <tr>\n",
       "                                <td id=\"T_7d193754_200f_11ee_a60f_acde48001122row0_col0\" class=\"data row0 col0\" ></td>\n",
       "                        <td id=\"T_7d193754_200f_11ee_a60f_acde48001122row0_col1\" class=\"data row0 col1\" ></td>\n",
       "                        <td id=\"T_7d193754_200f_11ee_a60f_acde48001122row0_col2\" class=\"data row0 col2\" ></td>\n",
       "                        <td id=\"T_7d193754_200f_11ee_a60f_acde48001122row0_col3\" class=\"data row0 col3\" ></td>\n",
       "                        <td id=\"T_7d193754_200f_11ee_a60f_acde48001122row0_col4\" class=\"data row0 col4\" >70.000000</td>\n",
       "            </tr>\n",
       "            <tr>\n",
       "                                <td id=\"T_7d193754_200f_11ee_a60f_acde48001122row1_col0\" class=\"data row1 col0\" ></td>\n",
       "                        <td id=\"T_7d193754_200f_11ee_a60f_acde48001122row1_col1\" class=\"data row1 col1\" ></td>\n",
       "                        <td id=\"T_7d193754_200f_11ee_a60f_acde48001122row1_col2\" class=\"data row1 col2\" ></td>\n",
       "                        <td id=\"T_7d193754_200f_11ee_a60f_acde48001122row1_col3\" class=\"data row1 col3\" >60.000000</td>\n",
       "                        <td id=\"T_7d193754_200f_11ee_a60f_acde48001122row1_col4\" class=\"data row1 col4\" >50.000000</td>\n",
       "            </tr>\n",
       "            <tr>\n",
       "                                <td id=\"T_7d193754_200f_11ee_a60f_acde48001122row2_col0\" class=\"data row2 col0\" ></td>\n",
       "                        <td id=\"T_7d193754_200f_11ee_a60f_acde48001122row2_col1\" class=\"data row2 col1\" ></td>\n",
       "                        <td id=\"T_7d193754_200f_11ee_a60f_acde48001122row2_col2\" class=\"data row2 col2\" >50.000000</td>\n",
       "                        <td id=\"T_7d193754_200f_11ee_a60f_acde48001122row2_col3\" class=\"data row2 col3\" >40.000000</td>\n",
       "                        <td id=\"T_7d193754_200f_11ee_a60f_acde48001122row2_col4\" class=\"data row2 col4\" >30.000000</td>\n",
       "            </tr>\n",
       "            <tr>\n",
       "                                <td id=\"T_7d193754_200f_11ee_a60f_acde48001122row3_col0\" class=\"data row3 col0\" ></td>\n",
       "                        <td id=\"T_7d193754_200f_11ee_a60f_acde48001122row3_col1\" class=\"data row3 col1\" >40.000000</td>\n",
       "                        <td id=\"T_7d193754_200f_11ee_a60f_acde48001122row3_col2\" class=\"data row3 col2\" >30.000000</td>\n",
       "                        <td id=\"T_7d193754_200f_11ee_a60f_acde48001122row3_col3\" class=\"data row3 col3\" >20.000000</td>\n",
       "                        <td id=\"T_7d193754_200f_11ee_a60f_acde48001122row3_col4\" class=\"data row3 col4\" >10.000000</td>\n",
       "            </tr>\n",
       "            <tr>\n",
       "                                <td id=\"T_7d193754_200f_11ee_a60f_acde48001122row4_col0\" class=\"data row4 col0\" >30.000000</td>\n",
       "                        <td id=\"T_7d193754_200f_11ee_a60f_acde48001122row4_col1\" class=\"data row4 col1\" >20.000000</td>\n",
       "                        <td id=\"T_7d193754_200f_11ee_a60f_acde48001122row4_col2\" class=\"data row4 col2\" >10.000000</td>\n",
       "                        <td id=\"T_7d193754_200f_11ee_a60f_acde48001122row4_col3\" class=\"data row4 col3\" >0.000000</td>\n",
       "                        <td id=\"T_7d193754_200f_11ee_a60f_acde48001122row4_col4\" class=\"data row4 col4\" >0.000000</td>\n",
       "            </tr>\n",
       "    </tbody></table>"
      ],
      "text/plain": [
       "<pandas.io.formats.style.Styler at 0x7f966f5ef310>"
      ]
     },
     "execution_count": 147,
     "metadata": {},
     "output_type": "execute_result"
    }
   ],
   "source": [
    "def StockPrice(mode='a'): # a for additive, m for multiplicative\n",
    "    StockPrice={}\n",
    "    if mode == 'm':\n",
    "        for i in range(t, -1, -1):\n",
    "            StockPrice[i] = S0 * d ** (np.arange(i,-1,-1)) * u ** (np.arange(0,i+1,1)) #np.empty(N+1)\n",
    "\n",
    "    elif mode == 'a':\n",
    "        for i in range(t, -1, -1):\n",
    "            StockPrice[i] = np.maximum(np.zeros(i+1), S0 + i*drift - vol*np.arange(i, -1, -1) + vol*np.arange(0,i+1,1))\n",
    "    '''for n in range(0, N+1):\n",
    "        StockPrice[N].append(S0*(u**n)*(d**(N-n)))\n",
    "    for i in range(N-1, -1, -1):\n",
    "        StockPrice[i]=[] #np.empty(i+1)\n",
    "        for j in range(0, i+1):\n",
    "            StockPrice[i].append((StockPrice[i+1][j+1])/u)'''\n",
    "    return StockPrice\n",
    "\n",
    "SP = StockPrice()\n",
    "print(\"stock price\")\n",
    "displayChart(SP)\n",
    "\n",
    "# for i in range(t, -1, -1):\n",
    "#     print(str(i) + \": \"+str([nSigFigs(x, n=4) for x in SP[i]]))"
   ]
  },
  {
   "cell_type": "code",
   "execution_count": 148,
   "id": "76c0c50f",
   "metadata": {},
   "outputs": [
    {
     "name": "stdout",
     "output_type": "stream",
     "text": [
      "p tilde\n",
      "{0: [0.5000000000000001], 1: [0.5, 0.5], 2: [0.5, 0.5000000000000001, 0.5], 3: [-1, 0.5, 0.5, 0.49999999999999983], 4: [1, 1, 1, 1, 1]}\n"
     ]
    }
   ],
   "source": [
    "def p_values(stock_price_chart, rates):\n",
    "    P = {i: [1]*(i+1) for i in range(t+1)}\n",
    "    for i in range(0, t):\n",
    "        for j in range(i+1):\n",
    "            if stock_price_chart[i][j] == 0:\n",
    "                P[i][j] = -1\n",
    "            else:\n",
    "                d = stock_price_chart[i+1][j] / stock_price_chart[i][j]\n",
    "                u = stock_price_chart[i+1][j+1] / stock_price_chart[i][j]\n",
    "                P[i][j] = (1 + rates[i][j] - d) / (u-d)\n",
    "                # print(d)\n",
    "                # print(u)\n",
    "                # print(u-d)\n",
    "                # print(1+rates[i][j])\n",
    "                # print(1 + rates[i][j] - d)\n",
    "    return P\n",
    "\n",
    "p_vals = p_values(SP, rates)\n",
    "print(\"p tilde\")\n",
    "# displayChart(p_vals)\n",
    "print(p_vals)"
   ]
  },
  {
   "cell_type": "code",
   "execution_count": 149,
   "id": "e0ed9314",
   "metadata": {},
   "outputs": [],
   "source": [
    "# additive model\n",
    "def exp(x,y,p=p,r=r):\n",
    "    if p != -1:\n",
    "        return (x*p+y*(1-p))/(1+r)\n",
    "    return 0\n",
    "\n",
    "# multiplicative model\n",
    "def rnExp(x,y):\n",
    "    return exp(x,y,p,r)"
   ]
  },
  {
   "cell_type": "code",
   "execution_count": 150,
   "id": "dd42b446",
   "metadata": {},
   "outputs": [
    {
     "name": "stdout",
     "output_type": "stream",
     "text": [
      "Vanilla Bond payoff: [face value (after coupon), coupon]\n"
     ]
    },
    {
     "data": {
      "text/html": [
       "<style  type=\"text/css\" >\n",
       "</style><table id=\"T_7d1efba8_200f_11ee_a60f_acde48001122\" ><thead>    <tr>        <th class=\"col_heading level0 col0\" >0</th>        <th class=\"col_heading level0 col1\" >1</th>        <th class=\"col_heading level0 col2\" >2</th>        <th class=\"col_heading level0 col3\" >3</th>        <th class=\"col_heading level0 col4\" >4</th>    </tr></thead><tbody>\n",
       "                <tr>\n",
       "                                <td id=\"T_7d1efba8_200f_11ee_a60f_acde48001122row0_col0\" class=\"data row0 col0\" ></td>\n",
       "                        <td id=\"T_7d1efba8_200f_11ee_a60f_acde48001122row0_col1\" class=\"data row0 col1\" ></td>\n",
       "                        <td id=\"T_7d1efba8_200f_11ee_a60f_acde48001122row0_col2\" class=\"data row0 col2\" ></td>\n",
       "                        <td id=\"T_7d1efba8_200f_11ee_a60f_acde48001122row0_col3\" class=\"data row0 col3\" ></td>\n",
       "                        <td id=\"T_7d1efba8_200f_11ee_a60f_acde48001122row0_col4\" class=\"data row0 col4\" >[50, 2.0]</td>\n",
       "            </tr>\n",
       "            <tr>\n",
       "                                <td id=\"T_7d1efba8_200f_11ee_a60f_acde48001122row1_col0\" class=\"data row1 col0\" ></td>\n",
       "                        <td id=\"T_7d1efba8_200f_11ee_a60f_acde48001122row1_col1\" class=\"data row1 col1\" ></td>\n",
       "                        <td id=\"T_7d1efba8_200f_11ee_a60f_acde48001122row1_col2\" class=\"data row1 col2\" ></td>\n",
       "                        <td id=\"T_7d1efba8_200f_11ee_a60f_acde48001122row1_col3\" class=\"data row1 col3\" >[52.0, 2.0]</td>\n",
       "                        <td id=\"T_7d1efba8_200f_11ee_a60f_acde48001122row1_col4\" class=\"data row1 col4\" >[50, 2.0]</td>\n",
       "            </tr>\n",
       "            <tr>\n",
       "                                <td id=\"T_7d1efba8_200f_11ee_a60f_acde48001122row2_col0\" class=\"data row2 col0\" ></td>\n",
       "                        <td id=\"T_7d1efba8_200f_11ee_a60f_acde48001122row2_col1\" class=\"data row2 col1\" ></td>\n",
       "                        <td id=\"T_7d1efba8_200f_11ee_a60f_acde48001122row2_col2\" class=\"data row2 col2\" >[54.0, 2.0]</td>\n",
       "                        <td id=\"T_7d1efba8_200f_11ee_a60f_acde48001122row2_col3\" class=\"data row2 col3\" >[52.0, 2.0]</td>\n",
       "                        <td id=\"T_7d1efba8_200f_11ee_a60f_acde48001122row2_col4\" class=\"data row2 col4\" >[50, 2.0]</td>\n",
       "            </tr>\n",
       "            <tr>\n",
       "                                <td id=\"T_7d1efba8_200f_11ee_a60f_acde48001122row3_col0\" class=\"data row3 col0\" ></td>\n",
       "                        <td id=\"T_7d1efba8_200f_11ee_a60f_acde48001122row3_col1\" class=\"data row3 col1\" >[52.5, 2.0]</td>\n",
       "                        <td id=\"T_7d1efba8_200f_11ee_a60f_acde48001122row3_col2\" class=\"data row3 col2\" >[47.0, 2.0]</td>\n",
       "                        <td id=\"T_7d1efba8_200f_11ee_a60f_acde48001122row3_col3\" class=\"data row3 col3\" >[38.0, 2.0]</td>\n",
       "                        <td id=\"T_7d1efba8_200f_11ee_a60f_acde48001122row3_col4\" class=\"data row3 col4\" >[24.0, 0]</td>\n",
       "            </tr>\n",
       "            <tr>\n",
       "                                <td id=\"T_7d1efba8_200f_11ee_a60f_acde48001122row4_col0\" class=\"data row4 col0\" >[46.0, 0]</td>\n",
       "                        <td id=\"T_7d1efba8_200f_11ee_a60f_acde48001122row4_col1\" class=\"data row4 col1\" >[35.5, 2.0]</td>\n",
       "                        <td id=\"T_7d1efba8_200f_11ee_a60f_acde48001122row4_col2\" class=\"data row4 col2\" >[20.0, 2.0]</td>\n",
       "                        <td id=\"T_7d1efba8_200f_11ee_a60f_acde48001122row4_col3\" class=\"data row4 col3\" >[0, 0]</td>\n",
       "                        <td id=\"T_7d1efba8_200f_11ee_a60f_acde48001122row4_col4\" class=\"data row4 col4\" >[0, 0]</td>\n",
       "            </tr>\n",
       "    </tbody></table>"
      ],
      "text/plain": [
       "<pandas.io.formats.style.Styler at 0x7f966f5a2690>"
      ]
     },
     "execution_count": 150,
     "metadata": {},
     "output_type": "execute_result"
    }
   ],
   "source": [
    "bond_payoff = list(map(g, SP[t]))\n",
    "def vanillaBond(payoff): # coupon amount\n",
    "    vanillaBond={}\n",
    "    vanillaBond[t]=payoff\n",
    "    #IP=IntrinsicPut()\n",
    "    #for n in range(0, N+1):\n",
    "    #    PutPriceA[N].append(IP[N][n])\n",
    "    for i in range(t-1, -1, -1):\n",
    "        vanillaBond[i]=[]\n",
    "        for j in range(i+1):\n",
    "            entry = [0,0]\n",
    "            if SP[i][j] != 0: \n",
    "                entry[0] = exp(vanillaBond[i+1][j+1][0], vanillaBond[i+1][j][0], p_vals[i][j], rates[i][j]) + exp(vanillaBond[i+1][j+1][1], vanillaBond[i+1][j][1], p_vals[i][j], rates[i][j])\n",
    "                entry[1] = coupon if (SP[i][j] >= default_threshold or i<t) and i>0 else 0\n",
    "            #print(entry)\n",
    "            vanillaBond[i].append(entry)\n",
    "    return vanillaBond\n",
    "\n",
    "vBond = vanillaBond(bond_payoff)\n",
    "print(\"Vanilla Bond payoff: [face value (after coupon), coupon]\")\n",
    "displayChart(vBond)"
   ]
  },
  {
   "cell_type": "code",
   "execution_count": 151,
   "id": "c4cdca9f",
   "metadata": {},
   "outputs": [
    {
     "name": "stdout",
     "output_type": "stream",
     "text": [
      "Convertible Bond payoff: [face value (after coupon), coupon]\n",
      "Convertible but not callable\n"
     ]
    },
    {
     "data": {
      "text/html": [
       "<style  type=\"text/css\" >\n",
       "</style><table id=\"T_7d21e16a_200f_11ee_a60f_acde48001122\" ><thead>    <tr>        <th class=\"col_heading level0 col0\" >0</th>        <th class=\"col_heading level0 col1\" >1</th>        <th class=\"col_heading level0 col2\" >2</th>        <th class=\"col_heading level0 col3\" >3</th>        <th class=\"col_heading level0 col4\" >4</th>    </tr></thead><tbody>\n",
       "                <tr>\n",
       "                                <td id=\"T_7d21e16a_200f_11ee_a60f_acde48001122row0_col0\" class=\"data row0 col0\" ></td>\n",
       "                        <td id=\"T_7d21e16a_200f_11ee_a60f_acde48001122row0_col1\" class=\"data row0 col1\" ></td>\n",
       "                        <td id=\"T_7d21e16a_200f_11ee_a60f_acde48001122row0_col2\" class=\"data row0 col2\" ></td>\n",
       "                        <td id=\"T_7d21e16a_200f_11ee_a60f_acde48001122row0_col3\" class=\"data row0 col3\" ></td>\n",
       "                        <td id=\"T_7d21e16a_200f_11ee_a60f_acde48001122row0_col4\" class=\"data row0 col4\" >[70.0, 2.0]</td>\n",
       "            </tr>\n",
       "            <tr>\n",
       "                                <td id=\"T_7d21e16a_200f_11ee_a60f_acde48001122row1_col0\" class=\"data row1 col0\" ></td>\n",
       "                        <td id=\"T_7d21e16a_200f_11ee_a60f_acde48001122row1_col1\" class=\"data row1 col1\" ></td>\n",
       "                        <td id=\"T_7d21e16a_200f_11ee_a60f_acde48001122row1_col2\" class=\"data row1 col2\" ></td>\n",
       "                        <td id=\"T_7d21e16a_200f_11ee_a60f_acde48001122row1_col3\" class=\"data row1 col3\" >[62.0, 2.0]</td>\n",
       "                        <td id=\"T_7d21e16a_200f_11ee_a60f_acde48001122row1_col4\" class=\"data row1 col4\" >[50.0, 2.0]</td>\n",
       "            </tr>\n",
       "            <tr>\n",
       "                                <td id=\"T_7d21e16a_200f_11ee_a60f_acde48001122row2_col0\" class=\"data row2 col0\" ></td>\n",
       "                        <td id=\"T_7d21e16a_200f_11ee_a60f_acde48001122row2_col1\" class=\"data row2 col1\" ></td>\n",
       "                        <td id=\"T_7d21e16a_200f_11ee_a60f_acde48001122row2_col2\" class=\"data row2 col2\" >[59.0, 2.0]</td>\n",
       "                        <td id=\"T_7d21e16a_200f_11ee_a60f_acde48001122row2_col3\" class=\"data row2 col3\" >[52.0, 2.0]</td>\n",
       "                        <td id=\"T_7d21e16a_200f_11ee_a60f_acde48001122row2_col4\" class=\"data row2 col4\" >[50, 2.0]</td>\n",
       "            </tr>\n",
       "            <tr>\n",
       "                                <td id=\"T_7d21e16a_200f_11ee_a60f_acde48001122row3_col0\" class=\"data row3 col0\" ></td>\n",
       "                        <td id=\"T_7d21e16a_200f_11ee_a60f_acde48001122row3_col1\" class=\"data row3 col1\" >[55.0, 2.0]</td>\n",
       "                        <td id=\"T_7d21e16a_200f_11ee_a60f_acde48001122row3_col2\" class=\"data row3 col2\" >[47.0, 2.0]</td>\n",
       "                        <td id=\"T_7d21e16a_200f_11ee_a60f_acde48001122row3_col3\" class=\"data row3 col3\" >[38.0, 2.0]</td>\n",
       "                        <td id=\"T_7d21e16a_200f_11ee_a60f_acde48001122row3_col4\" class=\"data row3 col4\" >[24.0, 0]</td>\n",
       "            </tr>\n",
       "            <tr>\n",
       "                                <td id=\"T_7d21e16a_200f_11ee_a60f_acde48001122row4_col0\" class=\"data row4 col0\" >[47.25, 0]</td>\n",
       "                        <td id=\"T_7d21e16a_200f_11ee_a60f_acde48001122row4_col1\" class=\"data row4 col1\" >[35.5, 2.0]</td>\n",
       "                        <td id=\"T_7d21e16a_200f_11ee_a60f_acde48001122row4_col2\" class=\"data row4 col2\" >[20.0, 2.0]</td>\n",
       "                        <td id=\"T_7d21e16a_200f_11ee_a60f_acde48001122row4_col3\" class=\"data row4 col3\" >[0, 0]</td>\n",
       "                        <td id=\"T_7d21e16a_200f_11ee_a60f_acde48001122row4_col4\" class=\"data row4 col4\" >[0.0, 0]</td>\n",
       "            </tr>\n",
       "    </tbody></table>"
      ],
      "text/plain": [
       "<pandas.io.formats.style.Styler at 0x7f966f66f050>"
      ]
     },
     "execution_count": 151,
     "metadata": {},
     "output_type": "execute_result"
    }
   ],
   "source": [
    "def convBond(payoff):\n",
    "    convBond = {}\n",
    "    convBond[t] = [[max(SP[t][i], payoff[i][0]), payoff[i][1]] for i in range(t+1)]\n",
    "    for i in range(t-1, -1, -1):\n",
    "        convBond[i]=[]\n",
    "        for j in range(i+1):\n",
    "            entry = [0,0]\n",
    "            if SP[i][j] != 0: \n",
    "                entry[0] = exp(convBond[i+1][j+1][0], convBond[i+1][j][0], p_vals[i][j], rates[i][j]) \\\n",
    "                         + exp(convBond[i+1][j+1][1], convBond[i+1][j][1], p_vals[i][j], rates[i][j])\n",
    "                entry[0] = max(entry[0], SP[i][j])\n",
    "                entry[1] = coupon if SP[i][j] >= default_threshold or i<t else 0\n",
    "            #print(entry)\n",
    "            convBond[i].append(entry)\n",
    "    convBond[0][0][1]=0\n",
    "    return convBond\n",
    "\n",
    "cBond = convBond(bond_payoff)\n",
    "print(\"Convertible Bond payoff: [face value (after coupon), coupon]\")\n",
    "print(\"Convertible but not callable\")\n",
    "displayChart(cBond)"
   ]
  },
  {
   "cell_type": "code",
   "execution_count": 152,
   "id": "d2799e0a",
   "metadata": {},
   "outputs": [
    {
     "name": "stdout",
     "output_type": "stream",
     "text": [
      "Callable Bond payoff: [face value (after coupon), coupon]\n",
      "Convertible and callable\n",
      "Call after convertion\n"
     ]
    },
    {
     "data": {
      "text/html": [
       "<style  type=\"text/css\" >\n",
       "</style><table id=\"T_7d25585e_200f_11ee_a60f_acde48001122\" ><thead>    <tr>        <th class=\"col_heading level0 col0\" >0</th>        <th class=\"col_heading level0 col1\" >1</th>        <th class=\"col_heading level0 col2\" >2</th>        <th class=\"col_heading level0 col3\" >3</th>        <th class=\"col_heading level0 col4\" >4</th>    </tr></thead><tbody>\n",
       "                <tr>\n",
       "                                <td id=\"T_7d25585e_200f_11ee_a60f_acde48001122row0_col0\" class=\"data row0 col0\" ></td>\n",
       "                        <td id=\"T_7d25585e_200f_11ee_a60f_acde48001122row0_col1\" class=\"data row0 col1\" ></td>\n",
       "                        <td id=\"T_7d25585e_200f_11ee_a60f_acde48001122row0_col2\" class=\"data row0 col2\" ></td>\n",
       "                        <td id=\"T_7d25585e_200f_11ee_a60f_acde48001122row0_col3\" class=\"data row0 col3\" ></td>\n",
       "                        <td id=\"T_7d25585e_200f_11ee_a60f_acde48001122row0_col4\" class=\"data row0 col4\" >[55, 2.0, 1]</td>\n",
       "            </tr>\n",
       "            <tr>\n",
       "                                <td id=\"T_7d25585e_200f_11ee_a60f_acde48001122row1_col0\" class=\"data row1 col0\" ></td>\n",
       "                        <td id=\"T_7d25585e_200f_11ee_a60f_acde48001122row1_col1\" class=\"data row1 col1\" ></td>\n",
       "                        <td id=\"T_7d25585e_200f_11ee_a60f_acde48001122row1_col2\" class=\"data row1 col2\" ></td>\n",
       "                        <td id=\"T_7d25585e_200f_11ee_a60f_acde48001122row1_col3\" class=\"data row1 col3\" >[54.5, 2.0, 0]</td>\n",
       "                        <td id=\"T_7d25585e_200f_11ee_a60f_acde48001122row1_col4\" class=\"data row1 col4\" >[50.0, 2.0, 0]</td>\n",
       "            </tr>\n",
       "            <tr>\n",
       "                                <td id=\"T_7d25585e_200f_11ee_a60f_acde48001122row2_col0\" class=\"data row2 col0\" ></td>\n",
       "                        <td id=\"T_7d25585e_200f_11ee_a60f_acde48001122row2_col1\" class=\"data row2 col1\" ></td>\n",
       "                        <td id=\"T_7d25585e_200f_11ee_a60f_acde48001122row2_col2\" class=\"data row2 col2\" >[55, 2.0, 1]</td>\n",
       "                        <td id=\"T_7d25585e_200f_11ee_a60f_acde48001122row2_col3\" class=\"data row2 col3\" >[52.0, 2.0, 0]</td>\n",
       "                        <td id=\"T_7d25585e_200f_11ee_a60f_acde48001122row2_col4\" class=\"data row2 col4\" >[50, 2.0, 0]</td>\n",
       "            </tr>\n",
       "            <tr>\n",
       "                                <td id=\"T_7d25585e_200f_11ee_a60f_acde48001122row3_col0\" class=\"data row3 col0\" ></td>\n",
       "                        <td id=\"T_7d25585e_200f_11ee_a60f_acde48001122row3_col1\" class=\"data row3 col1\" >[53.0, 2.0, 0]</td>\n",
       "                        <td id=\"T_7d25585e_200f_11ee_a60f_acde48001122row3_col2\" class=\"data row3 col2\" >[47.0, 2.0, 0]</td>\n",
       "                        <td id=\"T_7d25585e_200f_11ee_a60f_acde48001122row3_col3\" class=\"data row3 col3\" >[38.0, 2.0, 0]</td>\n",
       "                        <td id=\"T_7d25585e_200f_11ee_a60f_acde48001122row3_col4\" class=\"data row3 col4\" >[24.0, 0, 0]</td>\n",
       "            </tr>\n",
       "            <tr>\n",
       "                                <td id=\"T_7d25585e_200f_11ee_a60f_acde48001122row4_col0\" class=\"data row4 col0\" >[46.25, 0, 0]</td>\n",
       "                        <td id=\"T_7d25585e_200f_11ee_a60f_acde48001122row4_col1\" class=\"data row4 col1\" >[35.5, 2.0, 0]</td>\n",
       "                        <td id=\"T_7d25585e_200f_11ee_a60f_acde48001122row4_col2\" class=\"data row4 col2\" >[20.0, 2.0, 0]</td>\n",
       "                        <td id=\"T_7d25585e_200f_11ee_a60f_acde48001122row4_col3\" class=\"data row4 col3\" >[0, 0, 0]</td>\n",
       "                        <td id=\"T_7d25585e_200f_11ee_a60f_acde48001122row4_col4\" class=\"data row4 col4\" >[0.0, 0, 0]</td>\n",
       "            </tr>\n",
       "    </tbody></table>"
      ],
      "text/plain": [
       "<pandas.io.formats.style.Styler at 0x7f966f6a91d0>"
      ]
     },
     "execution_count": 152,
     "metadata": {},
     "output_type": "execute_result"
    }
   ],
   "source": [
    "def callable2(convertible):\n",
    "    callBond = {}\n",
    "    callBond[t] = [[min(K, convertible[t][i][0]), convertible[t][i][1],0] for i in range(t+1)]\n",
    "    for i in range(t+1):\n",
    "        # 0 means not called, 1 means called\n",
    "        callBond[t][i][2] = 1 if (K<=convertible[t][i][0]) else 0\n",
    "    for i in range(t-1, -1, -1):\n",
    "        callBond[i]=[]\n",
    "        for j in range(i+1):\n",
    "            entry = [0,0,0]\n",
    "            if SP[i][j] != 0: \n",
    "                entry[0] = exp(callBond[i+1][j+1][0], callBond[i+1][j][0], p_vals[i][j], rates[i][j])\n",
    "                entry[0] += exp(callBond[i+1][j+1][1], callBond[i+1][j][1], p_vals[i][j], rates[i][j])\n",
    "                entry[2] = 1 if (K<entry[0]) else 0\n",
    "                entry[0] = min(K, entry[0])\n",
    "                entry[1] = coupon if ((SP[i][j] >= default_threshold or i<t) and i>0) else 0\n",
    "            #print(entry)\n",
    "            callBond[i].append(entry)\n",
    "    return callBond\n",
    "\n",
    "callable_bond = callable2(cBond)\n",
    "print(\"Callable Bond payoff: [face value (after coupon), coupon]\")\n",
    "print(\"Convertible and callable\")\n",
    "print(\"Call after convertion\")\n",
    "displayChart(callable_bond)"
   ]
  },
  {
   "cell_type": "code",
   "execution_count": 153,
   "id": "93193182",
   "metadata": {},
   "outputs": [
    {
     "name": "stdout",
     "output_type": "stream",
     "text": [
      "Putabl Bond payoff: [face value (after coupon), coupon]\n",
      "Convertible and putable\n"
     ]
    },
    {
     "data": {
      "text/html": [
       "<style  type=\"text/css\" >\n",
       "</style><table id=\"T_7d28d1c8_200f_11ee_a60f_acde48001122\" ><thead>    <tr>        <th class=\"col_heading level0 col0\" >0</th>        <th class=\"col_heading level0 col1\" >1</th>        <th class=\"col_heading level0 col2\" >2</th>        <th class=\"col_heading level0 col3\" >3</th>        <th class=\"col_heading level0 col4\" >4</th>    </tr></thead><tbody>\n",
       "                <tr>\n",
       "                                <td id=\"T_7d28d1c8_200f_11ee_a60f_acde48001122row0_col0\" class=\"data row0 col0\" ></td>\n",
       "                        <td id=\"T_7d28d1c8_200f_11ee_a60f_acde48001122row0_col1\" class=\"data row0 col1\" ></td>\n",
       "                        <td id=\"T_7d28d1c8_200f_11ee_a60f_acde48001122row0_col2\" class=\"data row0 col2\" ></td>\n",
       "                        <td id=\"T_7d28d1c8_200f_11ee_a60f_acde48001122row0_col3\" class=\"data row0 col3\" ></td>\n",
       "                        <td id=\"T_7d28d1c8_200f_11ee_a60f_acde48001122row0_col4\" class=\"data row0 col4\" >[70.0, 2.0, 0]</td>\n",
       "            </tr>\n",
       "            <tr>\n",
       "                                <td id=\"T_7d28d1c8_200f_11ee_a60f_acde48001122row1_col0\" class=\"data row1 col0\" ></td>\n",
       "                        <td id=\"T_7d28d1c8_200f_11ee_a60f_acde48001122row1_col1\" class=\"data row1 col1\" ></td>\n",
       "                        <td id=\"T_7d28d1c8_200f_11ee_a60f_acde48001122row1_col2\" class=\"data row1 col2\" ></td>\n",
       "                        <td id=\"T_7d28d1c8_200f_11ee_a60f_acde48001122row1_col3\" class=\"data row1 col3\" >[62.0, 2.0, 0]</td>\n",
       "                        <td id=\"T_7d28d1c8_200f_11ee_a60f_acde48001122row1_col4\" class=\"data row1 col4\" >[50.0, 2.0, 1]</td>\n",
       "            </tr>\n",
       "            <tr>\n",
       "                                <td id=\"T_7d28d1c8_200f_11ee_a60f_acde48001122row2_col0\" class=\"data row2 col0\" ></td>\n",
       "                        <td id=\"T_7d28d1c8_200f_11ee_a60f_acde48001122row2_col1\" class=\"data row2 col1\" ></td>\n",
       "                        <td id=\"T_7d28d1c8_200f_11ee_a60f_acde48001122row2_col2\" class=\"data row2 col2\" >[59.0, 2.0, 0]</td>\n",
       "                        <td id=\"T_7d28d1c8_200f_11ee_a60f_acde48001122row2_col3\" class=\"data row2 col3\" >[52.0, 2.0, 0]</td>\n",
       "                        <td id=\"T_7d28d1c8_200f_11ee_a60f_acde48001122row2_col4\" class=\"data row2 col4\" >[50, 2.0, 1]</td>\n",
       "            </tr>\n",
       "            <tr>\n",
       "                                <td id=\"T_7d28d1c8_200f_11ee_a60f_acde48001122row3_col0\" class=\"data row3 col0\" ></td>\n",
       "                        <td id=\"T_7d28d1c8_200f_11ee_a60f_acde48001122row3_col1\" class=\"data row3 col1\" >[58.0, 2.0, 0]</td>\n",
       "                        <td id=\"T_7d28d1c8_200f_11ee_a60f_acde48001122row3_col2\" class=\"data row3 col2\" >[53.0, 2.0, 0]</td>\n",
       "                        <td id=\"T_7d28d1c8_200f_11ee_a60f_acde48001122row3_col3\" class=\"data row3 col3\" >[50, 2.0, 1]</td>\n",
       "                        <td id=\"T_7d28d1c8_200f_11ee_a60f_acde48001122row3_col4\" class=\"data row3 col4\" >[24.0, 0, 1]</td>\n",
       "            </tr>\n",
       "            <tr>\n",
       "                                <td id=\"T_7d28d1c8_200f_11ee_a60f_acde48001122row4_col0\" class=\"data row4 col0\" >[57.75, 0, 0]</td>\n",
       "                        <td id=\"T_7d28d1c8_200f_11ee_a60f_acde48001122row4_col1\" class=\"data row4 col1\" >[53.5, 2.0, 0]</td>\n",
       "                        <td id=\"T_7d28d1c8_200f_11ee_a60f_acde48001122row4_col2\" class=\"data row4 col2\" >[50, 2.0, 1]</td>\n",
       "                        <td id=\"T_7d28d1c8_200f_11ee_a60f_acde48001122row4_col3\" class=\"data row4 col3\" >[0, 0, 0]</td>\n",
       "                        <td id=\"T_7d28d1c8_200f_11ee_a60f_acde48001122row4_col4\" class=\"data row4 col4\" >[0.0, 0, 1]</td>\n",
       "            </tr>\n",
       "    </tbody></table>"
      ],
      "text/plain": [
       "<pandas.io.formats.style.Styler at 0x7f966f56ed10>"
      ]
     },
     "execution_count": 153,
     "metadata": {},
     "output_type": "execute_result"
    }
   ],
   "source": [
    "def putable(convertible):\n",
    "    putBond = {}\n",
    "    putBond[t] = [[convertible[t][i][0], convertible[t][i][1],0] for i in range(t+1)]\n",
    "    for i in range(t+1):\n",
    "        # 0 means not called, 1 means called\n",
    "        putBond[t][i][2] = 1 if (K>=convertible[t][i][0]) else 0\n",
    "    for i in range(t-1, -1, -1):\n",
    "        putBond[i]=[]\n",
    "        for j in range(i+1):\n",
    "            entry = [0,0,0]\n",
    "            if SP[i][j] != 0: \n",
    "                entry[0] = exp(putBond[i+1][j+1][0], putBond[i+1][j][0], p_vals[i][j], rates[i][j])\n",
    "                entry[0] += exp(putBond[i+1][j+1][1], putBond[i+1][j][1], p_vals[i][j], rates[i][j])\n",
    "                entry[2] = 1 if (Pu>entry[0]) else 0\n",
    "                entry[0] = max(Pu, entry[0]) if (SP[i][j] >= default_threshold or i<t) else entry[0]\n",
    "                entry[1] = coupon if ((SP[i][j] >= default_threshold or i<t) and i>0) else 0\n",
    "            #print(entry)\n",
    "            putBond[i].append(entry)\n",
    "    return putBond\n",
    "\n",
    "put_bond = putable(cBond)\n",
    "print(\"Putabl Bond payoff: [face value (after coupon), coupon]\")\n",
    "print(\"Convertible and putable\")\n",
    "displayChart(put_bond)"
   ]
  },
  {
   "cell_type": "code",
   "execution_count": 154,
   "id": "8aa96de7",
   "metadata": {},
   "outputs": [
    {
     "name": "stdout",
     "output_type": "stream",
     "text": [
      "The possible callable is prices are:\n",
      "[46.375, 46.25, 47.25]\n",
      "The minnimum callable bond price is:\n",
      "46.25\n"
     ]
    }
   ],
   "source": [
    "#conv_payoff: dictionary of convertible prices\n",
    "#strike: strike price\n",
    "def fill_payoff(payoff, time):\n",
    "    for i in range(time-1, -1, -1):\n",
    "        payoff[i] = []\n",
    "        for j in range(i+1):\n",
    "            entry = [0,0]\n",
    "            if SP[i][j] != 0: \n",
    "                entry[0] = exp(payoff[i+1][j+1][0], payoff[i+1][j][0], p_vals[i][j], rates[i][j]) + exp(payoff[i+1][j+1][1], payoff[i+1][j][1], p_vals[i][j], rates[i][j])\n",
    "                entry[0] = entry[0]\n",
    "                entry[1] = coupon if (SP[i][j] >= default_threshold or i<t) and i>0 else 0\n",
    "            payoff[i].append(entry)\n",
    "    return payoff\n",
    "        \n",
    "        \n",
    "def callable(conv, strike):\n",
    "    callable_prices = []\n",
    "    for i in range(t-1, -1, -1):    #i: time step\n",
    "        for j in range(i+1):        #j: # of nodes at time\n",
    "            if conv[i][j][0] >= strike:\n",
    "                old_val = conv[i][j][0]\n",
    "                conv[i][j][0] = strike\n",
    "                #continue etc\n",
    "                new_prices = {}\n",
    "                new_prices[i] = []\n",
    "                for k in range(i+1):\n",
    "                    entry = conv[i][k]\n",
    "                    new_prices[i].append(entry)\n",
    "                #new_prices has one key i, and a list of length j\n",
    "                new_prices = fill_payoff(new_prices, i)\n",
    "                b_0 = new_prices[0][0][0]\n",
    "                callable_prices.append(b_0)\n",
    "                conv[i][j][0] = old_val\n",
    "    return callable_prices\n",
    "\n",
    "callable_prices_list = callable(cBond, K)\n",
    "print(\"The possible callable is prices are:\")\n",
    "print(callable_prices_list)\n",
    "print(\"The minnimum callable bond price is:\")\n",
    "print(min(callable_prices_list))"
   ]
  },
  {
   "attachments": {},
   "cell_type": "markdown",
   "id": "0301f334",
   "metadata": {},
   "source": [
    "experiment code below"
   ]
  },
  {
   "cell_type": "code",
   "execution_count": 155,
   "id": "4b9af55e",
   "metadata": {},
   "outputs": [],
   "source": [
    "# x is how much to change for additive model\n",
    "def simulate_one(x):\n",
    "    global vol\n",
    "    v = x\n",
    "    \n",
    "    rates = r_values(0, 0.005)\n",
    "    SP = StockPrice()\n",
    "    \n",
    "simulate_one(1)"
   ]
  },
  {
   "cell_type": "code",
   "execution_count": 156,
   "metadata": {},
   "outputs": [
    {
     "ename": "IndexError",
     "evalue": "index 1 is out of bounds for axis 0 with size 1",
     "output_type": "error",
     "traceback": [
      "\u001b[0;31m---------------------------------------------------------------------------\u001b[0m",
      "\u001b[0;31mIndexError\u001b[0m                                Traceback (most recent call last)",
      "\u001b[0;32m<ipython-input-156-c072c8e3557b>\u001b[0m in \u001b[0;36m<module>\u001b[0;34m\u001b[0m\n\u001b[1;32m     21\u001b[0m                   \u001b[0minterests\u001b[0m\u001b[0;34m[\u001b[0m\u001b[0mkey\u001b[0m\u001b[0;34m]\u001b[0m\u001b[0;34m[\u001b[0m\u001b[0mj\u001b[0m\u001b[0;34m]\u001b[0m \u001b[0;34m=\u001b[0m \u001b[0minterests\u001b[0m\u001b[0;34m[\u001b[0m\u001b[0mkey\u001b[0m\u001b[0;34m-\u001b[0m\u001b[0;36m1\u001b[0m\u001b[0;34m]\u001b[0m\u001b[0;34m[\u001b[0m\u001b[0mj\u001b[0m\u001b[0;34m]\u001b[0m\u001b[0;34m+\u001b[0m\u001b[0;36m0.005\u001b[0m\u001b[0;34m\u001b[0m\u001b[0;34m\u001b[0m\u001b[0m\n\u001b[1;32m     22\u001b[0m             \u001b[0;32melse\u001b[0m\u001b[0;34m:\u001b[0m\u001b[0;34m\u001b[0m\u001b[0;34m\u001b[0m\u001b[0m\n\u001b[0;32m---> 23\u001b[0;31m                   \u001b[0minterests\u001b[0m\u001b[0;34m[\u001b[0m\u001b[0mkey\u001b[0m\u001b[0;34m]\u001b[0m\u001b[0;34m[\u001b[0m\u001b[0mj\u001b[0m\u001b[0;34m]\u001b[0m \u001b[0;34m=\u001b[0m \u001b[0minterests\u001b[0m\u001b[0;34m[\u001b[0m\u001b[0mkey\u001b[0m\u001b[0;34m-\u001b[0m\u001b[0;36m1\u001b[0m\u001b[0;34m]\u001b[0m\u001b[0;34m[\u001b[0m\u001b[0mj\u001b[0m\u001b[0;34m]\u001b[0m\u001b[0;34m-\u001b[0m\u001b[0;36m0.005\u001b[0m\u001b[0;34m\u001b[0m\u001b[0;34m\u001b[0m\u001b[0m\n\u001b[0m",
      "\u001b[0;31mIndexError\u001b[0m: index 1 is out of bounds for axis 0 with size 1"
     ]
    }
   ],
   "source": [
    "from scipy.stats import bernoulli\n",
    "\n",
    "# rolls = {}\n",
    "\n",
    "# for key in range(0, t+1, 1):\n",
    "#         rolls[key] = [0]*(key+1)\n",
    "#         for j in range(0, key+1, 1):\n",
    "#             prob = max(0, min(1, p_vals[key][j]))\n",
    "#             roll = bernoulli.rvs(size=1, p=prob)\n",
    "#             rolls[key][j] = roll[0]\n",
    "\n",
    "\n",
    "# if roll==1, then it is a head\n",
    "\n",
    "interests = rates\n",
    "for key in range(1, t+1, 1):\n",
    "      for j in range(0, key+1, 1):\n",
    "            prob = max(0, min(1, p_vals[key][j]))\n",
    "            [roll] = bernoulli.rvs(size=1, p=prob)\n",
    "            if(roll==1):\n",
    "                  interests[key][j] = interests[key-1][j]+0.005\n",
    "            else:\n",
    "                  interests[key][j] = interests[key-1][j]-0.005\n"
   ]
  }
 ],
 "metadata": {
  "kernelspec": {
   "display_name": "Python 3",
   "language": "python",
   "name": "python3"
  },
  "language_info": {
   "codemirror_mode": {
    "name": "ipython",
    "version": 3
   },
   "file_extension": ".py",
   "mimetype": "text/x-python",
   "name": "python",
   "nbconvert_exporter": "python",
   "pygments_lexer": "ipython3",
   "version": "3.7.6"
  }
 },
 "nbformat": 4,
 "nbformat_minor": 5
}
