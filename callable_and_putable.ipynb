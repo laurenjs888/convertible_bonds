{
 "cells": [
  {
   "cell_type": "code",
   "execution_count": 239,
   "id": "595497ea",
   "metadata": {},
   "outputs": [],
   "source": [
    "import pandas as pd\n",
    "import numpy as np\n",
    "import matplotlib as mpl\n",
    "import math"
   ]
  },
  {
   "cell_type": "code",
   "execution_count": 240,
   "id": "d7d5ceea",
   "metadata": {},
   "outputs": [],
   "source": [
    "# def makeDataFrame(filename):\n",
    "#     data=pd.read_csv(filename)\n",
    "#     df=pd.DataFrame(data,columns=['Adj Close'])\n",
    "#     print(df)\n",
    "#     s=df.values.tolist()\n",
    "#     return s "
   ]
  },
  {
   "attachments": {},
   "cell_type": "markdown",
   "id": "1d001c54",
   "metadata": {},
   "source": [
    "makeDataFrame(filename)"
   ]
  },
  {
   "cell_type": "code",
   "execution_count": 241,
   "id": "4ff9820c",
   "metadata": {},
   "outputs": [],
   "source": [
    "# parameters\n",
    "S0=30\n",
    "r=0.06\n",
    "t=4\n",
    "rate_drift = 0\n",
    "rate_volatility = 0.005\n",
    "vol=5 # volatility for stock price: for additive amount, how much to add\n",
    "drift = 0 # drift for stock price\n",
    "u=1+r+math.sqrt((1+r)**2-1) \n",
    "d=(1+r)/u\n",
    "face=50\n",
    "coupon_rate = 0.04\n",
    "coupon = coupon_rate*face\n",
    "default_threshold = 1/3\n",
    "bankrupcy_ratio = 2.4\n",
    "K=55 # call at this value\n",
    "Pu=50 # put at this value"
   ]
  },
  {
   "cell_type": "code",
   "execution_count": 242,
   "id": "a1d50b86",
   "metadata": {},
   "outputs": [],
   "source": [
    "def g(x): # payoff function e.g for a call it would be max(0, x-K)\n",
    "    if x==0:\n",
    "        return [0, 0]\n",
    "    if x <= default_threshold*S0:\n",
    "        return [x*bankrupcy_ratio, 0]\n",
    "    return [face, coupon] # first entry is the actual value, second is dividends or coupons"
   ]
  },
  {
   "cell_type": "code",
   "execution_count": 243,
   "id": "00d54a6f",
   "metadata": {},
   "outputs": [
    {
     "name": "stdout",
     "output_type": "stream",
     "text": [
      "0.5 0.5\n"
     ]
    }
   ],
   "source": [
    "p=0.5#(1+r-d)/(u-d)\n",
    "q=1-p\n",
    "p=1-q # fixes floating-point errors hopefully\n",
    "print(p, q) # only use these in the multiplicative model"
   ]
  },
  {
   "cell_type": "code",
   "execution_count": 244,
   "id": "104486ab",
   "metadata": {},
   "outputs": [],
   "source": [
    "def nSigFigs(num, n):\n",
    "    #print(num == np.nan)\n",
    "    if type(num) not in [float, int, np.float64] or num == float(\"NaN\"): return float(\"NaN\")\n",
    "    return int(num * 10**n) / 10**n"
   ]
  },
  {
   "cell_type": "code",
   "execution_count": 245,
   "id": "a3df1baf",
   "metadata": {},
   "outputs": [],
   "source": [
    "def displayChart(tab):\n",
    "    Chart=[]\n",
    "    columns = []\n",
    "    N = len(tab)-1\n",
    "    for i in range(N, -1, -1):\n",
    "        chart = []\n",
    "        columns.append(N-i)\n",
    "        for j in range(0,i):\n",
    "            chart.append(\"\")\n",
    "        for j in range(i, N+1):\n",
    "            entry = tab[j][i]\n",
    "            chart.append(entry)\n",
    "        Chart.append(chart)\n",
    "    df = pd.DataFrame(Chart, columns = columns)\n",
    "    return df.style.hide_index()"
   ]
  },
  {
   "cell_type": "code",
   "execution_count": 246,
   "id": "f7888ca6",
   "metadata": {},
   "outputs": [
    {
     "name": "stdout",
     "output_type": "stream",
     "text": [
      "interest rates\n"
     ]
    },
    {
     "data": {
      "text/html": [
       "<style  type=\"text/css\" >\n",
       "</style><table id=\"T_fe10bd64_246a_11ee_a2f9_acde48001122\" ><thead>    <tr>        <th class=\"col_heading level0 col0\" >0</th>        <th class=\"col_heading level0 col1\" >1</th>        <th class=\"col_heading level0 col2\" >2</th>        <th class=\"col_heading level0 col3\" >3</th>        <th class=\"col_heading level0 col4\" >4</th>    </tr></thead><tbody>\n",
       "                <tr>\n",
       "                                <td id=\"T_fe10bd64_246a_11ee_a2f9_acde48001122row0_col0\" class=\"data row0 col0\" ></td>\n",
       "                        <td id=\"T_fe10bd64_246a_11ee_a2f9_acde48001122row0_col1\" class=\"data row0 col1\" ></td>\n",
       "                        <td id=\"T_fe10bd64_246a_11ee_a2f9_acde48001122row0_col2\" class=\"data row0 col2\" ></td>\n",
       "                        <td id=\"T_fe10bd64_246a_11ee_a2f9_acde48001122row0_col3\" class=\"data row0 col3\" ></td>\n",
       "                        <td id=\"T_fe10bd64_246a_11ee_a2f9_acde48001122row0_col4\" class=\"data row0 col4\" >0.080000</td>\n",
       "            </tr>\n",
       "            <tr>\n",
       "                                <td id=\"T_fe10bd64_246a_11ee_a2f9_acde48001122row1_col0\" class=\"data row1 col0\" ></td>\n",
       "                        <td id=\"T_fe10bd64_246a_11ee_a2f9_acde48001122row1_col1\" class=\"data row1 col1\" ></td>\n",
       "                        <td id=\"T_fe10bd64_246a_11ee_a2f9_acde48001122row1_col2\" class=\"data row1 col2\" ></td>\n",
       "                        <td id=\"T_fe10bd64_246a_11ee_a2f9_acde48001122row1_col3\" class=\"data row1 col3\" >0.075000</td>\n",
       "                        <td id=\"T_fe10bd64_246a_11ee_a2f9_acde48001122row1_col4\" class=\"data row1 col4\" >0.070000</td>\n",
       "            </tr>\n",
       "            <tr>\n",
       "                                <td id=\"T_fe10bd64_246a_11ee_a2f9_acde48001122row2_col0\" class=\"data row2 col0\" ></td>\n",
       "                        <td id=\"T_fe10bd64_246a_11ee_a2f9_acde48001122row2_col1\" class=\"data row2 col1\" ></td>\n",
       "                        <td id=\"T_fe10bd64_246a_11ee_a2f9_acde48001122row2_col2\" class=\"data row2 col2\" >0.070000</td>\n",
       "                        <td id=\"T_fe10bd64_246a_11ee_a2f9_acde48001122row2_col3\" class=\"data row2 col3\" >0.065000</td>\n",
       "                        <td id=\"T_fe10bd64_246a_11ee_a2f9_acde48001122row2_col4\" class=\"data row2 col4\" >0.060000</td>\n",
       "            </tr>\n",
       "            <tr>\n",
       "                                <td id=\"T_fe10bd64_246a_11ee_a2f9_acde48001122row3_col0\" class=\"data row3 col0\" ></td>\n",
       "                        <td id=\"T_fe10bd64_246a_11ee_a2f9_acde48001122row3_col1\" class=\"data row3 col1\" >0.065000</td>\n",
       "                        <td id=\"T_fe10bd64_246a_11ee_a2f9_acde48001122row3_col2\" class=\"data row3 col2\" >0.060000</td>\n",
       "                        <td id=\"T_fe10bd64_246a_11ee_a2f9_acde48001122row3_col3\" class=\"data row3 col3\" >0.055000</td>\n",
       "                        <td id=\"T_fe10bd64_246a_11ee_a2f9_acde48001122row3_col4\" class=\"data row3 col4\" >0.050000</td>\n",
       "            </tr>\n",
       "            <tr>\n",
       "                                <td id=\"T_fe10bd64_246a_11ee_a2f9_acde48001122row4_col0\" class=\"data row4 col0\" >0.060000</td>\n",
       "                        <td id=\"T_fe10bd64_246a_11ee_a2f9_acde48001122row4_col1\" class=\"data row4 col1\" >0.055000</td>\n",
       "                        <td id=\"T_fe10bd64_246a_11ee_a2f9_acde48001122row4_col2\" class=\"data row4 col2\" >0.050000</td>\n",
       "                        <td id=\"T_fe10bd64_246a_11ee_a2f9_acde48001122row4_col3\" class=\"data row4 col3\" >0.045000</td>\n",
       "                        <td id=\"T_fe10bd64_246a_11ee_a2f9_acde48001122row4_col4\" class=\"data row4 col4\" >0.040000</td>\n",
       "            </tr>\n",
       "    </tbody></table>"
      ],
      "text/plain": [
       "<pandas.io.formats.style.Styler at 0x7f8a495f3b50>"
      ]
     },
     "execution_count": 246,
     "metadata": {},
     "output_type": "execute_result"
    }
   ],
   "source": [
    "def r_values(drift, vol):\n",
    "    R = {}\n",
    "    for i in range(t, -1, -1):\n",
    "        R[i] = r + i*drift - vol*np.arange(i, -1, -1) + vol*np.arange(0, i+1, 1)\n",
    "    return R\n",
    "\n",
    "rates = r_values(rate_drift, rate_volatility)\n",
    "print(\"interest rates\")\n",
    "displayChart(rates)"
   ]
  },
  {
   "cell_type": "code",
   "execution_count": 247,
   "id": "b59454a5",
   "metadata": {},
   "outputs": [
    {
     "name": "stdout",
     "output_type": "stream",
     "text": [
      "stock price\n"
     ]
    },
    {
     "data": {
      "text/html": [
       "<style  type=\"text/css\" >\n",
       "</style><table id=\"T_fe131a5a_246a_11ee_a2f9_acde48001122\" ><thead>    <tr>        <th class=\"col_heading level0 col0\" >0</th>        <th class=\"col_heading level0 col1\" >1</th>        <th class=\"col_heading level0 col2\" >2</th>        <th class=\"col_heading level0 col3\" >3</th>        <th class=\"col_heading level0 col4\" >4</th>    </tr></thead><tbody>\n",
       "                <tr>\n",
       "                                <td id=\"T_fe131a5a_246a_11ee_a2f9_acde48001122row0_col0\" class=\"data row0 col0\" ></td>\n",
       "                        <td id=\"T_fe131a5a_246a_11ee_a2f9_acde48001122row0_col1\" class=\"data row0 col1\" ></td>\n",
       "                        <td id=\"T_fe131a5a_246a_11ee_a2f9_acde48001122row0_col2\" class=\"data row0 col2\" ></td>\n",
       "                        <td id=\"T_fe131a5a_246a_11ee_a2f9_acde48001122row0_col3\" class=\"data row0 col3\" ></td>\n",
       "                        <td id=\"T_fe131a5a_246a_11ee_a2f9_acde48001122row0_col4\" class=\"data row0 col4\" >50.000000</td>\n",
       "            </tr>\n",
       "            <tr>\n",
       "                                <td id=\"T_fe131a5a_246a_11ee_a2f9_acde48001122row1_col0\" class=\"data row1 col0\" ></td>\n",
       "                        <td id=\"T_fe131a5a_246a_11ee_a2f9_acde48001122row1_col1\" class=\"data row1 col1\" ></td>\n",
       "                        <td id=\"T_fe131a5a_246a_11ee_a2f9_acde48001122row1_col2\" class=\"data row1 col2\" ></td>\n",
       "                        <td id=\"T_fe131a5a_246a_11ee_a2f9_acde48001122row1_col3\" class=\"data row1 col3\" >45.000000</td>\n",
       "                        <td id=\"T_fe131a5a_246a_11ee_a2f9_acde48001122row1_col4\" class=\"data row1 col4\" >40.000000</td>\n",
       "            </tr>\n",
       "            <tr>\n",
       "                                <td id=\"T_fe131a5a_246a_11ee_a2f9_acde48001122row2_col0\" class=\"data row2 col0\" ></td>\n",
       "                        <td id=\"T_fe131a5a_246a_11ee_a2f9_acde48001122row2_col1\" class=\"data row2 col1\" ></td>\n",
       "                        <td id=\"T_fe131a5a_246a_11ee_a2f9_acde48001122row2_col2\" class=\"data row2 col2\" >40.000000</td>\n",
       "                        <td id=\"T_fe131a5a_246a_11ee_a2f9_acde48001122row2_col3\" class=\"data row2 col3\" >35.000000</td>\n",
       "                        <td id=\"T_fe131a5a_246a_11ee_a2f9_acde48001122row2_col4\" class=\"data row2 col4\" >30.000000</td>\n",
       "            </tr>\n",
       "            <tr>\n",
       "                                <td id=\"T_fe131a5a_246a_11ee_a2f9_acde48001122row3_col0\" class=\"data row3 col0\" ></td>\n",
       "                        <td id=\"T_fe131a5a_246a_11ee_a2f9_acde48001122row3_col1\" class=\"data row3 col1\" >35.000000</td>\n",
       "                        <td id=\"T_fe131a5a_246a_11ee_a2f9_acde48001122row3_col2\" class=\"data row3 col2\" >30.000000</td>\n",
       "                        <td id=\"T_fe131a5a_246a_11ee_a2f9_acde48001122row3_col3\" class=\"data row3 col3\" >25.000000</td>\n",
       "                        <td id=\"T_fe131a5a_246a_11ee_a2f9_acde48001122row3_col4\" class=\"data row3 col4\" >20.000000</td>\n",
       "            </tr>\n",
       "            <tr>\n",
       "                                <td id=\"T_fe131a5a_246a_11ee_a2f9_acde48001122row4_col0\" class=\"data row4 col0\" >30.000000</td>\n",
       "                        <td id=\"T_fe131a5a_246a_11ee_a2f9_acde48001122row4_col1\" class=\"data row4 col1\" >25.000000</td>\n",
       "                        <td id=\"T_fe131a5a_246a_11ee_a2f9_acde48001122row4_col2\" class=\"data row4 col2\" >20.000000</td>\n",
       "                        <td id=\"T_fe131a5a_246a_11ee_a2f9_acde48001122row4_col3\" class=\"data row4 col3\" >15.000000</td>\n",
       "                        <td id=\"T_fe131a5a_246a_11ee_a2f9_acde48001122row4_col4\" class=\"data row4 col4\" >10.000000</td>\n",
       "            </tr>\n",
       "    </tbody></table>"
      ],
      "text/plain": [
       "<pandas.io.formats.style.Styler at 0x7f8a49521a50>"
      ]
     },
     "execution_count": 247,
     "metadata": {},
     "output_type": "execute_result"
    }
   ],
   "source": [
    "def StockPrice(mode='a'): # a for additive, m for multiplicative\n",
    "    StockPrice={}\n",
    "    if mode == 'm':\n",
    "        for i in range(t, -1, -1):\n",
    "            StockPrice[i] = S0 * d ** (np.arange(i,-1,-1)) * u ** (np.arange(0,i+1,1)) #np.empty(N+1)\n",
    "\n",
    "    elif mode == 'a':\n",
    "        for i in range(t, -1, -1):\n",
    "            StockPrice[i] = np.maximum(np.zeros(i+1), S0 + i*drift - vol*np.arange(i, -1, -1) + vol*np.arange(0,i+1,1))\n",
    "    '''for n in range(0, N+1):\n",
    "        StockPrice[N].append(S0*(u**n)*(d**(N-n)))\n",
    "    for i in range(N-1, -1, -1):\n",
    "        StockPrice[i]=[] #np.empty(i+1)\n",
    "        for j in range(0, i+1):\n",
    "            StockPrice[i].append((StockPrice[i+1][j+1])/u)'''\n",
    "    return StockPrice\n",
    "\n",
    "SP = StockPrice()\n",
    "print(\"stock price\")\n",
    "displayChart(SP)\n",
    "\n",
    "# for i in range(t, -1, -1):\n",
    "#     print(str(i) + \": \"+str([nSigFigs(x, n=4) for x in SP[i]]))"
   ]
  },
  {
   "cell_type": "code",
   "execution_count": 248,
   "id": "76c0c50f",
   "metadata": {},
   "outputs": [
    {
     "name": "stdout",
     "output_type": "stream",
     "text": [
      "p tilde\n"
     ]
    },
    {
     "data": {
      "text/html": [
       "<style  type=\"text/css\" >\n",
       "</style><table id=\"T_fe157a0c_246a_11ee_a2f9_acde48001122\" ><thead>    <tr>        <th class=\"col_heading level0 col0\" >0</th>        <th class=\"col_heading level0 col1\" >1</th>        <th class=\"col_heading level0 col2\" >2</th>        <th class=\"col_heading level0 col3\" >3</th>        <th class=\"col_heading level0 col4\" >4</th>    </tr></thead><tbody>\n",
       "                <tr>\n",
       "                                <td id=\"T_fe157a0c_246a_11ee_a2f9_acde48001122row0_col0\" class=\"data row0 col0\" ></td>\n",
       "                        <td id=\"T_fe157a0c_246a_11ee_a2f9_acde48001122row0_col1\" class=\"data row0 col1\" ></td>\n",
       "                        <td id=\"T_fe157a0c_246a_11ee_a2f9_acde48001122row0_col2\" class=\"data row0 col2\" ></td>\n",
       "                        <td id=\"T_fe157a0c_246a_11ee_a2f9_acde48001122row0_col3\" class=\"data row0 col3\" ></td>\n",
       "                        <td id=\"T_fe157a0c_246a_11ee_a2f9_acde48001122row0_col4\" class=\"data row0 col4\" >1</td>\n",
       "            </tr>\n",
       "            <tr>\n",
       "                                <td id=\"T_fe157a0c_246a_11ee_a2f9_acde48001122row1_col0\" class=\"data row1 col0\" ></td>\n",
       "                        <td id=\"T_fe157a0c_246a_11ee_a2f9_acde48001122row1_col1\" class=\"data row1 col1\" ></td>\n",
       "                        <td id=\"T_fe157a0c_246a_11ee_a2f9_acde48001122row1_col2\" class=\"data row1 col2\" ></td>\n",
       "                        <td id=\"T_fe157a0c_246a_11ee_a2f9_acde48001122row1_col3\" class=\"data row1 col3\" >0.837500</td>\n",
       "                        <td id=\"T_fe157a0c_246a_11ee_a2f9_acde48001122row1_col4\" class=\"data row1 col4\" >1</td>\n",
       "            </tr>\n",
       "            <tr>\n",
       "                                <td id=\"T_fe157a0c_246a_11ee_a2f9_acde48001122row2_col0\" class=\"data row2 col0\" ></td>\n",
       "                        <td id=\"T_fe157a0c_246a_11ee_a2f9_acde48001122row2_col1\" class=\"data row2 col1\" ></td>\n",
       "                        <td id=\"T_fe157a0c_246a_11ee_a2f9_acde48001122row2_col2\" class=\"data row2 col2\" >0.780000</td>\n",
       "                        <td id=\"T_fe157a0c_246a_11ee_a2f9_acde48001122row2_col3\" class=\"data row2 col3\" >0.727500</td>\n",
       "                        <td id=\"T_fe157a0c_246a_11ee_a2f9_acde48001122row2_col4\" class=\"data row2 col4\" >1</td>\n",
       "            </tr>\n",
       "            <tr>\n",
       "                                <td id=\"T_fe157a0c_246a_11ee_a2f9_acde48001122row3_col0\" class=\"data row3 col0\" ></td>\n",
       "                        <td id=\"T_fe157a0c_246a_11ee_a2f9_acde48001122row3_col1\" class=\"data row3 col1\" >0.727500</td>\n",
       "                        <td id=\"T_fe157a0c_246a_11ee_a2f9_acde48001122row3_col2\" class=\"data row3 col2\" >0.680000</td>\n",
       "                        <td id=\"T_fe157a0c_246a_11ee_a2f9_acde48001122row3_col3\" class=\"data row3 col3\" >0.637500</td>\n",
       "                        <td id=\"T_fe157a0c_246a_11ee_a2f9_acde48001122row3_col4\" class=\"data row3 col4\" >1</td>\n",
       "            </tr>\n",
       "            <tr>\n",
       "                                <td id=\"T_fe157a0c_246a_11ee_a2f9_acde48001122row4_col0\" class=\"data row4 col0\" >0.680000</td>\n",
       "                        <td id=\"T_fe157a0c_246a_11ee_a2f9_acde48001122row4_col1\" class=\"data row4 col1\" >0.637500</td>\n",
       "                        <td id=\"T_fe157a0c_246a_11ee_a2f9_acde48001122row4_col2\" class=\"data row4 col2\" >0.600000</td>\n",
       "                        <td id=\"T_fe157a0c_246a_11ee_a2f9_acde48001122row4_col3\" class=\"data row4 col3\" >0.567500</td>\n",
       "                        <td id=\"T_fe157a0c_246a_11ee_a2f9_acde48001122row4_col4\" class=\"data row4 col4\" >1</td>\n",
       "            </tr>\n",
       "    </tbody></table>"
      ],
      "text/plain": [
       "<pandas.io.formats.style.Styler at 0x7f8a495b3e90>"
      ]
     },
     "execution_count": 248,
     "metadata": {},
     "output_type": "execute_result"
    }
   ],
   "source": [
    "def p_values(stock_price_chart, rates):\n",
    "    P = {i: [1]*(i+1) for i in range(t+1)}\n",
    "    for i in range(0, t):\n",
    "        for j in range(i+1):\n",
    "            if stock_price_chart[i][j] == 0:\n",
    "                P[i][j] = -1\n",
    "            else:\n",
    "                d = stock_price_chart[i+1][j] / stock_price_chart[i][j]\n",
    "                u = stock_price_chart[i+1][j+1] / stock_price_chart[i][j]\n",
    "                P[i][j] = (1 + rates[i][j] - d) / (u-d)\n",
    "                # print(d)\n",
    "                # print(u)\n",
    "                # print(u-d)\n",
    "                # print(1+rates[i][j])\n",
    "                # print(1 + rates[i][j] - d)\n",
    "    return P\n",
    "\n",
    "p_vals = p_values(SP, rates)\n",
    "print(\"p tilde\")\n",
    "displayChart(p_vals)"
   ]
  },
  {
   "cell_type": "code",
   "execution_count": 249,
   "id": "e0ed9314",
   "metadata": {},
   "outputs": [],
   "source": [
    "# expected stock price (risk neutral pricing)\n",
    "# additive model\n",
    "def exp(x,y,p,r):\n",
    "    if p != -1:\n",
    "        return (x*p+y*(1-p))/(1+r)\n",
    "    return 0\n",
    "\n",
    "# multiplicative model\n",
    "def rnExp(x,y):\n",
    "    return exp(x,y,p,r)"
   ]
  },
  {
   "cell_type": "code",
   "execution_count": 250,
   "id": "dd42b446",
   "metadata": {},
   "outputs": [
    {
     "name": "stdout",
     "output_type": "stream",
     "text": [
      "Vanilla Bond payoff: [face value (after coupon), coupon]\n"
     ]
    },
    {
     "data": {
      "text/html": [
       "<style  type=\"text/css\" >\n",
       "</style><table id=\"T_fe198a2a_246a_11ee_a2f9_acde48001122\" ><thead>    <tr>        <th class=\"col_heading level0 col0\" >0</th>        <th class=\"col_heading level0 col1\" >1</th>        <th class=\"col_heading level0 col2\" >2</th>        <th class=\"col_heading level0 col3\" >3</th>        <th class=\"col_heading level0 col4\" >4</th>    </tr></thead><tbody>\n",
       "                <tr>\n",
       "                                <td id=\"T_fe198a2a_246a_11ee_a2f9_acde48001122row0_col0\" class=\"data row0 col0\" ></td>\n",
       "                        <td id=\"T_fe198a2a_246a_11ee_a2f9_acde48001122row0_col1\" class=\"data row0 col1\" ></td>\n",
       "                        <td id=\"T_fe198a2a_246a_11ee_a2f9_acde48001122row0_col2\" class=\"data row0 col2\" ></td>\n",
       "                        <td id=\"T_fe198a2a_246a_11ee_a2f9_acde48001122row0_col3\" class=\"data row0 col3\" ></td>\n",
       "                        <td id=\"T_fe198a2a_246a_11ee_a2f9_acde48001122row0_col4\" class=\"data row0 col4\" >[50, 2.0]</td>\n",
       "            </tr>\n",
       "            <tr>\n",
       "                                <td id=\"T_fe198a2a_246a_11ee_a2f9_acde48001122row1_col0\" class=\"data row1 col0\" ></td>\n",
       "                        <td id=\"T_fe198a2a_246a_11ee_a2f9_acde48001122row1_col1\" class=\"data row1 col1\" ></td>\n",
       "                        <td id=\"T_fe198a2a_246a_11ee_a2f9_acde48001122row1_col2\" class=\"data row1 col2\" ></td>\n",
       "                        <td id=\"T_fe198a2a_246a_11ee_a2f9_acde48001122row1_col3\" class=\"data row1 col3\" >[48.37209302325582, 2.0]</td>\n",
       "                        <td id=\"T_fe198a2a_246a_11ee_a2f9_acde48001122row1_col4\" class=\"data row1 col4\" >[50, 2.0]</td>\n",
       "            </tr>\n",
       "            <tr>\n",
       "                                <td id=\"T_fe198a2a_246a_11ee_a2f9_acde48001122row2_col0\" class=\"data row2 col0\" ></td>\n",
       "                        <td id=\"T_fe198a2a_246a_11ee_a2f9_acde48001122row2_col1\" class=\"data row2 col1\" ></td>\n",
       "                        <td id=\"T_fe198a2a_246a_11ee_a2f9_acde48001122row2_col2\" class=\"data row2 col2\" >[47.17010896794226, 2.0]</td>\n",
       "                        <td id=\"T_fe198a2a_246a_11ee_a2f9_acde48001122row2_col3\" class=\"data row2 col3\" >[48.82629107981221, 2.0]</td>\n",
       "                        <td id=\"T_fe198a2a_246a_11ee_a2f9_acde48001122row2_col4\" class=\"data row2 col4\" >[50, 2.0]</td>\n",
       "            </tr>\n",
       "            <tr>\n",
       "                                <td id=\"T_fe198a2a_246a_11ee_a2f9_acde48001122row3_col0\" class=\"data row3 col0\" ></td>\n",
       "                        <td id=\"T_fe198a2a_246a_11ee_a2f9_acde48001122row3_col1\" class=\"data row3 col1\" >[46.40424372964024, 2.0]</td>\n",
       "                        <td id=\"T_fe198a2a_246a_11ee_a2f9_acde48001122row3_col2\" class=\"data row3 col2\" >[48.08904696472974, 2.0]</td>\n",
       "                        <td id=\"T_fe198a2a_246a_11ee_a2f9_acde48001122row3_col3\" class=\"data row3 col3\" >[49.28909952606635, 2.0]</td>\n",
       "                        <td id=\"T_fe198a2a_246a_11ee_a2f9_acde48001122row3_col4\" class=\"data row3 col4\" >[50, 2.0]</td>\n",
       "            </tr>\n",
       "            <tr>\n",
       "                                <td id=\"T_fe198a2a_246a_11ee_a2f9_acde48001122row4_col0\" class=\"data row4 col0\" >[45.6277702171945, 0]</td>\n",
       "                        <td id=\"T_fe198a2a_246a_11ee_a2f9_acde48001122row4_col1\" class=\"data row4 col1\" >[46.28297091897127, 2.0]</td>\n",
       "                        <td id=\"T_fe198a2a_246a_11ee_a2f9_acde48001122row4_col2\" class=\"data row4 col2\" >[44.61177070206753, 2.0]</td>\n",
       "                        <td id=\"T_fe198a2a_246a_11ee_a2f9_acde48001122row4_col3\" class=\"data row4 col3\" >[38.17224880382775, 2.0]</td>\n",
       "                        <td id=\"T_fe198a2a_246a_11ee_a2f9_acde48001122row4_col4\" class=\"data row4 col4\" >[24.0, 0]</td>\n",
       "            </tr>\n",
       "    </tbody></table>"
      ],
      "text/plain": [
       "<pandas.io.formats.style.Styler at 0x7f8a4953ba10>"
      ]
     },
     "execution_count": 250,
     "metadata": {},
     "output_type": "execute_result"
    }
   ],
   "source": [
    "bond_payoff = list(map(g, SP[t]))\n",
    "def vanillaBond(payoff): # coupon amount\n",
    "    vanillaBond={}\n",
    "    vanillaBond[t]=payoff\n",
    "    # IP=IntrinsicPut()\n",
    "    #for n in range(0, N+1):\n",
    "    #    PutPriceA[N].append(IP[N][n])\n",
    "    for i in range(t-1, -1, -1):\n",
    "        vanillaBond[i]=[]\n",
    "        for j in range(i+1):\n",
    "            entry = [0,0]\n",
    "            if SP[i][j] != 0: \n",
    "                entry[0] = exp(vanillaBond[i+1][j+1][0], vanillaBond[i+1][j][0], p_vals[i][j], rates[i][j]) + exp(vanillaBond[i+1][j+1][1], vanillaBond[i+1][j][1], p_vals[i][j], rates[i][j])\n",
    "                entry[1] = coupon if (SP[i][j] >= default_threshold) and i>0 else 0\n",
    "            #print(entry)\n",
    "            vanillaBond[i].append(entry)\n",
    "    return vanillaBond\n",
    "\n",
    "vBond = vanillaBond(bond_payoff)\n",
    "print(\"Vanilla Bond payoff: [face value (after coupon), coupon]\")\n",
    "displayChart(vBond)"
   ]
  },
  {
   "cell_type": "code",
   "execution_count": 251,
   "id": "c4cdca9f",
   "metadata": {},
   "outputs": [
    {
     "name": "stdout",
     "output_type": "stream",
     "text": [
      "Convertible Bond payoff: [face value (after coupon), coupon]\n",
      "Convertible but not callable\n"
     ]
    },
    {
     "data": {
      "text/html": [
       "<style  type=\"text/css\" >\n",
       "</style><table id=\"T_fe1c4fb2_246a_11ee_a2f9_acde48001122\" ><thead>    <tr>        <th class=\"col_heading level0 col0\" >0</th>        <th class=\"col_heading level0 col1\" >1</th>        <th class=\"col_heading level0 col2\" >2</th>        <th class=\"col_heading level0 col3\" >3</th>        <th class=\"col_heading level0 col4\" >4</th>    </tr></thead><tbody>\n",
       "                <tr>\n",
       "                                <td id=\"T_fe1c4fb2_246a_11ee_a2f9_acde48001122row0_col0\" class=\"data row0 col0\" ></td>\n",
       "                        <td id=\"T_fe1c4fb2_246a_11ee_a2f9_acde48001122row0_col1\" class=\"data row0 col1\" ></td>\n",
       "                        <td id=\"T_fe1c4fb2_246a_11ee_a2f9_acde48001122row0_col2\" class=\"data row0 col2\" ></td>\n",
       "                        <td id=\"T_fe1c4fb2_246a_11ee_a2f9_acde48001122row0_col3\" class=\"data row0 col3\" ></td>\n",
       "                        <td id=\"T_fe1c4fb2_246a_11ee_a2f9_acde48001122row0_col4\" class=\"data row0 col4\" >[50.0, 2.0]</td>\n",
       "            </tr>\n",
       "            <tr>\n",
       "                                <td id=\"T_fe1c4fb2_246a_11ee_a2f9_acde48001122row1_col0\" class=\"data row1 col0\" ></td>\n",
       "                        <td id=\"T_fe1c4fb2_246a_11ee_a2f9_acde48001122row1_col1\" class=\"data row1 col1\" ></td>\n",
       "                        <td id=\"T_fe1c4fb2_246a_11ee_a2f9_acde48001122row1_col2\" class=\"data row1 col2\" ></td>\n",
       "                        <td id=\"T_fe1c4fb2_246a_11ee_a2f9_acde48001122row1_col3\" class=\"data row1 col3\" >[48.37209302325582, 2.0]</td>\n",
       "                        <td id=\"T_fe1c4fb2_246a_11ee_a2f9_acde48001122row1_col4\" class=\"data row1 col4\" >[50, 2.0]</td>\n",
       "            </tr>\n",
       "            <tr>\n",
       "                                <td id=\"T_fe1c4fb2_246a_11ee_a2f9_acde48001122row2_col0\" class=\"data row2 col0\" ></td>\n",
       "                        <td id=\"T_fe1c4fb2_246a_11ee_a2f9_acde48001122row2_col1\" class=\"data row2 col1\" ></td>\n",
       "                        <td id=\"T_fe1c4fb2_246a_11ee_a2f9_acde48001122row2_col2\" class=\"data row2 col2\" >[47.17010896794226, 2.0]</td>\n",
       "                        <td id=\"T_fe1c4fb2_246a_11ee_a2f9_acde48001122row2_col3\" class=\"data row2 col3\" >[48.82629107981221, 2.0]</td>\n",
       "                        <td id=\"T_fe1c4fb2_246a_11ee_a2f9_acde48001122row2_col4\" class=\"data row2 col4\" >[50, 2.0]</td>\n",
       "            </tr>\n",
       "            <tr>\n",
       "                                <td id=\"T_fe1c4fb2_246a_11ee_a2f9_acde48001122row3_col0\" class=\"data row3 col0\" ></td>\n",
       "                        <td id=\"T_fe1c4fb2_246a_11ee_a2f9_acde48001122row3_col1\" class=\"data row3 col1\" >[46.40424372964024, 2.0]</td>\n",
       "                        <td id=\"T_fe1c4fb2_246a_11ee_a2f9_acde48001122row3_col2\" class=\"data row3 col2\" >[48.08904696472974, 2.0]</td>\n",
       "                        <td id=\"T_fe1c4fb2_246a_11ee_a2f9_acde48001122row3_col3\" class=\"data row3 col3\" >[49.28909952606635, 2.0]</td>\n",
       "                        <td id=\"T_fe1c4fb2_246a_11ee_a2f9_acde48001122row3_col4\" class=\"data row3 col4\" >[50, 2.0]</td>\n",
       "            </tr>\n",
       "            <tr>\n",
       "                                <td id=\"T_fe1c4fb2_246a_11ee_a2f9_acde48001122row4_col0\" class=\"data row4 col0\" >[45.6277702171945, 0]</td>\n",
       "                        <td id=\"T_fe1c4fb2_246a_11ee_a2f9_acde48001122row4_col1\" class=\"data row4 col1\" >[46.28297091897127, 2.0]</td>\n",
       "                        <td id=\"T_fe1c4fb2_246a_11ee_a2f9_acde48001122row4_col2\" class=\"data row4 col2\" >[44.61177070206753, 2.0]</td>\n",
       "                        <td id=\"T_fe1c4fb2_246a_11ee_a2f9_acde48001122row4_col3\" class=\"data row4 col3\" >[38.17224880382775, 2.0]</td>\n",
       "                        <td id=\"T_fe1c4fb2_246a_11ee_a2f9_acde48001122row4_col4\" class=\"data row4 col4\" >[24.0, 0]</td>\n",
       "            </tr>\n",
       "    </tbody></table>"
      ],
      "text/plain": [
       "<pandas.io.formats.style.Styler at 0x7f8a49600b90>"
      ]
     },
     "execution_count": 251,
     "metadata": {},
     "output_type": "execute_result"
    }
   ],
   "source": [
    "def convBond(payoff):\n",
    "    convBond = {}\n",
    "    convBond[t] = [[max(SP[t][i], payoff[i][0]), payoff[i][1]] for i in range(t+1)]\n",
    "    for i in range(t-1, -1, -1):\n",
    "        convBond[i]=[]\n",
    "        for j in range(i+1):\n",
    "            entry = [0,0]\n",
    "            if SP[i][j] != 0: \n",
    "                entry[0] = exp(convBond[i+1][j+1][0], convBond[i+1][j][0], p_vals[i][j], rates[i][j]) \\\n",
    "                         + exp(convBond[i+1][j+1][1], convBond[i+1][j][1], p_vals[i][j], rates[i][j])\n",
    "                entry[0] = max(entry[0], SP[i][j])\n",
    "                entry[1] = coupon if SP[i][j] >= default_threshold else 0\n",
    "            #print(entry)\n",
    "            convBond[i].append(entry)\n",
    "    convBond[0][0][1]=0\n",
    "    return convBond\n",
    "\n",
    "cBond = convBond(bond_payoff)\n",
    "print(\"Convertible Bond payoff: [face value (after coupon), coupon]\")\n",
    "print(\"Convertible but not callable\")\n",
    "displayChart(cBond)"
   ]
  },
  {
   "cell_type": "code",
   "execution_count": 252,
   "id": "d2799e0a",
   "metadata": {},
   "outputs": [
    {
     "name": "stdout",
     "output_type": "stream",
     "text": [
      "Callable Bond payoff: [face value (after coupon), coupon]\n",
      "Convertible and callable\n",
      "Conversion prioritized\n"
     ]
    },
    {
     "data": {
      "text/html": [
       "<style  type=\"text/css\" >\n",
       "</style><table id=\"T_fe1f851a_246a_11ee_a2f9_acde48001122\" ><thead>    <tr>        <th class=\"col_heading level0 col0\" >0</th>        <th class=\"col_heading level0 col1\" >1</th>        <th class=\"col_heading level0 col2\" >2</th>        <th class=\"col_heading level0 col3\" >3</th>        <th class=\"col_heading level0 col4\" >4</th>    </tr></thead><tbody>\n",
       "                <tr>\n",
       "                                <td id=\"T_fe1f851a_246a_11ee_a2f9_acde48001122row0_col0\" class=\"data row0 col0\" ></td>\n",
       "                        <td id=\"T_fe1f851a_246a_11ee_a2f9_acde48001122row0_col1\" class=\"data row0 col1\" ></td>\n",
       "                        <td id=\"T_fe1f851a_246a_11ee_a2f9_acde48001122row0_col2\" class=\"data row0 col2\" ></td>\n",
       "                        <td id=\"T_fe1f851a_246a_11ee_a2f9_acde48001122row0_col3\" class=\"data row0 col3\" ></td>\n",
       "                        <td id=\"T_fe1f851a_246a_11ee_a2f9_acde48001122row0_col4\" class=\"data row0 col4\" >[50.0, 2.0, 0]</td>\n",
       "            </tr>\n",
       "            <tr>\n",
       "                                <td id=\"T_fe1f851a_246a_11ee_a2f9_acde48001122row1_col0\" class=\"data row1 col0\" ></td>\n",
       "                        <td id=\"T_fe1f851a_246a_11ee_a2f9_acde48001122row1_col1\" class=\"data row1 col1\" ></td>\n",
       "                        <td id=\"T_fe1f851a_246a_11ee_a2f9_acde48001122row1_col2\" class=\"data row1 col2\" ></td>\n",
       "                        <td id=\"T_fe1f851a_246a_11ee_a2f9_acde48001122row1_col3\" class=\"data row1 col3\" >[48.37209302325582, 2.0, 0]</td>\n",
       "                        <td id=\"T_fe1f851a_246a_11ee_a2f9_acde48001122row1_col4\" class=\"data row1 col4\" >[50, 2.0, 0]</td>\n",
       "            </tr>\n",
       "            <tr>\n",
       "                                <td id=\"T_fe1f851a_246a_11ee_a2f9_acde48001122row2_col0\" class=\"data row2 col0\" ></td>\n",
       "                        <td id=\"T_fe1f851a_246a_11ee_a2f9_acde48001122row2_col1\" class=\"data row2 col1\" ></td>\n",
       "                        <td id=\"T_fe1f851a_246a_11ee_a2f9_acde48001122row2_col2\" class=\"data row2 col2\" >[47.17010896794226, 2.0, 0]</td>\n",
       "                        <td id=\"T_fe1f851a_246a_11ee_a2f9_acde48001122row2_col3\" class=\"data row2 col3\" >[48.82629107981221, 2.0, 0]</td>\n",
       "                        <td id=\"T_fe1f851a_246a_11ee_a2f9_acde48001122row2_col4\" class=\"data row2 col4\" >[50, 2.0, 0]</td>\n",
       "            </tr>\n",
       "            <tr>\n",
       "                                <td id=\"T_fe1f851a_246a_11ee_a2f9_acde48001122row3_col0\" class=\"data row3 col0\" ></td>\n",
       "                        <td id=\"T_fe1f851a_246a_11ee_a2f9_acde48001122row3_col1\" class=\"data row3 col1\" >[46.40424372964024, 2.0, 0]</td>\n",
       "                        <td id=\"T_fe1f851a_246a_11ee_a2f9_acde48001122row3_col2\" class=\"data row3 col2\" >[48.08904696472974, 2.0, 0]</td>\n",
       "                        <td id=\"T_fe1f851a_246a_11ee_a2f9_acde48001122row3_col3\" class=\"data row3 col3\" >[49.28909952606635, 2.0, 0]</td>\n",
       "                        <td id=\"T_fe1f851a_246a_11ee_a2f9_acde48001122row3_col4\" class=\"data row3 col4\" >[50, 2.0, 0]</td>\n",
       "            </tr>\n",
       "            <tr>\n",
       "                                <td id=\"T_fe1f851a_246a_11ee_a2f9_acde48001122row4_col0\" class=\"data row4 col0\" >[45.6277702171945, 0, 0]</td>\n",
       "                        <td id=\"T_fe1f851a_246a_11ee_a2f9_acde48001122row4_col1\" class=\"data row4 col1\" >[46.28297091897127, 2.0, 0]</td>\n",
       "                        <td id=\"T_fe1f851a_246a_11ee_a2f9_acde48001122row4_col2\" class=\"data row4 col2\" >[44.61177070206753, 2.0, 0]</td>\n",
       "                        <td id=\"T_fe1f851a_246a_11ee_a2f9_acde48001122row4_col3\" class=\"data row4 col3\" >[38.17224880382775, 2.0, 0]</td>\n",
       "                        <td id=\"T_fe1f851a_246a_11ee_a2f9_acde48001122row4_col4\" class=\"data row4 col4\" >[24.0, 0, 0]</td>\n",
       "            </tr>\n",
       "    </tbody></table>"
      ],
      "text/plain": [
       "<pandas.io.formats.style.Styler at 0x7f8a49600ad0>"
      ]
     },
     "execution_count": 252,
     "metadata": {},
     "output_type": "execute_result"
    }
   ],
   "source": [
    "def callable2(convertible):\n",
    "    callBond = {}\n",
    "    callBond[t] = [[min(K, convertible[t][i][0]), convertible[t][i][1],0] for i in range(t+1)]\n",
    "    for i in range(t+1):\n",
    "        # 0 means not called, 1 means called\n",
    "        callBond[t][i][2] = 1 if (K<=convertible[t][i][0]) else 0\n",
    "    for i in range(t-1, -1, -1):\n",
    "        callBond[i]=[]\n",
    "        for j in range(i+1):\n",
    "            entry = [0,0,0]\n",
    "            if SP[i][j] != 0: \n",
    "                entry[0] = exp(callBond[i+1][j+1][0], callBond[i+1][j][0], p_vals[i][j], rates[i][j])\n",
    "                entry[0] += exp(callBond[i+1][j+1][1], callBond[i+1][j][1], p_vals[i][j], rates[i][j])\n",
    "                entry[2] = 1 if (K<entry[0]) else 0\n",
    "                entry[0] = min(max(K, SP[i][j]), entry[0])\n",
    "                entry[1] = coupon if ((SP[i][j] >= default_threshold) and i>0) else 0\n",
    "            #print(entry)\n",
    "            callBond[i].append(entry)\n",
    "    return callBond\n",
    "\n",
    "callable_bond = callable2(cBond)\n",
    "print(\"Callable Bond payoff: [face value (after coupon), coupon]\")\n",
    "print(\"Convertible and callable\")\n",
    "print(\"Conversion prioritized\")\n",
    "displayChart(callable_bond)"
   ]
  },
  {
   "cell_type": "code",
   "execution_count": 253,
   "id": "464c4698",
   "metadata": {},
   "outputs": [
    {
     "name": "stdout",
     "output_type": "stream",
     "text": [
      "Callable Bond payoff: [face value (after coupon), coupon]\n",
      "Convertible and callable\n",
      "Call before convertion\n"
     ]
    },
    {
     "data": {
      "text/html": [
       "<style  type=\"text/css\" >\n",
       "</style><table id=\"T_fe227748_246a_11ee_a2f9_acde48001122\" ><thead>    <tr>        <th class=\"col_heading level0 col0\" >0</th>        <th class=\"col_heading level0 col1\" >1</th>        <th class=\"col_heading level0 col2\" >2</th>        <th class=\"col_heading level0 col3\" >3</th>        <th class=\"col_heading level0 col4\" >4</th>    </tr></thead><tbody>\n",
       "                <tr>\n",
       "                                <td id=\"T_fe227748_246a_11ee_a2f9_acde48001122row0_col0\" class=\"data row0 col0\" ></td>\n",
       "                        <td id=\"T_fe227748_246a_11ee_a2f9_acde48001122row0_col1\" class=\"data row0 col1\" ></td>\n",
       "                        <td id=\"T_fe227748_246a_11ee_a2f9_acde48001122row0_col2\" class=\"data row0 col2\" ></td>\n",
       "                        <td id=\"T_fe227748_246a_11ee_a2f9_acde48001122row0_col3\" class=\"data row0 col3\" ></td>\n",
       "                        <td id=\"T_fe227748_246a_11ee_a2f9_acde48001122row0_col4\" class=\"data row0 col4\" >[50.0, 2.0, 0]</td>\n",
       "            </tr>\n",
       "            <tr>\n",
       "                                <td id=\"T_fe227748_246a_11ee_a2f9_acde48001122row1_col0\" class=\"data row1 col0\" ></td>\n",
       "                        <td id=\"T_fe227748_246a_11ee_a2f9_acde48001122row1_col1\" class=\"data row1 col1\" ></td>\n",
       "                        <td id=\"T_fe227748_246a_11ee_a2f9_acde48001122row1_col2\" class=\"data row1 col2\" ></td>\n",
       "                        <td id=\"T_fe227748_246a_11ee_a2f9_acde48001122row1_col3\" class=\"data row1 col3\" >[48.37209302325582, 2.0, 0]</td>\n",
       "                        <td id=\"T_fe227748_246a_11ee_a2f9_acde48001122row1_col4\" class=\"data row1 col4\" >[50, 2.0, 0]</td>\n",
       "            </tr>\n",
       "            <tr>\n",
       "                                <td id=\"T_fe227748_246a_11ee_a2f9_acde48001122row2_col0\" class=\"data row2 col0\" ></td>\n",
       "                        <td id=\"T_fe227748_246a_11ee_a2f9_acde48001122row2_col1\" class=\"data row2 col1\" ></td>\n",
       "                        <td id=\"T_fe227748_246a_11ee_a2f9_acde48001122row2_col2\" class=\"data row2 col2\" >[47.17010896794226, 2.0, 0]</td>\n",
       "                        <td id=\"T_fe227748_246a_11ee_a2f9_acde48001122row2_col3\" class=\"data row2 col3\" >[48.82629107981221, 2.0, 0]</td>\n",
       "                        <td id=\"T_fe227748_246a_11ee_a2f9_acde48001122row2_col4\" class=\"data row2 col4\" >[50, 2.0, 0]</td>\n",
       "            </tr>\n",
       "            <tr>\n",
       "                                <td id=\"T_fe227748_246a_11ee_a2f9_acde48001122row3_col0\" class=\"data row3 col0\" ></td>\n",
       "                        <td id=\"T_fe227748_246a_11ee_a2f9_acde48001122row3_col1\" class=\"data row3 col1\" >[46.40424372964024, 2.0, 0]</td>\n",
       "                        <td id=\"T_fe227748_246a_11ee_a2f9_acde48001122row3_col2\" class=\"data row3 col2\" >[48.08904696472974, 2.0, 0]</td>\n",
       "                        <td id=\"T_fe227748_246a_11ee_a2f9_acde48001122row3_col3\" class=\"data row3 col3\" >[49.28909952606635, 2.0, 0]</td>\n",
       "                        <td id=\"T_fe227748_246a_11ee_a2f9_acde48001122row3_col4\" class=\"data row3 col4\" >[50, 2.0, 0]</td>\n",
       "            </tr>\n",
       "            <tr>\n",
       "                                <td id=\"T_fe227748_246a_11ee_a2f9_acde48001122row4_col0\" class=\"data row4 col0\" >[45.6277702171945, 0, 0]</td>\n",
       "                        <td id=\"T_fe227748_246a_11ee_a2f9_acde48001122row4_col1\" class=\"data row4 col1\" >[46.28297091897127, 2.0, 0]</td>\n",
       "                        <td id=\"T_fe227748_246a_11ee_a2f9_acde48001122row4_col2\" class=\"data row4 col2\" >[44.61177070206753, 2.0, 0]</td>\n",
       "                        <td id=\"T_fe227748_246a_11ee_a2f9_acde48001122row4_col3\" class=\"data row4 col3\" >[38.17224880382775, 2.0, 0]</td>\n",
       "                        <td id=\"T_fe227748_246a_11ee_a2f9_acde48001122row4_col4\" class=\"data row4 col4\" >[24.0, 0, 0]</td>\n",
       "            </tr>\n",
       "    </tbody></table>"
      ],
      "text/plain": [
       "<pandas.io.formats.style.Styler at 0x7f8a496209d0>"
      ]
     },
     "execution_count": 253,
     "metadata": {},
     "output_type": "execute_result"
    }
   ],
   "source": [
    "def callable3(call_later):\n",
    "    callBond = {}\n",
    "    callBond[t] = [[max(SP[t][i], call_later[t][i][0]), call_later[t][i][1],0] for i in range(t+1)]\n",
    "    for i in range(t+1):\n",
    "        # 0 means not called, 1 means called\n",
    "        callBond[t][i][2] = 1 if (K<=call_later[t][i][0]) else 0\n",
    "    for i in range(t-1, -1, -1):\n",
    "        callBond[i]=[]\n",
    "        for j in range(i+1):\n",
    "            entry = [0,0,0]\n",
    "            if SP[i][j] != 0: \n",
    "                entry[0] = exp(callBond[i+1][j+1][0], callBond[i+1][j][0], p_vals[i][j], rates[i][j])\n",
    "                entry[0] += exp(callBond[i+1][j+1][1], callBond[i+1][j][1], p_vals[i][j], rates[i][j])\n",
    "                entry[2] = 1 if (K<entry[0]) else 0\n",
    "                entry[0] = max(SP[i][j], entry[0])\n",
    "                entry[1] = coupon if ((SP[i][j] >= default_threshold) and i>0) else 0\n",
    "            #print(entry)\n",
    "            callBond[i].append(entry)\n",
    "    return callBond\n",
    "\n",
    "call_second = callable3(callable_bond)\n",
    "print(\"Callable Bond payoff: [face value (after coupon), coupon]\")\n",
    "print(\"Convertible and callable\")\n",
    "print(\"Call before convertion\")\n",
    "displayChart(call_second)"
   ]
  },
  {
   "cell_type": "code",
   "execution_count": 254,
   "id": "93193182",
   "metadata": {},
   "outputs": [
    {
     "name": "stdout",
     "output_type": "stream",
     "text": [
      "Putabl Bond payoff: [face value (after coupon), coupon]\n",
      "Convertible and putable\n"
     ]
    },
    {
     "data": {
      "text/html": [
       "<style  type=\"text/css\" >\n",
       "</style><table id=\"T_fe263da6_246a_11ee_a2f9_acde48001122\" ><thead>    <tr>        <th class=\"col_heading level0 col0\" >0</th>        <th class=\"col_heading level0 col1\" >1</th>        <th class=\"col_heading level0 col2\" >2</th>        <th class=\"col_heading level0 col3\" >3</th>        <th class=\"col_heading level0 col4\" >4</th>    </tr></thead><tbody>\n",
       "                <tr>\n",
       "                                <td id=\"T_fe263da6_246a_11ee_a2f9_acde48001122row0_col0\" class=\"data row0 col0\" ></td>\n",
       "                        <td id=\"T_fe263da6_246a_11ee_a2f9_acde48001122row0_col1\" class=\"data row0 col1\" ></td>\n",
       "                        <td id=\"T_fe263da6_246a_11ee_a2f9_acde48001122row0_col2\" class=\"data row0 col2\" ></td>\n",
       "                        <td id=\"T_fe263da6_246a_11ee_a2f9_acde48001122row0_col3\" class=\"data row0 col3\" ></td>\n",
       "                        <td id=\"T_fe263da6_246a_11ee_a2f9_acde48001122row0_col4\" class=\"data row0 col4\" >[50.0, 2.0, 1]</td>\n",
       "            </tr>\n",
       "            <tr>\n",
       "                                <td id=\"T_fe263da6_246a_11ee_a2f9_acde48001122row1_col0\" class=\"data row1 col0\" ></td>\n",
       "                        <td id=\"T_fe263da6_246a_11ee_a2f9_acde48001122row1_col1\" class=\"data row1 col1\" ></td>\n",
       "                        <td id=\"T_fe263da6_246a_11ee_a2f9_acde48001122row1_col2\" class=\"data row1 col2\" ></td>\n",
       "                        <td id=\"T_fe263da6_246a_11ee_a2f9_acde48001122row1_col3\" class=\"data row1 col3\" >[50, 2.0, 0]</td>\n",
       "                        <td id=\"T_fe263da6_246a_11ee_a2f9_acde48001122row1_col4\" class=\"data row1 col4\" >[50, 2.0, 1]</td>\n",
       "            </tr>\n",
       "            <tr>\n",
       "                                <td id=\"T_fe263da6_246a_11ee_a2f9_acde48001122row2_col0\" class=\"data row2 col0\" ></td>\n",
       "                        <td id=\"T_fe263da6_246a_11ee_a2f9_acde48001122row2_col1\" class=\"data row2 col1\" ></td>\n",
       "                        <td id=\"T_fe263da6_246a_11ee_a2f9_acde48001122row2_col2\" class=\"data row2 col2\" >[50, 2.0, 0]</td>\n",
       "                        <td id=\"T_fe263da6_246a_11ee_a2f9_acde48001122row2_col3\" class=\"data row2 col3\" >[50, 2.0, 0]</td>\n",
       "                        <td id=\"T_fe263da6_246a_11ee_a2f9_acde48001122row2_col4\" class=\"data row2 col4\" >[50, 2.0, 1]</td>\n",
       "            </tr>\n",
       "            <tr>\n",
       "                                <td id=\"T_fe263da6_246a_11ee_a2f9_acde48001122row3_col0\" class=\"data row3 col0\" ></td>\n",
       "                        <td id=\"T_fe263da6_246a_11ee_a2f9_acde48001122row3_col1\" class=\"data row3 col1\" >[50, 2.0, 0]</td>\n",
       "                        <td id=\"T_fe263da6_246a_11ee_a2f9_acde48001122row3_col2\" class=\"data row3 col2\" >[50, 2.0, 0]</td>\n",
       "                        <td id=\"T_fe263da6_246a_11ee_a2f9_acde48001122row3_col3\" class=\"data row3 col3\" >[50, 2.0, 0]</td>\n",
       "                        <td id=\"T_fe263da6_246a_11ee_a2f9_acde48001122row3_col4\" class=\"data row3 col4\" >[50, 2.0, 1]</td>\n",
       "            </tr>\n",
       "            <tr>\n",
       "                                <td id=\"T_fe263da6_246a_11ee_a2f9_acde48001122row4_col0\" class=\"data row4 col0\" >[50, 0, 0]</td>\n",
       "                        <td id=\"T_fe263da6_246a_11ee_a2f9_acde48001122row4_col1\" class=\"data row4 col1\" >[50, 2.0, 0]</td>\n",
       "                        <td id=\"T_fe263da6_246a_11ee_a2f9_acde48001122row4_col2\" class=\"data row4 col2\" >[50, 2.0, 0]</td>\n",
       "                        <td id=\"T_fe263da6_246a_11ee_a2f9_acde48001122row4_col3\" class=\"data row4 col3\" >[50, 2.0, 0]</td>\n",
       "                        <td id=\"T_fe263da6_246a_11ee_a2f9_acde48001122row4_col4\" class=\"data row4 col4\" >[24.0, 0, 1]</td>\n",
       "            </tr>\n",
       "    </tbody></table>"
      ],
      "text/plain": [
       "<pandas.io.formats.style.Styler at 0x7f8a49624210>"
      ]
     },
     "execution_count": 254,
     "metadata": {},
     "output_type": "execute_result"
    }
   ],
   "source": [
    "def putable(convertible):\n",
    "    putBond = {}\n",
    "    putBond[t] = [[convertible[t][i][0], convertible[t][i][1],0] for i in range(t+1)]\n",
    "    for i in range(t+1):\n",
    "        # 0 means not called, 1 means called\n",
    "        putBond[t][i][2] = 1 if (K>=convertible[t][i][0]) else 0\n",
    "    for i in range(t-1, -1, -1):\n",
    "        putBond[i]=[]\n",
    "        for j in range(i+1):\n",
    "            entry = [0,0,0]\n",
    "            if SP[i][j] != 0: \n",
    "                entry[0] = exp(putBond[i+1][j+1][0], putBond[i+1][j][0], p_vals[i][j], rates[i][j])\n",
    "                entry[0] += exp(putBond[i+1][j+1][1], putBond[i+1][j][1], p_vals[i][j], rates[i][j])\n",
    "                if(SP[i][j]==0):\n",
    "                    # bankrupt\n",
    "                    entry[0] = 0\n",
    "                    entry[1] = 0\n",
    "                    entry[2] = 0\n",
    "                elif(0<SP[i][j]<=default_threshold):  \n",
    "                    # financial distress\n",
    "                    entry[0] = max(Pu/2, entry[0])\n",
    "                    entry[1] = 1 if ((Pu/2)>entry[0]) else 0\n",
    "                    entry[2] = 0 \n",
    "                else:       \n",
    "                    entry[0] = max(Pu, entry[0]) if (i<t) else entry[0]\n",
    "                    entry[2] = 1 if (Pu>entry[0]) else 0\n",
    "                    entry[1] = coupon if (i>0) else 0\n",
    "            #print(entry)\n",
    "            putBond[i].append(entry)\n",
    "    return putBond\n",
    "\n",
    "put_bond = putable(cBond)\n",
    "print(\"Putabl Bond payoff: [face value (after coupon), coupon]\")\n",
    "print(\"Convertible and putable\")\n",
    "displayChart(put_bond)"
   ]
  },
  {
   "cell_type": "code",
   "execution_count": 255,
   "id": "8aa96de7",
   "metadata": {},
   "outputs": [
    {
     "name": "stdout",
     "output_type": "stream",
     "text": [
      "The possible callable is prices are:\n",
      "[]\n",
      "The minnimum callable bond price is:\n"
     ]
    },
    {
     "ename": "ValueError",
     "evalue": "min() arg is an empty sequence",
     "output_type": "error",
     "traceback": [
      "\u001b[0;31m---------------------------------------------------------------------------\u001b[0m",
      "\u001b[0;31mValueError\u001b[0m                                Traceback (most recent call last)",
      "\u001b[0;32m<ipython-input-255-6feab98df6ad>\u001b[0m in \u001b[0;36m<module>\u001b[0;34m\u001b[0m\n\u001b[1;32m     38\u001b[0m \u001b[0mprint\u001b[0m\u001b[0;34m(\u001b[0m\u001b[0mcallable_prices_list\u001b[0m\u001b[0;34m)\u001b[0m\u001b[0;34m\u001b[0m\u001b[0;34m\u001b[0m\u001b[0m\n\u001b[1;32m     39\u001b[0m \u001b[0mprint\u001b[0m\u001b[0;34m(\u001b[0m\u001b[0;34m\"The minnimum callable bond price is:\"\u001b[0m\u001b[0;34m)\u001b[0m\u001b[0;34m\u001b[0m\u001b[0;34m\u001b[0m\u001b[0m\n\u001b[0;32m---> 40\u001b[0;31m \u001b[0mprint\u001b[0m\u001b[0;34m(\u001b[0m\u001b[0mmin\u001b[0m\u001b[0;34m(\u001b[0m\u001b[0mcallable_prices_list\u001b[0m\u001b[0;34m)\u001b[0m\u001b[0;34m)\u001b[0m\u001b[0;34m\u001b[0m\u001b[0;34m\u001b[0m\u001b[0m\n\u001b[0m",
      "\u001b[0;31mValueError\u001b[0m: min() arg is an empty sequence"
     ]
    }
   ],
   "source": [
    "#conv_payoff: dictionary of convertible prices\n",
    "#strike: strike price\n",
    "def fill_payoff(payoff, time):\n",
    "    for i in range(time-1, -1, -1):\n",
    "        payoff[i] = []\n",
    "        for j in range(i+1):\n",
    "            entry = [0,0]\n",
    "            if SP[i][j] != 0: \n",
    "                entry[0] = exp(payoff[i+1][j+1][0], payoff[i+1][j][0], p_vals[i][j], rates[i][j]) + exp(payoff[i+1][j+1][1], payoff[i+1][j][1], p_vals[i][j], rates[i][j])\n",
    "                entry[0] = entry[0]\n",
    "                entry[1] = coupon if (SP[i][j] >= default_threshold) and i>0 else 0\n",
    "            payoff[i].append(entry)\n",
    "    return payoff\n",
    "        \n",
    "        \n",
    "def callable(conv, strike):\n",
    "    callable_prices = []\n",
    "    for i in range(t-1, -1, -1):    #i: time step\n",
    "        for j in range(i+1):        #j: # of nodes at time\n",
    "            if conv[i][j][0] >= strike:\n",
    "                old_val = conv[i][j][0]\n",
    "                conv[i][j][0] = strike\n",
    "                #continue etc\n",
    "                new_prices = {}\n",
    "                new_prices[i] = []\n",
    "                for k in range(i+1):\n",
    "                    entry = conv[i][k]\n",
    "                    new_prices[i].append(entry)\n",
    "                #new_prices has one key i, and a list of length j\n",
    "                new_prices = fill_payoff(new_prices, i)\n",
    "                b_0 = new_prices[0][0][0]\n",
    "                callable_prices.append(b_0)\n",
    "                conv[i][j][0] = old_val\n",
    "    return callable_prices\n",
    "\n",
    "callable_prices_list = callable(cBond, K)\n",
    "print(\"The possible callable is prices are:\")\n",
    "print(callable_prices_list)\n",
    "print(\"The minnimum callable bond price is:\")\n",
    "print(min(callable_prices_list))"
   ]
  },
  {
   "attachments": {},
   "cell_type": "markdown",
   "id": "0301f334",
   "metadata": {},
   "source": [
    "experiment code below"
   ]
  },
  {
   "cell_type": "code",
   "execution_count": null,
   "id": "4b9af55e",
   "metadata": {},
   "outputs": [],
   "source": [
    "# x is how much to change for additive model\n",
    "def simulate_one(x):\n",
    "    global vol\n",
    "    v = x\n",
    "    \n",
    "    rates = r_values(0, 0.005)\n",
    "    SP = StockPrice()\n",
    "    \n",
    "simulate_one(1)"
   ]
  },
  {
   "cell_type": "code",
   "execution_count": null,
   "metadata": {},
   "outputs": [
    {
     "ename": "IndexError",
     "evalue": "index 1 is out of bounds for axis 0 with size 1",
     "output_type": "error",
     "traceback": [
      "\u001b[0;31m---------------------------------------------------------------------------\u001b[0m",
      "\u001b[0;31mIndexError\u001b[0m                                Traceback (most recent call last)",
      "\u001b[0;32m<ipython-input-95-c072c8e3557b>\u001b[0m in \u001b[0;36m<module>\u001b[0;34m\u001b[0m\n\u001b[1;32m     21\u001b[0m                   \u001b[0minterests\u001b[0m\u001b[0;34m[\u001b[0m\u001b[0mkey\u001b[0m\u001b[0;34m]\u001b[0m\u001b[0;34m[\u001b[0m\u001b[0mj\u001b[0m\u001b[0;34m]\u001b[0m \u001b[0;34m=\u001b[0m \u001b[0minterests\u001b[0m\u001b[0;34m[\u001b[0m\u001b[0mkey\u001b[0m\u001b[0;34m-\u001b[0m\u001b[0;36m1\u001b[0m\u001b[0;34m]\u001b[0m\u001b[0;34m[\u001b[0m\u001b[0mj\u001b[0m\u001b[0;34m]\u001b[0m\u001b[0;34m+\u001b[0m\u001b[0;36m0.005\u001b[0m\u001b[0;34m\u001b[0m\u001b[0;34m\u001b[0m\u001b[0m\n\u001b[1;32m     22\u001b[0m             \u001b[0;32melse\u001b[0m\u001b[0;34m:\u001b[0m\u001b[0;34m\u001b[0m\u001b[0;34m\u001b[0m\u001b[0m\n\u001b[0;32m---> 23\u001b[0;31m                   \u001b[0minterests\u001b[0m\u001b[0;34m[\u001b[0m\u001b[0mkey\u001b[0m\u001b[0;34m]\u001b[0m\u001b[0;34m[\u001b[0m\u001b[0mj\u001b[0m\u001b[0;34m]\u001b[0m \u001b[0;34m=\u001b[0m \u001b[0minterests\u001b[0m\u001b[0;34m[\u001b[0m\u001b[0mkey\u001b[0m\u001b[0;34m-\u001b[0m\u001b[0;36m1\u001b[0m\u001b[0;34m]\u001b[0m\u001b[0;34m[\u001b[0m\u001b[0mj\u001b[0m\u001b[0;34m]\u001b[0m\u001b[0;34m-\u001b[0m\u001b[0;36m0.005\u001b[0m\u001b[0;34m\u001b[0m\u001b[0;34m\u001b[0m\u001b[0m\n\u001b[0m",
      "\u001b[0;31mIndexError\u001b[0m: index 1 is out of bounds for axis 0 with size 1"
     ]
    }
   ],
   "source": [
    "from scipy.stats import bernoulli\n",
    "\n",
    "# rolls = {}\n",
    "\n",
    "# for key in range(0, t+1, 1):\n",
    "#         rolls[key] = [0]*(key+1)\n",
    "#         for j in range(0, key+1, 1):\n",
    "#             prob = max(0, min(1, p_vals[key][j]))\n",
    "#             roll = bernoulli.rvs(size=1, p=prob)\n",
    "#             rolls[key][j] = roll[0]\n",
    "\n",
    "\n",
    "# if roll==1, then it is a head\n",
    "\n",
    "interests = rates\n",
    "for key in range(1, t+1, 1):\n",
    "      for j in range(0, key+1, 1):\n",
    "            prob = max(0, min(1, p_vals[key][j]))\n",
    "            [roll] = bernoulli.rvs(size=1, p=prob)\n",
    "            if(roll==1):\n",
    "                  interests[key][j] = interests[key-1][j]+0.005\n",
    "            else:\n",
    "                  interests[key][j] = interests[key-1][j]-0.005\n"
   ]
  }
 ],
 "metadata": {
  "kernelspec": {
   "display_name": "Python 3",
   "language": "python",
   "name": "python3"
  },
  "language_info": {
   "codemirror_mode": {
    "name": "ipython",
    "version": 3
   },
   "file_extension": ".py",
   "mimetype": "text/x-python",
   "name": "python",
   "nbconvert_exporter": "python",
   "pygments_lexer": "ipython3",
   "version": "3.7.6"
  }
 },
 "nbformat": 4,
 "nbformat_minor": 5
}
