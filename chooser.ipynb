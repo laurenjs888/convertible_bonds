{
 "cells": [
  {
   "cell_type": "code",
   "execution_count": 10,
   "id": "e96e59f6",
   "metadata": {},
   "outputs": [],
   "source": [
    "import pandas as pd\n",
    "import numpy as np\n",
    "import matplotlib as mpl"
   ]
  },
  {
   "cell_type": "code",
   "execution_count": 11,
   "id": "bfd386fe",
   "metadata": {},
   "outputs": [],
   "source": [
    "filename=r'/Users/Amelia/Desktop/DAL.csv'"
   ]
  },
  {
   "cell_type": "code",
   "execution_count": 12,
   "id": "b8c72891",
   "metadata": {},
   "outputs": [],
   "source": [
    "def makeDataFrame(filename):\n",
    "    data=pd.read_csv(filename)\n",
    "    df=pd.DataFrame(data,columns=['Adj Close'])\n",
    "    print(df)\n",
    "    s=df.values.tolist()\n",
    "    return s "
   ]
  },
  {
   "cell_type": "markdown",
   "id": "39517972",
   "metadata": {},
   "source": [
    "makeDataFrame(filename)"
   ]
  },
  {
   "cell_type": "code",
   "execution_count": 2,
   "id": "1f85e768",
   "metadata": {},
   "outputs": [],
   "source": [
    "K=100\n",
    "S0=100\n",
    "r=0.06\n",
    "N=10\n",
    "t=5\n",
    "u=1.3\n",
    "d=0.94\n",
    "K2=K*d"
   ]
  },
  {
   "cell_type": "code",
   "execution_count": 14,
   "id": "955276ab",
   "metadata": {},
   "outputs": [],
   "source": [
    "EuroChooserK1=5\n",
    "EuroChooserK2=6"
   ]
  },
  {
   "cell_type": "markdown",
   "id": "f163288d",
   "metadata": {},
   "source": [
    "K2 has to be greater than K1"
   ]
  },
  {
   "cell_type": "code",
   "execution_count": 15,
   "id": "9de268b3",
   "metadata": {},
   "outputs": [],
   "source": [
    "p=(1+r-d)/(u-d)\n",
    "q=1-p"
   ]
  },
  {
   "cell_type": "markdown",
   "id": "2b942cf1",
   "metadata": {},
   "source": [
    "print(p,q)"
   ]
  },
  {
   "cell_type": "code",
   "execution_count": 16,
   "id": "a8f80da5",
   "metadata": {},
   "outputs": [],
   "source": [
    "def StockPrice():\n",
    "    StockPrice={}\n",
    "    StockPrice[N]=[]\n",
    "    for n in range(0, N+1):\n",
    "        StockPrice[N].append(S0*(u**n)*(d**(N-n)))\n",
    "    for i in range(N-1, -1, -1):\n",
    "        StockPrice[i]=[]\n",
    "        for j in range(0, i+1):\n",
    "            StockPrice[i].append((StockPrice[i+1][j+1])/u)\n",
    "    return StockPrice"
   ]
  },
  {
   "cell_type": "code",
   "execution_count": 17,
   "id": "3bc811db",
   "metadata": {},
   "outputs": [
    {
     "data": {
      "text/html": [
       "<style  type=\"text/css\" >\n",
       "</style><table id=\"T_fcbb9_\" ><thead>    <tr>        <th class=\"col_heading level0 col0\" >0</th>        <th class=\"col_heading level0 col1\" >1</th>        <th class=\"col_heading level0 col2\" >2</th>        <th class=\"col_heading level0 col3\" >3</th>        <th class=\"col_heading level0 col4\" >4</th>        <th class=\"col_heading level0 col5\" >5</th>        <th class=\"col_heading level0 col6\" >6</th>        <th class=\"col_heading level0 col7\" >7</th>        <th class=\"col_heading level0 col8\" >8</th>        <th class=\"col_heading level0 col9\" >9</th>        <th class=\"col_heading level0 col10\" >10</th>    </tr></thead><tbody>\n",
       "                <tr>\n",
       "                                <td id=\"T_fcbb9_row0_col0\" class=\"data row0 col0\" ></td>\n",
       "                        <td id=\"T_fcbb9_row0_col1\" class=\"data row0 col1\" ></td>\n",
       "                        <td id=\"T_fcbb9_row0_col2\" class=\"data row0 col2\" ></td>\n",
       "                        <td id=\"T_fcbb9_row0_col3\" class=\"data row0 col3\" ></td>\n",
       "                        <td id=\"T_fcbb9_row0_col4\" class=\"data row0 col4\" ></td>\n",
       "                        <td id=\"T_fcbb9_row0_col5\" class=\"data row0 col5\" ></td>\n",
       "                        <td id=\"T_fcbb9_row0_col6\" class=\"data row0 col6\" ></td>\n",
       "                        <td id=\"T_fcbb9_row0_col7\" class=\"data row0 col7\" ></td>\n",
       "                        <td id=\"T_fcbb9_row0_col8\" class=\"data row0 col8\" ></td>\n",
       "                        <td id=\"T_fcbb9_row0_col9\" class=\"data row0 col9\" ></td>\n",
       "                        <td id=\"T_fcbb9_row0_col10\" class=\"data row0 col10\" >1378.584918</td>\n",
       "            </tr>\n",
       "            <tr>\n",
       "                                <td id=\"T_fcbb9_row1_col0\" class=\"data row1 col0\" ></td>\n",
       "                        <td id=\"T_fcbb9_row1_col1\" class=\"data row1 col1\" ></td>\n",
       "                        <td id=\"T_fcbb9_row1_col2\" class=\"data row1 col2\" ></td>\n",
       "                        <td id=\"T_fcbb9_row1_col3\" class=\"data row1 col3\" ></td>\n",
       "                        <td id=\"T_fcbb9_row1_col4\" class=\"data row1 col4\" ></td>\n",
       "                        <td id=\"T_fcbb9_row1_col5\" class=\"data row1 col5\" ></td>\n",
       "                        <td id=\"T_fcbb9_row1_col6\" class=\"data row1 col6\" ></td>\n",
       "                        <td id=\"T_fcbb9_row1_col7\" class=\"data row1 col7\" ></td>\n",
       "                        <td id=\"T_fcbb9_row1_col8\" class=\"data row1 col8\" ></td>\n",
       "                        <td id=\"T_fcbb9_row1_col9\" class=\"data row1 col9\" >1060.449937</td>\n",
       "                        <td id=\"T_fcbb9_row1_col10\" class=\"data row1 col10\" >996.822941</td>\n",
       "            </tr>\n",
       "            <tr>\n",
       "                                <td id=\"T_fcbb9_row2_col0\" class=\"data row2 col0\" ></td>\n",
       "                        <td id=\"T_fcbb9_row2_col1\" class=\"data row2 col1\" ></td>\n",
       "                        <td id=\"T_fcbb9_row2_col2\" class=\"data row2 col2\" ></td>\n",
       "                        <td id=\"T_fcbb9_row2_col3\" class=\"data row2 col3\" ></td>\n",
       "                        <td id=\"T_fcbb9_row2_col4\" class=\"data row2 col4\" ></td>\n",
       "                        <td id=\"T_fcbb9_row2_col5\" class=\"data row2 col5\" ></td>\n",
       "                        <td id=\"T_fcbb9_row2_col6\" class=\"data row2 col6\" ></td>\n",
       "                        <td id=\"T_fcbb9_row2_col7\" class=\"data row2 col7\" ></td>\n",
       "                        <td id=\"T_fcbb9_row2_col8\" class=\"data row2 col8\" >815.730721</td>\n",
       "                        <td id=\"T_fcbb9_row2_col9\" class=\"data row2 col9\" >766.786878</td>\n",
       "                        <td id=\"T_fcbb9_row2_col10\" class=\"data row2 col10\" >720.779665</td>\n",
       "            </tr>\n",
       "            <tr>\n",
       "                                <td id=\"T_fcbb9_row3_col0\" class=\"data row3 col0\" ></td>\n",
       "                        <td id=\"T_fcbb9_row3_col1\" class=\"data row3 col1\" ></td>\n",
       "                        <td id=\"T_fcbb9_row3_col2\" class=\"data row3 col2\" ></td>\n",
       "                        <td id=\"T_fcbb9_row3_col3\" class=\"data row3 col3\" ></td>\n",
       "                        <td id=\"T_fcbb9_row3_col4\" class=\"data row3 col4\" ></td>\n",
       "                        <td id=\"T_fcbb9_row3_col5\" class=\"data row3 col5\" ></td>\n",
       "                        <td id=\"T_fcbb9_row3_col6\" class=\"data row3 col6\" ></td>\n",
       "                        <td id=\"T_fcbb9_row3_col7\" class=\"data row3 col7\" >627.485170</td>\n",
       "                        <td id=\"T_fcbb9_row3_col8\" class=\"data row3 col8\" >589.836060</td>\n",
       "                        <td id=\"T_fcbb9_row3_col9\" class=\"data row3 col9\" >554.445896</td>\n",
       "                        <td id=\"T_fcbb9_row3_col10\" class=\"data row3 col10\" >521.179142</td>\n",
       "            </tr>\n",
       "            <tr>\n",
       "                                <td id=\"T_fcbb9_row4_col0\" class=\"data row4 col0\" ></td>\n",
       "                        <td id=\"T_fcbb9_row4_col1\" class=\"data row4 col1\" ></td>\n",
       "                        <td id=\"T_fcbb9_row4_col2\" class=\"data row4 col2\" ></td>\n",
       "                        <td id=\"T_fcbb9_row4_col3\" class=\"data row4 col3\" ></td>\n",
       "                        <td id=\"T_fcbb9_row4_col4\" class=\"data row4 col4\" ></td>\n",
       "                        <td id=\"T_fcbb9_row4_col5\" class=\"data row4 col5\" ></td>\n",
       "                        <td id=\"T_fcbb9_row4_col6\" class=\"data row4 col6\" >482.680900</td>\n",
       "                        <td id=\"T_fcbb9_row4_col7\" class=\"data row4 col7\" >453.720046</td>\n",
       "                        <td id=\"T_fcbb9_row4_col8\" class=\"data row4 col8\" >426.496843</td>\n",
       "                        <td id=\"T_fcbb9_row4_col9\" class=\"data row4 col9\" >400.907033</td>\n",
       "                        <td id=\"T_fcbb9_row4_col10\" class=\"data row4 col10\" >376.852611</td>\n",
       "            </tr>\n",
       "            <tr>\n",
       "                                <td id=\"T_fcbb9_row5_col0\" class=\"data row5 col0\" ></td>\n",
       "                        <td id=\"T_fcbb9_row5_col1\" class=\"data row5 col1\" ></td>\n",
       "                        <td id=\"T_fcbb9_row5_col2\" class=\"data row5 col2\" ></td>\n",
       "                        <td id=\"T_fcbb9_row5_col3\" class=\"data row5 col3\" ></td>\n",
       "                        <td id=\"T_fcbb9_row5_col4\" class=\"data row5 col4\" ></td>\n",
       "                        <td id=\"T_fcbb9_row5_col5\" class=\"data row5 col5\" >371.293000</td>\n",
       "                        <td id=\"T_fcbb9_row5_col6\" class=\"data row5 col6\" >349.015420</td>\n",
       "                        <td id=\"T_fcbb9_row5_col7\" class=\"data row5 col7\" >328.074495</td>\n",
       "                        <td id=\"T_fcbb9_row5_col8\" class=\"data row5 col8\" >308.390025</td>\n",
       "                        <td id=\"T_fcbb9_row5_col9\" class=\"data row5 col9\" >289.886624</td>\n",
       "                        <td id=\"T_fcbb9_row5_col10\" class=\"data row5 col10\" >272.493426</td>\n",
       "            </tr>\n",
       "            <tr>\n",
       "                                <td id=\"T_fcbb9_row6_col0\" class=\"data row6 col0\" ></td>\n",
       "                        <td id=\"T_fcbb9_row6_col1\" class=\"data row6 col1\" ></td>\n",
       "                        <td id=\"T_fcbb9_row6_col2\" class=\"data row6 col2\" ></td>\n",
       "                        <td id=\"T_fcbb9_row6_col3\" class=\"data row6 col3\" ></td>\n",
       "                        <td id=\"T_fcbb9_row6_col4\" class=\"data row6 col4\" >285.610000</td>\n",
       "                        <td id=\"T_fcbb9_row6_col5\" class=\"data row6 col5\" >268.473400</td>\n",
       "                        <td id=\"T_fcbb9_row6_col6\" class=\"data row6 col6\" >252.364996</td>\n",
       "                        <td id=\"T_fcbb9_row6_col7\" class=\"data row6 col7\" >237.223096</td>\n",
       "                        <td id=\"T_fcbb9_row6_col8\" class=\"data row6 col8\" >222.989710</td>\n",
       "                        <td id=\"T_fcbb9_row6_col9\" class=\"data row6 col9\" >209.610328</td>\n",
       "                        <td id=\"T_fcbb9_row6_col10\" class=\"data row6 col10\" >197.033708</td>\n",
       "            </tr>\n",
       "            <tr>\n",
       "                                <td id=\"T_fcbb9_row7_col0\" class=\"data row7 col0\" ></td>\n",
       "                        <td id=\"T_fcbb9_row7_col1\" class=\"data row7 col1\" ></td>\n",
       "                        <td id=\"T_fcbb9_row7_col2\" class=\"data row7 col2\" ></td>\n",
       "                        <td id=\"T_fcbb9_row7_col3\" class=\"data row7 col3\" >219.700000</td>\n",
       "                        <td id=\"T_fcbb9_row7_col4\" class=\"data row7 col4\" >206.518000</td>\n",
       "                        <td id=\"T_fcbb9_row7_col5\" class=\"data row7 col5\" >194.126920</td>\n",
       "                        <td id=\"T_fcbb9_row7_col6\" class=\"data row7 col6\" >182.479305</td>\n",
       "                        <td id=\"T_fcbb9_row7_col7\" class=\"data row7 col7\" >171.530547</td>\n",
       "                        <td id=\"T_fcbb9_row7_col8\" class=\"data row7 col8\" >161.238714</td>\n",
       "                        <td id=\"T_fcbb9_row7_col9\" class=\"data row7 col9\" >151.564391</td>\n",
       "                        <td id=\"T_fcbb9_row7_col10\" class=\"data row7 col10\" >142.470527</td>\n",
       "            </tr>\n",
       "            <tr>\n",
       "                                <td id=\"T_fcbb9_row8_col0\" class=\"data row8 col0\" ></td>\n",
       "                        <td id=\"T_fcbb9_row8_col1\" class=\"data row8 col1\" ></td>\n",
       "                        <td id=\"T_fcbb9_row8_col2\" class=\"data row8 col2\" >169.000000</td>\n",
       "                        <td id=\"T_fcbb9_row8_col3\" class=\"data row8 col3\" >158.860000</td>\n",
       "                        <td id=\"T_fcbb9_row8_col4\" class=\"data row8 col4\" >149.328400</td>\n",
       "                        <td id=\"T_fcbb9_row8_col5\" class=\"data row8 col5\" >140.368696</td>\n",
       "                        <td id=\"T_fcbb9_row8_col6\" class=\"data row8 col6\" >131.946574</td>\n",
       "                        <td id=\"T_fcbb9_row8_col7\" class=\"data row8 col7\" >124.029780</td>\n",
       "                        <td id=\"T_fcbb9_row8_col8\" class=\"data row8 col8\" >116.587993</td>\n",
       "                        <td id=\"T_fcbb9_row8_col9\" class=\"data row8 col9\" >109.592713</td>\n",
       "                        <td id=\"T_fcbb9_row8_col10\" class=\"data row8 col10\" >103.017151</td>\n",
       "            </tr>\n",
       "            <tr>\n",
       "                                <td id=\"T_fcbb9_row9_col0\" class=\"data row9 col0\" ></td>\n",
       "                        <td id=\"T_fcbb9_row9_col1\" class=\"data row9 col1\" >130.000000</td>\n",
       "                        <td id=\"T_fcbb9_row9_col2\" class=\"data row9 col2\" >122.200000</td>\n",
       "                        <td id=\"T_fcbb9_row9_col3\" class=\"data row9 col3\" >114.868000</td>\n",
       "                        <td id=\"T_fcbb9_row9_col4\" class=\"data row9 col4\" >107.975920</td>\n",
       "                        <td id=\"T_fcbb9_row9_col5\" class=\"data row9 col5\" >101.497365</td>\n",
       "                        <td id=\"T_fcbb9_row9_col6\" class=\"data row9 col6\" >95.407523</td>\n",
       "                        <td id=\"T_fcbb9_row9_col7\" class=\"data row9 col7\" >89.683072</td>\n",
       "                        <td id=\"T_fcbb9_row9_col8\" class=\"data row9 col8\" >84.302087</td>\n",
       "                        <td id=\"T_fcbb9_row9_col9\" class=\"data row9 col9\" >79.243962</td>\n",
       "                        <td id=\"T_fcbb9_row9_col10\" class=\"data row9 col10\" >74.489324</td>\n",
       "            </tr>\n",
       "            <tr>\n",
       "                                <td id=\"T_fcbb9_row10_col0\" class=\"data row10 col0\" >100.000000</td>\n",
       "                        <td id=\"T_fcbb9_row10_col1\" class=\"data row10 col1\" >94.000000</td>\n",
       "                        <td id=\"T_fcbb9_row10_col2\" class=\"data row10 col2\" >88.360000</td>\n",
       "                        <td id=\"T_fcbb9_row10_col3\" class=\"data row10 col3\" >83.058400</td>\n",
       "                        <td id=\"T_fcbb9_row10_col4\" class=\"data row10 col4\" >78.074896</td>\n",
       "                        <td id=\"T_fcbb9_row10_col5\" class=\"data row10 col5\" >73.390402</td>\n",
       "                        <td id=\"T_fcbb9_row10_col6\" class=\"data row10 col6\" >68.986978</td>\n",
       "                        <td id=\"T_fcbb9_row10_col7\" class=\"data row10 col7\" >64.847759</td>\n",
       "                        <td id=\"T_fcbb9_row10_col8\" class=\"data row10 col8\" >60.956894</td>\n",
       "                        <td id=\"T_fcbb9_row10_col9\" class=\"data row10 col9\" >57.299480</td>\n",
       "                        <td id=\"T_fcbb9_row10_col10\" class=\"data row10 col10\" >53.861511</td>\n",
       "            </tr>\n",
       "    </tbody></table>"
      ],
      "text/plain": [
       "<pandas.io.formats.style.Styler at 0x7fee11104700>"
      ]
     },
     "execution_count": 17,
     "metadata": {},
     "output_type": "execute_result"
    }
   ],
   "source": [
    "StockPriceChart=[]\n",
    "columns = []\n",
    "for i in range(N, -1, -1):\n",
    "    chart = []\n",
    "    columns.append(N-i)\n",
    "    for j in range(0,i):\n",
    "        chart.append(\"\")\n",
    "    for j in range(i, N+1):\n",
    "        chart.append(StockPrice()[j][i])\n",
    "    StockPriceChart.append(chart)\n",
    "df = pd.DataFrame(StockPriceChart, columns = columns)\n",
    "df.style.hide_index()"
   ]
  },
  {
   "cell_type": "markdown",
   "id": "5d845d23",
   "metadata": {},
   "source": [
    "for i in range(0, N+1):\n",
    "    for j in range(i,-1,-1):\n",
    "        print(StockPrice[i][j])\n",
    "    print(\"\\n\")"
   ]
  },
  {
   "cell_type": "code",
   "execution_count": 18,
   "id": "c116bbbb",
   "metadata": {},
   "outputs": [],
   "source": [
    "def IntrinsicPut():\n",
    "    IntrinsicPut={}\n",
    "    for i in range(N, -1, -1):\n",
    "        IntrinsicPut[i]=[]\n",
    "        for j in range(0, i+1):\n",
    "            IntrinsicPut[i].append(max(0,K-StockPrice()[i][j]))\n",
    "    return IntrinsicPut"
   ]
  },
  {
   "cell_type": "code",
   "execution_count": 19,
   "id": "9ba2414f",
   "metadata": {},
   "outputs": [],
   "source": [
    "def IntrinsicPutK():\n",
    "    IntrinsicPutK={}\n",
    "    for i in range(N, -1, -1):\n",
    "        k=2.71828183**(-r*(N-i))*K\n",
    "        IntrinsicPutK[i]=[]\n",
    "        for j in range(0, i+1):\n",
    "            IntrinsicPutK[i].append(max(0,k-StockPrice()[i][j]))\n",
    "    return IntrinsicPutK"
   ]
  },
  {
   "cell_type": "code",
   "execution_count": null,
   "id": "856b86af",
   "metadata": {},
   "outputs": [],
   "source": [
    "IntrPutChart=[]\n",
    "columns = []\n",
    "for i in range(N, -1, -1):\n",
    "    chart = []\n",
    "    columns.append(N-i)\n",
    "    for j in range(0,i):\n",
    "        chart.append(\"\")\n",
    "    for j in range(i, N+1):\n",
    "        chart.append(IntrinsicPut()[j][i])\n",
    "    IntrPutChart.append(chart)\n",
    "df = pd.DataFrame(IntrPutChart, columns = columns)\n",
    "df.style.hide_index()"
   ]
  },
  {
   "cell_type": "markdown",
   "id": "49d50513",
   "metadata": {},
   "source": [
    "for i in range(0, N+1):\n",
    "    for j in range(i,-1,-1):\n",
    "        print(IntrinsicPut[i][j])\n",
    "    print(\"\\n\")"
   ]
  },
  {
   "cell_type": "code",
   "execution_count": 20,
   "id": "86bed253",
   "metadata": {},
   "outputs": [],
   "source": [
    "def IntrinsicCall():\n",
    "    IntrinsicCall={}\n",
    "    for i in range(N, -1, -1):\n",
    "        IntrinsicCall[i]=[]\n",
    "        for j in range(0, i+1):\n",
    "            IntrinsicCall[i].append(max(0,StockPrice()[i][j]-K))\n",
    "    return IntrinsicCall"
   ]
  },
  {
   "cell_type": "code",
   "execution_count": null,
   "id": "2e78ed3c",
   "metadata": {},
   "outputs": [],
   "source": [
    "IntrCallChart=[]\n",
    "columns = []\n",
    "for i in range(N, -1, -1):\n",
    "    chart = []\n",
    "    columns.append(N-i)\n",
    "    for j in range(0,i):\n",
    "        chart.append(\"\")\n",
    "    for j in range(i, N+1):\n",
    "        chart.append(IntrinsicCall()[j][i])\n",
    "    IntrCallChart.append(chart)\n",
    "df = pd.DataFrame(IntrCallChart, columns = columns)\n",
    "df.style.hide_index()"
   ]
  },
  {
   "cell_type": "markdown",
   "id": "513f8ce1",
   "metadata": {},
   "source": [
    "for i in range(0, N+1):\n",
    "    for j in range(i,-1,-1):\n",
    "        print(IntrinsicCall[i][j])\n",
    "    print(\"\\n\")"
   ]
  },
  {
   "cell_type": "code",
   "execution_count": 21,
   "id": "008f9e91",
   "metadata": {},
   "outputs": [],
   "source": [
    "def exp(x,y,p,q,r):\n",
    "    return (x*p+y*q)/(1+r)"
   ]
  },
  {
   "cell_type": "code",
   "execution_count": 22,
   "id": "7a2acc29",
   "metadata": {},
   "outputs": [],
   "source": [
    "def PutPriceA():\n",
    "    PutPriceA={}\n",
    "    PutPriceA[N]=[]\n",
    "    IP=IntrinsicPut()\n",
    "    for n in range(0, N+1):\n",
    "        PutPriceA[N].append(IP[N][n])\n",
    "    for i in range(N-1, -1, -1):\n",
    "        PutPriceA[i]=[]\n",
    "        for j in range(0, i+1):\n",
    "            PutPriceA[i].append(max(IP()[i][j],exp(PutPriceA[i+1][j+1],PutPriceA[i+1][j],p,q,r)))\n",
    "    return PutPriceA"
   ]
  },
  {
   "cell_type": "code",
   "execution_count": 23,
   "id": "149dd249",
   "metadata": {},
   "outputs": [],
   "source": [
    "def PutPriceAK():\n",
    "    PutPriceAK={}\n",
    "    PutPriceAK[N]=[]\n",
    "    for n in range(0, N+1):\n",
    "        PutPriceAK[N].append(IntrinsicPutK()[N][n])\n",
    "    for i in range(N-1, -1, -1):\n",
    "        PutPriceAK[i]=[]\n",
    "        for j in range(0, i+1):\n",
    "            PutPriceAK[i].append(max(IntrinsicPutK()[i][j],exp(PutPriceAK[i+1][j+1],PutPriceAK[i+1][j],p,q,r)))\n",
    "    return PutPriceAK"
   ]
  },
  {
   "cell_type": "code",
   "execution_count": 25,
   "id": "4157a9bd",
   "metadata": {},
   "outputs": [
    {
     "ename": "TypeError",
     "evalue": "'dict' object is not callable",
     "output_type": "error",
     "traceback": [
      "\u001b[0;31m---------------------------------------------------------------------------\u001b[0m",
      "\u001b[0;31mTypeError\u001b[0m                                 Traceback (most recent call last)",
      "\u001b[0;32m<ipython-input-25-33d6f2871911>\u001b[0m in \u001b[0;36m<module>\u001b[0;34m\u001b[0m\n\u001b[1;32m      4\u001b[0m     \u001b[0mN\u001b[0m\u001b[0;34m=\u001b[0m\u001b[0mx\u001b[0m\u001b[0;34m\u001b[0m\u001b[0;34m\u001b[0m\u001b[0m\n\u001b[1;32m      5\u001b[0m     \u001b[0mcolumns\u001b[0m\u001b[0;34m.\u001b[0m\u001b[0mappend\u001b[0m\u001b[0;34m(\u001b[0m\u001b[0mx\u001b[0m\u001b[0;34m)\u001b[0m\u001b[0;34m\u001b[0m\u001b[0;34m\u001b[0m\u001b[0m\n\u001b[0;32m----> 6\u001b[0;31m     \u001b[0mPutPriceATChart\u001b[0m\u001b[0;34m.\u001b[0m\u001b[0mappend\u001b[0m\u001b[0;34m(\u001b[0m\u001b[0mPutPriceA\u001b[0m\u001b[0;34m(\u001b[0m\u001b[0;34m)\u001b[0m\u001b[0;34m[\u001b[0m\u001b[0;36m0\u001b[0m\u001b[0;34m]\u001b[0m\u001b[0;34m[\u001b[0m\u001b[0;36m0\u001b[0m\u001b[0;34m]\u001b[0m\u001b[0;34m)\u001b[0m\u001b[0;34m\u001b[0m\u001b[0;34m\u001b[0m\u001b[0m\n\u001b[0m\u001b[1;32m      7\u001b[0m \u001b[0mdf\u001b[0m \u001b[0;34m=\u001b[0m \u001b[0mpd\u001b[0m\u001b[0;34m.\u001b[0m\u001b[0mSeries\u001b[0m\u001b[0;34m(\u001b[0m\u001b[0mPutPriceATChart\u001b[0m\u001b[0;34m,\u001b[0m \u001b[0mindex\u001b[0m \u001b[0;34m=\u001b[0m \u001b[0mcolumns\u001b[0m\u001b[0;34m)\u001b[0m\u001b[0;34m\u001b[0m\u001b[0;34m\u001b[0m\u001b[0m\n\u001b[1;32m      8\u001b[0m \u001b[0mdf\u001b[0m\u001b[0;34m.\u001b[0m\u001b[0mplot\u001b[0m\u001b[0;34m.\u001b[0m\u001b[0mline\u001b[0m\u001b[0;34m(\u001b[0m\u001b[0;34m)\u001b[0m\u001b[0;34m\u001b[0m\u001b[0;34m\u001b[0m\u001b[0m\n",
      "\u001b[0;32m<ipython-input-22-ffdbfa5e51e8>\u001b[0m in \u001b[0;36mPutPriceA\u001b[0;34m()\u001b[0m\n\u001b[1;32m      8\u001b[0m         \u001b[0mPutPriceA\u001b[0m\u001b[0;34m[\u001b[0m\u001b[0mi\u001b[0m\u001b[0;34m]\u001b[0m\u001b[0;34m=\u001b[0m\u001b[0;34m[\u001b[0m\u001b[0;34m]\u001b[0m\u001b[0;34m\u001b[0m\u001b[0;34m\u001b[0m\u001b[0m\n\u001b[1;32m      9\u001b[0m         \u001b[0;32mfor\u001b[0m \u001b[0mj\u001b[0m \u001b[0;32min\u001b[0m \u001b[0mrange\u001b[0m\u001b[0;34m(\u001b[0m\u001b[0;36m0\u001b[0m\u001b[0;34m,\u001b[0m \u001b[0mi\u001b[0m\u001b[0;34m+\u001b[0m\u001b[0;36m1\u001b[0m\u001b[0;34m)\u001b[0m\u001b[0;34m:\u001b[0m\u001b[0;34m\u001b[0m\u001b[0;34m\u001b[0m\u001b[0m\n\u001b[0;32m---> 10\u001b[0;31m             \u001b[0mPutPriceA\u001b[0m\u001b[0;34m[\u001b[0m\u001b[0mi\u001b[0m\u001b[0;34m]\u001b[0m\u001b[0;34m.\u001b[0m\u001b[0mappend\u001b[0m\u001b[0;34m(\u001b[0m\u001b[0mmax\u001b[0m\u001b[0;34m(\u001b[0m\u001b[0mIP\u001b[0m\u001b[0;34m(\u001b[0m\u001b[0;34m)\u001b[0m\u001b[0;34m[\u001b[0m\u001b[0mi\u001b[0m\u001b[0;34m]\u001b[0m\u001b[0;34m[\u001b[0m\u001b[0mj\u001b[0m\u001b[0;34m]\u001b[0m\u001b[0;34m,\u001b[0m\u001b[0mexp\u001b[0m\u001b[0;34m(\u001b[0m\u001b[0mPutPriceA\u001b[0m\u001b[0;34m[\u001b[0m\u001b[0mi\u001b[0m\u001b[0;34m+\u001b[0m\u001b[0;36m1\u001b[0m\u001b[0;34m]\u001b[0m\u001b[0;34m[\u001b[0m\u001b[0mj\u001b[0m\u001b[0;34m+\u001b[0m\u001b[0;36m1\u001b[0m\u001b[0;34m]\u001b[0m\u001b[0;34m,\u001b[0m\u001b[0mPutPriceA\u001b[0m\u001b[0;34m[\u001b[0m\u001b[0mi\u001b[0m\u001b[0;34m+\u001b[0m\u001b[0;36m1\u001b[0m\u001b[0;34m]\u001b[0m\u001b[0;34m[\u001b[0m\u001b[0mj\u001b[0m\u001b[0;34m]\u001b[0m\u001b[0;34m,\u001b[0m\u001b[0mp\u001b[0m\u001b[0;34m,\u001b[0m\u001b[0mq\u001b[0m\u001b[0;34m,\u001b[0m\u001b[0mr\u001b[0m\u001b[0;34m)\u001b[0m\u001b[0;34m)\u001b[0m\u001b[0;34m)\u001b[0m\u001b[0;34m\u001b[0m\u001b[0;34m\u001b[0m\u001b[0m\n\u001b[0m\u001b[1;32m     11\u001b[0m     \u001b[0;32mreturn\u001b[0m \u001b[0mPutPriceA\u001b[0m\u001b[0;34m\u001b[0m\u001b[0;34m\u001b[0m\u001b[0m\n",
      "\u001b[0;31mTypeError\u001b[0m: 'dict' object is not callable"
     ]
    }
   ],
   "source": [
    "PutPriceATChart=[]\n",
    "columns=[]\n",
    "for x in range(10,80):\n",
    "    N=x\n",
    "    columns.append(x)\n",
    "    PutPriceATChart.append(PutPriceA()[0][0])\n",
    "df = pd.Series(PutPriceATChart, index = columns)\n",
    "df.plot.line()"
   ]
  },
  {
   "cell_type": "markdown",
   "id": "185cf4fc",
   "metadata": {},
   "source": [
    "PutPriceAChart=[]\n",
    "columns = []\n",
    "for i in range(N, -1, -1):\n",
    "    chart = []\n",
    "    columns.append(N-i)\n",
    "    for j in range(0,i):\n",
    "        chart.append(\"\")\n",
    "    for j in range(i, N+1):\n",
    "        chart.append(PutPriceA()[j][i])\n",
    "    PutPriceAChart.append(chart)\n",
    "df = pd.DataFrame(PutPriceAChart, columns = columns)\n",
    "df.style.hide_index()"
   ]
  },
  {
   "cell_type": "markdown",
   "id": "4e3604b6",
   "metadata": {},
   "source": [
    "PutPriceAKChart=[]\n",
    "columns = []\n",
    "for i in range(N, -1, -1):\n",
    "    chart = []\n",
    "    columns.append(N-i)\n",
    "    for j in range(0,i):\n",
    "        chart.append(\"\")\n",
    "    for j in range(i, N+1):\n",
    "        chart.append(PutPriceAK[j][i])\n",
    "    PutPriceAKChart.append(chart)\n",
    "df = pd.DataFrame(PutPriceAKChart, columns = columns)\n",
    "df.style.hide_index()"
   ]
  },
  {
   "cell_type": "markdown",
   "id": "5e68d11f",
   "metadata": {},
   "source": [
    "for i in range(0, N+1):\n",
    "    for j in range(i,-1,-1):\n",
    "        print(PutPriceA[i][j])\n",
    "    print(\"\\n\")"
   ]
  },
  {
   "cell_type": "code",
   "execution_count": 26,
   "id": "a88697dc",
   "metadata": {},
   "outputs": [],
   "source": [
    "def CallPriceA():\n",
    "    CallPriceA={}\n",
    "    CallPriceA[N]=[]\n",
    "    for n in range(0, N+1):\n",
    "        CallPriceA[N].append(IntrinsicCall()[N][n])\n",
    "    for i in range(N-1, -1, -1):\n",
    "        CallPriceA[i]=[]\n",
    "        for j in range(0, i+1):\n",
    "            CallPriceA[i].append(max(IntrinsicCall()[i][j],exp(CallPriceA[i+1][j+1],CallPriceA[i+1][j],p,q,r)))\n",
    "    return CallPriceA"
   ]
  },
  {
   "cell_type": "code",
   "execution_count": 27,
   "id": "6318c215",
   "metadata": {},
   "outputs": [
    {
     "data": {
      "text/html": [
       "<style  type=\"text/css\" >\n",
       "</style><table id=\"T_e6ea5_\" ><thead>    <tr>        <th class=\"col_heading level0 col0\" >0</th>        <th class=\"col_heading level0 col1\" >1</th>        <th class=\"col_heading level0 col2\" >2</th>        <th class=\"col_heading level0 col3\" >3</th>        <th class=\"col_heading level0 col4\" >4</th>        <th class=\"col_heading level0 col5\" >5</th>        <th class=\"col_heading level0 col6\" >6</th>        <th class=\"col_heading level0 col7\" >7</th>        <th class=\"col_heading level0 col8\" >8</th>        <th class=\"col_heading level0 col9\" >9</th>        <th class=\"col_heading level0 col10\" >10</th>    </tr></thead><tbody>\n",
       "                <tr>\n",
       "                                <td id=\"T_e6ea5_row0_col0\" class=\"data row0 col0\" ></td>\n",
       "                        <td id=\"T_e6ea5_row0_col1\" class=\"data row0 col1\" ></td>\n",
       "                        <td id=\"T_e6ea5_row0_col2\" class=\"data row0 col2\" ></td>\n",
       "                        <td id=\"T_e6ea5_row0_col3\" class=\"data row0 col3\" ></td>\n",
       "                        <td id=\"T_e6ea5_row0_col4\" class=\"data row0 col4\" ></td>\n",
       "                        <td id=\"T_e6ea5_row0_col5\" class=\"data row0 col5\" ></td>\n",
       "                        <td id=\"T_e6ea5_row0_col6\" class=\"data row0 col6\" ></td>\n",
       "                        <td id=\"T_e6ea5_row0_col7\" class=\"data row0 col7\" ></td>\n",
       "                        <td id=\"T_e6ea5_row0_col8\" class=\"data row0 col8\" ></td>\n",
       "                        <td id=\"T_e6ea5_row0_col9\" class=\"data row0 col9\" ></td>\n",
       "                        <td id=\"T_e6ea5_row0_col10\" class=\"data row0 col10\" >1278.584918</td>\n",
       "            </tr>\n",
       "            <tr>\n",
       "                                <td id=\"T_e6ea5_row1_col0\" class=\"data row1 col0\" ></td>\n",
       "                        <td id=\"T_e6ea5_row1_col1\" class=\"data row1 col1\" ></td>\n",
       "                        <td id=\"T_e6ea5_row1_col2\" class=\"data row1 col2\" ></td>\n",
       "                        <td id=\"T_e6ea5_row1_col3\" class=\"data row1 col3\" ></td>\n",
       "                        <td id=\"T_e6ea5_row1_col4\" class=\"data row1 col4\" ></td>\n",
       "                        <td id=\"T_e6ea5_row1_col5\" class=\"data row1 col5\" ></td>\n",
       "                        <td id=\"T_e6ea5_row1_col6\" class=\"data row1 col6\" ></td>\n",
       "                        <td id=\"T_e6ea5_row1_col7\" class=\"data row1 col7\" ></td>\n",
       "                        <td id=\"T_e6ea5_row1_col8\" class=\"data row1 col8\" ></td>\n",
       "                        <td id=\"T_e6ea5_row1_col9\" class=\"data row1 col9\" >966.110315</td>\n",
       "                        <td id=\"T_e6ea5_row1_col10\" class=\"data row1 col10\" >896.822941</td>\n",
       "            </tr>\n",
       "            <tr>\n",
       "                                <td id=\"T_e6ea5_row2_col0\" class=\"data row2 col0\" ></td>\n",
       "                        <td id=\"T_e6ea5_row2_col1\" class=\"data row2 col1\" ></td>\n",
       "                        <td id=\"T_e6ea5_row2_col2\" class=\"data row2 col2\" ></td>\n",
       "                        <td id=\"T_e6ea5_row2_col3\" class=\"data row2 col3\" ></td>\n",
       "                        <td id=\"T_e6ea5_row2_col4\" class=\"data row2 col4\" ></td>\n",
       "                        <td id=\"T_e6ea5_row2_col5\" class=\"data row2 col5\" ></td>\n",
       "                        <td id=\"T_e6ea5_row2_col6\" class=\"data row2 col6\" ></td>\n",
       "                        <td id=\"T_e6ea5_row2_col7\" class=\"data row2 col7\" ></td>\n",
       "                        <td id=\"T_e6ea5_row2_col8\" class=\"data row2 col8\" >726.731077</td>\n",
       "                        <td id=\"T_e6ea5_row2_col9\" class=\"data row2 col9\" >672.447255</td>\n",
       "                        <td id=\"T_e6ea5_row2_col10\" class=\"data row2 col10\" >620.779665</td>\n",
       "            </tr>\n",
       "            <tr>\n",
       "                                <td id=\"T_e6ea5_row3_col0\" class=\"data row3 col0\" ></td>\n",
       "                        <td id=\"T_e6ea5_row3_col1\" class=\"data row3 col1\" ></td>\n",
       "                        <td id=\"T_e6ea5_row3_col2\" class=\"data row3 col2\" ></td>\n",
       "                        <td id=\"T_e6ea5_row3_col3\" class=\"data row3 col3\" ></td>\n",
       "                        <td id=\"T_e6ea5_row3_col4\" class=\"data row3 col4\" ></td>\n",
       "                        <td id=\"T_e6ea5_row3_col5\" class=\"data row3 col5\" ></td>\n",
       "                        <td id=\"T_e6ea5_row3_col6\" class=\"data row3 col6\" ></td>\n",
       "                        <td id=\"T_e6ea5_row3_col7\" class=\"data row3 col7\" >543.523242</td>\n",
       "                        <td id=\"T_e6ea5_row3_col8\" class=\"data row3 col8\" >500.836416</td>\n",
       "                        <td id=\"T_e6ea5_row3_col9\" class=\"data row3 col9\" >460.106274</td>\n",
       "                        <td id=\"T_e6ea5_row3_col10\" class=\"data row3 col10\" >421.179142</td>\n",
       "            </tr>\n",
       "            <tr>\n",
       "                                <td id=\"T_e6ea5_row4_col0\" class=\"data row4 col0\" ></td>\n",
       "                        <td id=\"T_e6ea5_row4_col1\" class=\"data row4 col1\" ></td>\n",
       "                        <td id=\"T_e6ea5_row4_col2\" class=\"data row4 col2\" ></td>\n",
       "                        <td id=\"T_e6ea5_row4_col3\" class=\"data row4 col3\" ></td>\n",
       "                        <td id=\"T_e6ea5_row4_col4\" class=\"data row4 col4\" ></td>\n",
       "                        <td id=\"T_e6ea5_row4_col5\" class=\"data row4 col5\" ></td>\n",
       "                        <td id=\"T_e6ea5_row4_col6\" class=\"data row4 col6\" >403.471534</td>\n",
       "                        <td id=\"T_e6ea5_row4_col7\" class=\"data row4 col7\" >369.758118</td>\n",
       "                        <td id=\"T_e6ea5_row4_col8\" class=\"data row4 col8\" >337.497199</td>\n",
       "                        <td id=\"T_e6ea5_row4_col9\" class=\"data row4 col9\" >306.567410</td>\n",
       "                        <td id=\"T_e6ea5_row4_col10\" class=\"data row4 col10\" >276.852611</td>\n",
       "            </tr>\n",
       "            <tr>\n",
       "                                <td id=\"T_e6ea5_row5_col0\" class=\"data row5 col0\" ></td>\n",
       "                        <td id=\"T_e6ea5_row5_col1\" class=\"data row5 col1\" ></td>\n",
       "                        <td id=\"T_e6ea5_row5_col2\" class=\"data row5 col2\" ></td>\n",
       "                        <td id=\"T_e6ea5_row5_col3\" class=\"data row5 col3\" ></td>\n",
       "                        <td id=\"T_e6ea5_row5_col4\" class=\"data row5 col4\" ></td>\n",
       "                        <td id=\"T_e6ea5_row5_col5\" class=\"data row5 col5\" >296.567183</td>\n",
       "                        <td id=\"T_e6ea5_row5_col6\" class=\"data row5 col6\" >269.806054</td>\n",
       "                        <td id=\"T_e6ea5_row5_col7\" class=\"data row5 col7\" >244.112566</td>\n",
       "                        <td id=\"T_e6ea5_row5_col8\" class=\"data row5 col8\" >219.390381</td>\n",
       "                        <td id=\"T_e6ea5_row5_col9\" class=\"data row5 col9\" >195.547001</td>\n",
       "                        <td id=\"T_e6ea5_row5_col10\" class=\"data row5 col10\" >172.493426</td>\n",
       "            </tr>\n",
       "            <tr>\n",
       "                                <td id=\"T_e6ea5_row6_col0\" class=\"data row6 col0\" ></td>\n",
       "                        <td id=\"T_e6ea5_row6_col1\" class=\"data row6 col1\" ></td>\n",
       "                        <td id=\"T_e6ea5_row6_col2\" class=\"data row6 col2\" ></td>\n",
       "                        <td id=\"T_e6ea5_row6_col3\" class=\"data row6 col3\" ></td>\n",
       "                        <td id=\"T_e6ea5_row6_col4\" class=\"data row6 col4\" >215.113946</td>\n",
       "                        <td id=\"T_e6ea5_row6_col5\" class=\"data row6 col5\" >193.747583</td>\n",
       "                        <td id=\"T_e6ea5_row6_col6\" class=\"data row6 col6\" >173.155630</td>\n",
       "                        <td id=\"T_e6ea5_row6_col7\" class=\"data row6 col7\" >153.261168</td>\n",
       "                        <td id=\"T_e6ea5_row6_col8\" class=\"data row6 col8\" >133.990066</td>\n",
       "                        <td id=\"T_e6ea5_row6_col9\" class=\"data row6 col9\" >115.270705</td>\n",
       "                        <td id=\"T_e6ea5_row6_col10\" class=\"data row6 col10\" >97.033708</td>\n",
       "            </tr>\n",
       "            <tr>\n",
       "                                <td id=\"T_e6ea5_row7_col0\" class=\"data row7 col0\" ></td>\n",
       "                        <td id=\"T_e6ea5_row7_col1\" class=\"data row7 col1\" ></td>\n",
       "                        <td id=\"T_e6ea5_row7_col2\" class=\"data row7 col2\" ></td>\n",
       "                        <td id=\"T_e6ea5_row7_col3\" class=\"data row7 col3\" >153.194289</td>\n",
       "                        <td id=\"T_e6ea5_row7_col4\" class=\"data row7 col4\" >136.021946</td>\n",
       "                        <td id=\"T_e6ea5_row7_col5\" class=\"data row7 col5\" >119.401103</td>\n",
       "                        <td id=\"T_e6ea5_row7_col6\" class=\"data row7 col6\" >103.269938</td>\n",
       "                        <td id=\"T_e6ea5_row7_col7\" class=\"data row7 col7\" >87.568618</td>\n",
       "                        <td id=\"T_e6ea5_row7_col8\" class=\"data row7 col8\" >72.239070</td>\n",
       "                        <td id=\"T_e6ea5_row7_col9\" class=\"data row7 col9\" >57.224768</td>\n",
       "                        <td id=\"T_e6ea5_row7_col10\" class=\"data row7 col10\" >42.470527</td>\n",
       "            </tr>\n",
       "            <tr>\n",
       "                                <td id=\"T_e6ea5_row8_col0\" class=\"data row8 col0\" ></td>\n",
       "                        <td id=\"T_e6ea5_row8_col1\" class=\"data row8 col1\" ></td>\n",
       "                        <td id=\"T_e6ea5_row8_col2\" class=\"data row8 col2\" >106.258763</td>\n",
       "                        <td id=\"T_e6ea5_row8_col3\" class=\"data row8 col3\" >92.354289</td>\n",
       "                        <td id=\"T_e6ea5_row8_col4\" class=\"data row8 col4\" >78.832346</td>\n",
       "                        <td id=\"T_e6ea5_row8_col5\" class=\"data row8 col5\" >65.642879</td>\n",
       "                        <td id=\"T_e6ea5_row8_col6\" class=\"data row8 col6\" >52.737208</td>\n",
       "                        <td id=\"T_e6ea5_row8_col7\" class=\"data row8 col7\" >40.067851</td>\n",
       "                        <td id=\"T_e6ea5_row8_col8\" class=\"data row8 col8\" >27.588349</td>\n",
       "                        <td id=\"T_e6ea5_row8_col9\" class=\"data row8 col9\" >15.253091</td>\n",
       "                        <td id=\"T_e6ea5_row8_col10\" class=\"data row8 col10\" >3.017151</td>\n",
       "            </tr>\n",
       "            <tr>\n",
       "                                <td id=\"T_e6ea5_row9_col0\" class=\"data row9 col0\" ></td>\n",
       "                        <td id=\"T_e6ea5_row9_col1\" class=\"data row9 col1\" >71.202932</td>\n",
       "                        <td id=\"T_e6ea5_row9_col2\" class=\"data row9 col2\" >60.083281</td>\n",
       "                        <td id=\"T_e6ea5_row9_col3\" class=\"data row9 col3\" >49.355272</td>\n",
       "                        <td id=\"T_e6ea5_row9_col4\" class=\"data row9 col4\" >39.058710</td>\n",
       "                        <td id=\"T_e6ea5_row9_col5\" class=\"data row9 col5\" >29.281909</td>\n",
       "                        <td id=\"T_e6ea5_row9_col6\" class=\"data row9 col6\" >20.189632</td>\n",
       "                        <td id=\"T_e6ea5_row9_col7\" class=\"data row9 col7\" >12.067589</td>\n",
       "                        <td id=\"T_e6ea5_row9_col8\" class=\"data row9 col8\" >5.393292</td>\n",
       "                        <td id=\"T_e6ea5_row9_col9\" class=\"data row9 col9\" >0.948790</td>\n",
       "                        <td id=\"T_e6ea5_row9_col10\" class=\"data row9 col10\" >0.000000</td>\n",
       "            </tr>\n",
       "            <tr>\n",
       "                                <td id=\"T_e6ea5_row10_col0\" class=\"data row10 col0\" >45.842454</td>\n",
       "                        <td id=\"T_e6ea5_row10_col1\" class=\"data row10 col1\" >37.288035</td>\n",
       "                        <td id=\"T_e6ea5_row10_col2\" class=\"data row10 col2\" >29.246335</td>\n",
       "                        <td id=\"T_e6ea5_row10_col3\" class=\"data row10 col3\" >21.824037</td>\n",
       "                        <td id=\"T_e6ea5_row10_col4\" class=\"data row10 col4\" >15.170864</td>\n",
       "                        <td id=\"T_e6ea5_row10_col5\" class=\"data row10 col5\" >9.480719</td>\n",
       "                        <td id=\"T_e6ea5_row10_col6\" class=\"data row10 col6\" >4.979527</td>\n",
       "                        <td id=\"T_e6ea5_row10_col7\" class=\"data row10 col7\" >1.883653</td>\n",
       "                        <td id=\"T_e6ea5_row10_col8\" class=\"data row10 col8\" >0.298361</td>\n",
       "                        <td id=\"T_e6ea5_row10_col9\" class=\"data row10 col9\" >0</td>\n",
       "                        <td id=\"T_e6ea5_row10_col10\" class=\"data row10 col10\" >0.000000</td>\n",
       "            </tr>\n",
       "    </tbody></table>"
      ],
      "text/plain": [
       "<pandas.io.formats.style.Styler at 0x7fee110ee670>"
      ]
     },
     "execution_count": 27,
     "metadata": {},
     "output_type": "execute_result"
    }
   ],
   "source": [
    "CallPriceAChart=[]\n",
    "columns = []\n",
    "for i in range(N, -1, -1):\n",
    "    chart = []\n",
    "    columns.append(N-i)\n",
    "    for j in range(0,i):\n",
    "        chart.append(\"\")\n",
    "    for j in range(i, N+1):\n",
    "        chart.append(CallPriceA()[j][i])\n",
    "    CallPriceAChart.append(chart)\n",
    "df = pd.DataFrame(CallPriceAChart, columns = columns)\n",
    "df.style.hide_index()"
   ]
  },
  {
   "cell_type": "markdown",
   "id": "17b8c0ca",
   "metadata": {},
   "source": [
    "for i in range(0, N+1):\n",
    "    for j in range(i,-1,-1):\n",
    "        print(CallPriceA[i][j])\n",
    "    print(\"\\n\")"
   ]
  },
  {
   "cell_type": "code",
   "execution_count": 28,
   "id": "a13d4db1",
   "metadata": {},
   "outputs": [],
   "source": [
    "def chooserA():\n",
    "    CA={}\n",
    "    CA[t]=[]\n",
    "    CPA=CallPriceA()\n",
    "    PPA=PutPriceA()\n",
    "    for i in range(0,t+1):\n",
    "        CA[t].append(max(CPA[t][i],PPA[t][i]))\n",
    "    for j in range(t-1,-1,-1):\n",
    "        CA[j]=[]\n",
    "        for k in range(0,j+1):\n",
    "            CA[j].append(exp(CA[j+1][k+1],CA[j+1][k],p,q,r))\n",
    "    return CA"
   ]
  },
  {
   "cell_type": "code",
   "execution_count": 31,
   "id": "a7ab596d",
   "metadata": {},
   "outputs": [
    {
     "ename": "TypeError",
     "evalue": "'dict' object is not callable",
     "output_type": "error",
     "traceback": [
      "\u001b[0;31m---------------------------------------------------------------------------\u001b[0m",
      "\u001b[0;31mTypeError\u001b[0m                                 Traceback (most recent call last)",
      "\u001b[0;32m<ipython-input-31-27830492f419>\u001b[0m in \u001b[0;36m<module>\u001b[0;34m\u001b[0m\n\u001b[1;32m      1\u001b[0m \u001b[0mChooserAChart\u001b[0m\u001b[0;34m=\u001b[0m\u001b[0;34m[\u001b[0m\u001b[0;34m]\u001b[0m\u001b[0;34m\u001b[0m\u001b[0;34m\u001b[0m\u001b[0m\n\u001b[1;32m      2\u001b[0m \u001b[0mcolumns\u001b[0m \u001b[0;34m=\u001b[0m \u001b[0;34m[\u001b[0m\u001b[0;34m]\u001b[0m\u001b[0;34m\u001b[0m\u001b[0;34m\u001b[0m\u001b[0m\n\u001b[0;32m----> 3\u001b[0;31m \u001b[0mCA\u001b[0m\u001b[0;34m=\u001b[0m\u001b[0mchooserA\u001b[0m\u001b[0;34m(\u001b[0m\u001b[0;34m)\u001b[0m\u001b[0;34m\u001b[0m\u001b[0;34m\u001b[0m\u001b[0m\n\u001b[0m\u001b[1;32m      4\u001b[0m \u001b[0;32mfor\u001b[0m \u001b[0mi\u001b[0m \u001b[0;32min\u001b[0m \u001b[0mrange\u001b[0m\u001b[0;34m(\u001b[0m\u001b[0mt\u001b[0m\u001b[0;34m,\u001b[0m \u001b[0;34m-\u001b[0m\u001b[0;36m1\u001b[0m\u001b[0;34m,\u001b[0m \u001b[0;34m-\u001b[0m\u001b[0;36m1\u001b[0m\u001b[0;34m)\u001b[0m\u001b[0;34m:\u001b[0m\u001b[0;34m\u001b[0m\u001b[0;34m\u001b[0m\u001b[0m\n\u001b[1;32m      5\u001b[0m     \u001b[0mchart\u001b[0m \u001b[0;34m=\u001b[0m \u001b[0;34m[\u001b[0m\u001b[0;34m]\u001b[0m\u001b[0;34m\u001b[0m\u001b[0;34m\u001b[0m\u001b[0m\n",
      "\u001b[0;32m<ipython-input-28-71fdb6a928b7>\u001b[0m in \u001b[0;36mchooserA\u001b[0;34m()\u001b[0m\n\u001b[1;32m      3\u001b[0m     \u001b[0mCA\u001b[0m\u001b[0;34m[\u001b[0m\u001b[0mt\u001b[0m\u001b[0;34m]\u001b[0m\u001b[0;34m=\u001b[0m\u001b[0;34m[\u001b[0m\u001b[0;34m]\u001b[0m\u001b[0;34m\u001b[0m\u001b[0;34m\u001b[0m\u001b[0m\n\u001b[1;32m      4\u001b[0m     \u001b[0mCPA\u001b[0m\u001b[0;34m=\u001b[0m\u001b[0mCallPriceA\u001b[0m\u001b[0;34m(\u001b[0m\u001b[0;34m)\u001b[0m\u001b[0;34m\u001b[0m\u001b[0;34m\u001b[0m\u001b[0m\n\u001b[0;32m----> 5\u001b[0;31m     \u001b[0mPPA\u001b[0m\u001b[0;34m=\u001b[0m\u001b[0mPutPriceA\u001b[0m\u001b[0;34m(\u001b[0m\u001b[0;34m)\u001b[0m\u001b[0;34m\u001b[0m\u001b[0;34m\u001b[0m\u001b[0m\n\u001b[0m\u001b[1;32m      6\u001b[0m     \u001b[0;32mfor\u001b[0m \u001b[0mi\u001b[0m \u001b[0;32min\u001b[0m \u001b[0mrange\u001b[0m\u001b[0;34m(\u001b[0m\u001b[0;36m0\u001b[0m\u001b[0;34m,\u001b[0m\u001b[0mt\u001b[0m\u001b[0;34m+\u001b[0m\u001b[0;36m1\u001b[0m\u001b[0;34m)\u001b[0m\u001b[0;34m:\u001b[0m\u001b[0;34m\u001b[0m\u001b[0;34m\u001b[0m\u001b[0m\n\u001b[1;32m      7\u001b[0m         \u001b[0mCA\u001b[0m\u001b[0;34m[\u001b[0m\u001b[0mt\u001b[0m\u001b[0;34m]\u001b[0m\u001b[0;34m.\u001b[0m\u001b[0mappend\u001b[0m\u001b[0;34m(\u001b[0m\u001b[0mmax\u001b[0m\u001b[0;34m(\u001b[0m\u001b[0mCPA\u001b[0m\u001b[0;34m[\u001b[0m\u001b[0mt\u001b[0m\u001b[0;34m]\u001b[0m\u001b[0;34m[\u001b[0m\u001b[0mi\u001b[0m\u001b[0;34m]\u001b[0m\u001b[0;34m,\u001b[0m\u001b[0mPPA\u001b[0m\u001b[0;34m[\u001b[0m\u001b[0mt\u001b[0m\u001b[0;34m]\u001b[0m\u001b[0;34m[\u001b[0m\u001b[0mi\u001b[0m\u001b[0;34m]\u001b[0m\u001b[0;34m)\u001b[0m\u001b[0;34m)\u001b[0m\u001b[0;34m\u001b[0m\u001b[0;34m\u001b[0m\u001b[0m\n",
      "\u001b[0;32m<ipython-input-22-ffdbfa5e51e8>\u001b[0m in \u001b[0;36mPutPriceA\u001b[0;34m()\u001b[0m\n\u001b[1;32m      8\u001b[0m         \u001b[0mPutPriceA\u001b[0m\u001b[0;34m[\u001b[0m\u001b[0mi\u001b[0m\u001b[0;34m]\u001b[0m\u001b[0;34m=\u001b[0m\u001b[0;34m[\u001b[0m\u001b[0;34m]\u001b[0m\u001b[0;34m\u001b[0m\u001b[0;34m\u001b[0m\u001b[0m\n\u001b[1;32m      9\u001b[0m         \u001b[0;32mfor\u001b[0m \u001b[0mj\u001b[0m \u001b[0;32min\u001b[0m \u001b[0mrange\u001b[0m\u001b[0;34m(\u001b[0m\u001b[0;36m0\u001b[0m\u001b[0;34m,\u001b[0m \u001b[0mi\u001b[0m\u001b[0;34m+\u001b[0m\u001b[0;36m1\u001b[0m\u001b[0;34m)\u001b[0m\u001b[0;34m:\u001b[0m\u001b[0;34m\u001b[0m\u001b[0;34m\u001b[0m\u001b[0m\n\u001b[0;32m---> 10\u001b[0;31m             \u001b[0mPutPriceA\u001b[0m\u001b[0;34m[\u001b[0m\u001b[0mi\u001b[0m\u001b[0;34m]\u001b[0m\u001b[0;34m.\u001b[0m\u001b[0mappend\u001b[0m\u001b[0;34m(\u001b[0m\u001b[0mmax\u001b[0m\u001b[0;34m(\u001b[0m\u001b[0mIP\u001b[0m\u001b[0;34m(\u001b[0m\u001b[0;34m)\u001b[0m\u001b[0;34m[\u001b[0m\u001b[0mi\u001b[0m\u001b[0;34m]\u001b[0m\u001b[0;34m[\u001b[0m\u001b[0mj\u001b[0m\u001b[0;34m]\u001b[0m\u001b[0;34m,\u001b[0m\u001b[0mexp\u001b[0m\u001b[0;34m(\u001b[0m\u001b[0mPutPriceA\u001b[0m\u001b[0;34m[\u001b[0m\u001b[0mi\u001b[0m\u001b[0;34m+\u001b[0m\u001b[0;36m1\u001b[0m\u001b[0;34m]\u001b[0m\u001b[0;34m[\u001b[0m\u001b[0mj\u001b[0m\u001b[0;34m+\u001b[0m\u001b[0;36m1\u001b[0m\u001b[0;34m]\u001b[0m\u001b[0;34m,\u001b[0m\u001b[0mPutPriceA\u001b[0m\u001b[0;34m[\u001b[0m\u001b[0mi\u001b[0m\u001b[0;34m+\u001b[0m\u001b[0;36m1\u001b[0m\u001b[0;34m]\u001b[0m\u001b[0;34m[\u001b[0m\u001b[0mj\u001b[0m\u001b[0;34m]\u001b[0m\u001b[0;34m,\u001b[0m\u001b[0mp\u001b[0m\u001b[0;34m,\u001b[0m\u001b[0mq\u001b[0m\u001b[0;34m,\u001b[0m\u001b[0mr\u001b[0m\u001b[0;34m)\u001b[0m\u001b[0;34m)\u001b[0m\u001b[0;34m)\u001b[0m\u001b[0;34m\u001b[0m\u001b[0;34m\u001b[0m\u001b[0m\n\u001b[0m\u001b[1;32m     11\u001b[0m     \u001b[0;32mreturn\u001b[0m \u001b[0mPutPriceA\u001b[0m\u001b[0;34m\u001b[0m\u001b[0;34m\u001b[0m\u001b[0m\n",
      "\u001b[0;31mTypeError\u001b[0m: 'dict' object is not callable"
     ]
    }
   ],
   "source": [
    "ChooserAChart=[]\n",
    "columns = []\n",
    "CA=chooserA()\n",
    "for i in range(t, -1, -1):\n",
    "    chart = []\n",
    "    columns.append(t-i)\n",
    "    for j in range(0,i):\n",
    "        chart.append(\"\")\n",
    "    for j in range(i, t+1):\n",
    "        chart.append(CA[j][i])\n",
    "    ChooserAChart.append(chart)\n",
    "df = pd.DataFrame(ChooserAChart, columns = columns)\n",
    "df.style.hide_index()"
   ]
  },
  {
   "cell_type": "markdown",
   "id": "5184d08c",
   "metadata": {},
   "source": [
    "for i in range(0, t+1):\n",
    "    for j in range(i,-1,-1):\n",
    "        print(chooserA[i][j])\n",
    "    print(\"\\n\")"
   ]
  },
  {
   "cell_type": "code",
   "execution_count": 29,
   "id": "d398d679",
   "metadata": {},
   "outputs": [],
   "source": [
    "def CallPriceE():\n",
    "    CallPriceE={}\n",
    "    CallPriceE[N]=[]\n",
    "    for n in range(0, N+1):\n",
    "        CallPriceE[N].append(IntrinsicCall()[N][n])\n",
    "    for i in range(N-1, -1, -1):\n",
    "        CallPriceE[i]=[]\n",
    "        for j in range(0, i+1):\n",
    "            CallPriceE[i].append(max(IntrinsicCall()[i][j],exp(CallPriceE[i+1][j+1],CallPriceE[i+1][j],p,q,r)))\n",
    "    return CallPriceE"
   ]
  },
  {
   "cell_type": "markdown",
   "id": "6f40a9c3",
   "metadata": {},
   "source": [
    "for i in range(0, N+1):\n",
    "    for j in range(i,-1,-1):\n",
    "        print(CallPriceE[i][j])\n",
    "    print(\"\\n\")"
   ]
  },
  {
   "cell_type": "code",
   "execution_count": 30,
   "id": "d630ba20",
   "metadata": {},
   "outputs": [],
   "source": [
    "def PutPriceE():\n",
    "    PutPriceE={}\n",
    "    PutPriceE[N]=[]\n",
    "    for n in range(0, N+1):\n",
    "        PutPriceE[N].append(IntrinsicPut()[N][n])\n",
    "    for i in range(N-1, -1, -1):\n",
    "        PutPriceE[i]=[]\n",
    "        for j in range(0, i+1):\n",
    "            PutPriceE[i].append(exp(PutPriceE[i+1][j+1],PutPriceE[i+1][j],p,q,r))\n",
    "    return PutPriceE"
   ]
  },
  {
   "cell_type": "code",
   "execution_count": 19,
   "id": "a4e1b5c5",
   "metadata": {},
   "outputs": [],
   "source": [
    "def PutPriceEK():\n",
    "    PutPriceEK={}\n",
    "    PutPriceEK[N]=[]\n",
    "    IntrinsicPut=IntrinsicPutK()\n",
    "    PutPriceEK=PutPriceEK()\n",
    "    for n in range(0, N+1):\n",
    "        PutPriceEK[N].append(IntrinsicPutK[N][n])\n",
    "    for i in range(N-1, -1, -1):\n",
    "        PutPriceEK[i]=[]\n",
    "        for j in range(0, i+1):\n",
    "            PutPriceEK[i].append(exp(PutPriceEK[i+1][j+1],PutPriceEK[i+1][j],p,q,r))\n",
    "    return PutPriceEK"
   ]
  },
  {
   "cell_type": "markdown",
   "id": "6a592461",
   "metadata": {},
   "source": [
    "PutPriceEKChart=[]\n",
    "columns = []\n",
    "for i in range(N, -1, -1):\n",
    "    chart = []\n",
    "    columns.append(N-i)\n",
    "    for j in range(0,i):\n",
    "        chart.append(\"\")\n",
    "    for j in range(i, N+1):\n",
    "        chart.append(PutPriceEK[j][i])\n",
    "    PutPriceEKChart.append(chart)\n",
    "df = pd.DataFrame(PutPriceEKChart, columns = columns)\n",
    "df.style.hide_index()"
   ]
  },
  {
   "cell_type": "markdown",
   "id": "8e3dd9bf",
   "metadata": {},
   "source": [
    "for i in range(0, N+1):\n",
    "    for j in range(i,-1,-1):\n",
    "        print(PutPriceE[i][j])\n",
    "    print(\"\\n\")"
   ]
  },
  {
   "cell_type": "code",
   "execution_count": 20,
   "id": "ba493aac",
   "metadata": {},
   "outputs": [],
   "source": [
    "straddleED={}\n",
    "straddleED[N]=[]\n",
    "CPE=CallPriceE()\n",
    "PPE=PutPriceE()\n",
    "for i in range(0,N+1):\n",
    "    straddleED[N].append(max(CPE[N][i],PPE[N][i]))\n",
    "for j in range(N-1,-1,-1):\n",
    "    straddleED[j]=[]\n",
    "    for k in range(0,j+1):\n",
    "        straddleED[j].append(exp(straddleED[j+1][k+1],straddleED[j+1][k],p,q,r))"
   ]
  },
  {
   "cell_type": "markdown",
   "id": "714d8301",
   "metadata": {},
   "source": [
    "for i in range(0, N+1):\n",
    "    for j in range(i,-1,-1):\n",
    "        print(straddleED[i][j])\n",
    "    print(\"\\n\")"
   ]
  },
  {
   "cell_type": "code",
   "execution_count": 21,
   "id": "d50c1c26",
   "metadata": {},
   "outputs": [],
   "source": [
    "def ChooserE():\n",
    "    chooserE={}\n",
    "    chooserE[t]=[]\n",
    "    CPE=CallPriceE()\n",
    "    PPE=PutPriceE()\n",
    "    for i in range(0,t+1):\n",
    "        chooserE[t].append(max(CPE[t][i],PPE[t][i]))\n",
    "    for j in range(t-1,-1,-1):\n",
    "        chooserE[j]=[]\n",
    "        for k in range(0,j+1):\n",
    "            chooserE[j].append(exp(chooserE[j+1][k+1],chooserE[j+1][k],p,q,r))\n",
    "    return chooserE"
   ]
  },
  {
   "cell_type": "markdown",
   "id": "b1e566ce",
   "metadata": {},
   "source": [
    "for i in range(0, t+1):\n",
    "    for j in range(i,-1,-1):\n",
    "        print(ChooserE()[i][j])\n",
    "    print(\"\\n\")"
   ]
  },
  {
   "cell_type": "code",
   "execution_count": 22,
   "id": "2c1cff18",
   "metadata": {},
   "outputs": [],
   "source": [
    "KhatEP=(1+r)**(t-N)*K\n",
    "NewEP={}\n",
    "NewEP[t]=[]\n",
    "SP=StockPrice()\n",
    "for i in range(0,t+1):\n",
    "    NewEP[t].append(max(0,KhatEP-SP[t][i]))\n",
    "for j in range(t-1,-1,-1):\n",
    "    NewEP[j]=[]\n",
    "    for k in range(0,j+1):\n",
    "        NewEP[j].append(exp(NewEP[j+1][k+1],NewEP[j+1][k],p,q,r))"
   ]
  },
  {
   "cell_type": "markdown",
   "id": "4ea0e36f",
   "metadata": {},
   "source": [
    "for i in range(0, t+1):\n",
    "    for j in range(i,-1,-1):\n",
    "        print(NewEP[i][j])\n",
    "    print(\"\\n\")"
   ]
  },
  {
   "cell_type": "code",
   "execution_count": 23,
   "id": "a41c3c6e",
   "metadata": {},
   "outputs": [],
   "source": [
    "BerCallIntri={}\n",
    "SP=StockPrice()\n",
    "for i in range(0,N+1):\n",
    "    BerCallIntri[i]=[]\n",
    "    for j in range(0,i+1):\n",
    "        BerCallIntri[i].append(max(0,SP[i][j]-K))"
   ]
  },
  {
   "cell_type": "markdown",
   "id": "8299dfef",
   "metadata": {},
   "source": [
    "for i in range(0, N):\n",
    "    for j in range(i,-1,-1):\n",
    "        print(BerCallIntri[i][j])\n",
    "    print(\"\\n\")"
   ]
  },
  {
   "cell_type": "code",
   "execution_count": 24,
   "id": "25c42914",
   "metadata": {},
   "outputs": [],
   "source": [
    "BerCallPrice={}\n",
    "BerCallPrice[N]=[]\n",
    "for n in range(0, N+1):\n",
    "    BerCallPrice[N].append(BerCallIntri[N][n])\n",
    "for i in range(N-1, -1, -1):\n",
    "    BerCallPrice[i]=[]\n",
    "    for j in range(0, i+1):\n",
    "        BerCallPrice[i].append(max(BerCallIntri[i][j],exp(BerCallPrice[i+1][j+1],BerCallPrice[i+1][j],p,q,r)))"
   ]
  },
  {
   "cell_type": "markdown",
   "id": "b345498a",
   "metadata": {},
   "source": [
    "for i in range(0, N+1):\n",
    "    for j in range(i,-1,-1):\n",
    "        print(BerCallPrice[i][j])\n",
    "    print(\"\\n\")"
   ]
  },
  {
   "cell_type": "code",
   "execution_count": 25,
   "id": "0fb6e826",
   "metadata": {},
   "outputs": [
    {
     "ename": "TypeError",
     "evalue": "'function' object is not subscriptable",
     "output_type": "error",
     "traceback": [
      "\u001b[0;31m---------------------------------------------------------------------------\u001b[0m",
      "\u001b[0;31mTypeError\u001b[0m                                 Traceback (most recent call last)",
      "\u001b[0;32m<ipython-input-25-d6b2b3f3b260>\u001b[0m in \u001b[0;36m<module>\u001b[0;34m\u001b[0m\n\u001b[1;32m      1\u001b[0m \u001b[0mChooserK1E\u001b[0m\u001b[0;34m=\u001b[0m\u001b[0;34m[\u001b[0m\u001b[0;34m]\u001b[0m\u001b[0;34m\u001b[0m\u001b[0;34m\u001b[0m\u001b[0m\n\u001b[1;32m      2\u001b[0m \u001b[0;32mfor\u001b[0m \u001b[0mi\u001b[0m \u001b[0;32min\u001b[0m \u001b[0mrange\u001b[0m\u001b[0;34m(\u001b[0m\u001b[0;36m0\u001b[0m\u001b[0;34m,\u001b[0m\u001b[0mEuroChooserK1\u001b[0m\u001b[0;34m+\u001b[0m\u001b[0;36m1\u001b[0m\u001b[0;34m)\u001b[0m\u001b[0;34m:\u001b[0m\u001b[0;34m\u001b[0m\u001b[0;34m\u001b[0m\u001b[0m\n\u001b[0;32m----> 3\u001b[0;31m     \u001b[0mChooserK1E\u001b[0m\u001b[0;34m.\u001b[0m\u001b[0mappend\u001b[0m\u001b[0;34m(\u001b[0m\u001b[0mmax\u001b[0m\u001b[0;34m(\u001b[0m\u001b[0mCallPriceE\u001b[0m\u001b[0;34m[\u001b[0m\u001b[0mEuroChooserK1\u001b[0m\u001b[0;34m]\u001b[0m\u001b[0;34m[\u001b[0m\u001b[0mi\u001b[0m\u001b[0;34m]\u001b[0m\u001b[0;34m,\u001b[0m\u001b[0mPutPriceE\u001b[0m\u001b[0;34m[\u001b[0m\u001b[0mEuroChooserK1\u001b[0m\u001b[0;34m]\u001b[0m\u001b[0;34m[\u001b[0m\u001b[0mi\u001b[0m\u001b[0;34m]\u001b[0m\u001b[0;34m)\u001b[0m\u001b[0;34m)\u001b[0m\u001b[0;34m\u001b[0m\u001b[0;34m\u001b[0m\u001b[0m\n\u001b[0m",
      "\u001b[0;31mTypeError\u001b[0m: 'function' object is not subscriptable"
     ]
    }
   ],
   "source": [
    "ChooserK1E=[]\n",
    "for i in range(0,EuroChooserK1+1):\n",
    "    ChooserK1E.append(max(CallPriceE[EuroChooserK1][i],PutPriceE[EuroChooserK1][i]))"
   ]
  },
  {
   "cell_type": "code",
   "execution_count": 26,
   "id": "5c4477aa",
   "metadata": {},
   "outputs": [
    {
     "ename": "TypeError",
     "evalue": "'function' object is not subscriptable",
     "output_type": "error",
     "traceback": [
      "\u001b[0;31m---------------------------------------------------------------------------\u001b[0m",
      "\u001b[0;31mTypeError\u001b[0m                                 Traceback (most recent call last)",
      "\u001b[0;32m<ipython-input-26-bd8aa080c5e2>\u001b[0m in \u001b[0;36m<module>\u001b[0;34m\u001b[0m\n\u001b[1;32m      1\u001b[0m \u001b[0mChooserK2E\u001b[0m\u001b[0;34m=\u001b[0m\u001b[0;34m[\u001b[0m\u001b[0;34m]\u001b[0m\u001b[0;34m\u001b[0m\u001b[0;34m\u001b[0m\u001b[0m\n\u001b[1;32m      2\u001b[0m \u001b[0;32mfor\u001b[0m \u001b[0mi\u001b[0m \u001b[0;32min\u001b[0m \u001b[0mrange\u001b[0m\u001b[0;34m(\u001b[0m\u001b[0;36m0\u001b[0m\u001b[0;34m,\u001b[0m\u001b[0mEuroChooserK2\u001b[0m\u001b[0;34m+\u001b[0m\u001b[0;36m1\u001b[0m\u001b[0;34m)\u001b[0m\u001b[0;34m:\u001b[0m\u001b[0;34m\u001b[0m\u001b[0;34m\u001b[0m\u001b[0m\n\u001b[0;32m----> 3\u001b[0;31m     \u001b[0mChooserK2E\u001b[0m\u001b[0;34m.\u001b[0m\u001b[0mappend\u001b[0m\u001b[0;34m(\u001b[0m\u001b[0mmax\u001b[0m\u001b[0;34m(\u001b[0m\u001b[0mCallPriceE\u001b[0m\u001b[0;34m[\u001b[0m\u001b[0mEuroChooserK2\u001b[0m\u001b[0;34m]\u001b[0m\u001b[0;34m[\u001b[0m\u001b[0mi\u001b[0m\u001b[0;34m]\u001b[0m\u001b[0;34m,\u001b[0m\u001b[0mPutPriceE\u001b[0m\u001b[0;34m[\u001b[0m\u001b[0mEuroChooserK2\u001b[0m\u001b[0;34m]\u001b[0m\u001b[0;34m[\u001b[0m\u001b[0mi\u001b[0m\u001b[0;34m]\u001b[0m\u001b[0;34m)\u001b[0m\u001b[0;34m)\u001b[0m\u001b[0;34m\u001b[0m\u001b[0;34m\u001b[0m\u001b[0m\n\u001b[0m",
      "\u001b[0;31mTypeError\u001b[0m: 'function' object is not subscriptable"
     ]
    }
   ],
   "source": [
    "ChooserK2E=[]\n",
    "for i in range(0,EuroChooserK2+1):\n",
    "    ChooserK2E.append(max(CallPriceE[EuroChooserK2][i],PutPriceE[EuroChooserK2][i]))"
   ]
  },
  {
   "cell_type": "code",
   "execution_count": 27,
   "id": "b776f38a",
   "metadata": {},
   "outputs": [
    {
     "ename": "IndexError",
     "evalue": "list index out of range",
     "output_type": "error",
     "traceback": [
      "\u001b[0;31m---------------------------------------------------------------------------\u001b[0m",
      "\u001b[0;31mIndexError\u001b[0m                                Traceback (most recent call last)",
      "\u001b[0;32m<ipython-input-27-aa2a33317940>\u001b[0m in \u001b[0;36m<module>\u001b[0;34m\u001b[0m\n\u001b[1;32m      2\u001b[0m \u001b[0mBermudanE\u001b[0m\u001b[0;34m[\u001b[0m\u001b[0mEuroChooserK2\u001b[0m\u001b[0;34m]\u001b[0m\u001b[0;34m=\u001b[0m\u001b[0;34m[\u001b[0m\u001b[0;34m]\u001b[0m\u001b[0;34m\u001b[0m\u001b[0;34m\u001b[0m\u001b[0m\n\u001b[1;32m      3\u001b[0m \u001b[0;32mfor\u001b[0m \u001b[0mi\u001b[0m \u001b[0;32min\u001b[0m \u001b[0mrange\u001b[0m\u001b[0;34m(\u001b[0m\u001b[0;36m0\u001b[0m\u001b[0;34m,\u001b[0m\u001b[0mEuroChooserK2\u001b[0m\u001b[0;34m+\u001b[0m\u001b[0;36m1\u001b[0m\u001b[0;34m)\u001b[0m\u001b[0;34m:\u001b[0m\u001b[0;34m\u001b[0m\u001b[0;34m\u001b[0m\u001b[0m\n\u001b[0;32m----> 4\u001b[0;31m     \u001b[0mBermudanE\u001b[0m\u001b[0;34m[\u001b[0m\u001b[0mEuroChooserK2\u001b[0m\u001b[0;34m]\u001b[0m\u001b[0;34m.\u001b[0m\u001b[0mappend\u001b[0m\u001b[0;34m(\u001b[0m\u001b[0mChooserK2E\u001b[0m\u001b[0;34m[\u001b[0m\u001b[0mi\u001b[0m\u001b[0;34m]\u001b[0m\u001b[0;34m)\u001b[0m\u001b[0;34m\u001b[0m\u001b[0;34m\u001b[0m\u001b[0m\n\u001b[0m\u001b[1;32m      5\u001b[0m \u001b[0mBermudanE\u001b[0m\u001b[0;34m[\u001b[0m\u001b[0mEuroChooserK1\u001b[0m\u001b[0;34m]\u001b[0m\u001b[0;34m=\u001b[0m\u001b[0;34m[\u001b[0m\u001b[0;34m]\u001b[0m\u001b[0;34m\u001b[0m\u001b[0;34m\u001b[0m\u001b[0m\n\u001b[1;32m      6\u001b[0m \u001b[0;32mfor\u001b[0m \u001b[0mj\u001b[0m \u001b[0;32min\u001b[0m \u001b[0mrange\u001b[0m\u001b[0;34m(\u001b[0m\u001b[0;36m0\u001b[0m\u001b[0;34m,\u001b[0m\u001b[0mEuroChooserK1\u001b[0m\u001b[0;34m+\u001b[0m\u001b[0;36m1\u001b[0m\u001b[0;34m)\u001b[0m\u001b[0;34m:\u001b[0m\u001b[0;34m\u001b[0m\u001b[0;34m\u001b[0m\u001b[0m\n",
      "\u001b[0;31mIndexError\u001b[0m: list index out of range"
     ]
    }
   ],
   "source": [
    "BermudanE={}\n",
    "BermudanE[EuroChooserK2]=[]\n",
    "for i in range(0,EuroChooserK2+1):\n",
    "    BermudanE[EuroChooserK2].append(ChooserK2E[i])\n",
    "BermudanE[EuroChooserK1]=[]\n",
    "for j in range(0,EuroChooserK1+1):\n",
    "    BermudanE[EuroChooserK1].append(max(ChooserK1E[j],exp(BermudanE[EuroChooserK2][j+1],BermudanE[EuroChooserK2][j],p,q,r)))\n",
    "for k in range(EuroChooserK1-1, -1, -1):\n",
    "    BermudanE[k]=[]\n",
    "    for m in range(0, k+1):\n",
    "        BermudanE[k].append(exp(BermudanE[k+1][m+1],BermudanE[k+1][m],p,q,r))"
   ]
  },
  {
   "cell_type": "markdown",
   "id": "18d728db",
   "metadata": {},
   "source": [
    "for i in range(0,EuroChooserK2):\n",
    "    for j in range(i,-1,-1):\n",
    "        print(BermudanE[i][j])\n",
    "    print(\"\\n\")"
   ]
  },
  {
   "cell_type": "code",
   "execution_count": 28,
   "id": "6e53959c",
   "metadata": {},
   "outputs": [
    {
     "ename": "TypeError",
     "evalue": "'function' object is not subscriptable",
     "output_type": "error",
     "traceback": [
      "\u001b[0;31m---------------------------------------------------------------------------\u001b[0m",
      "\u001b[0;31mTypeError\u001b[0m                                 Traceback (most recent call last)",
      "\u001b[0;32m<ipython-input-28-b6aa2b9789b9>\u001b[0m in \u001b[0;36m<module>\u001b[0;34m\u001b[0m\n\u001b[1;32m      2\u001b[0m \u001b[0mBermudanA\u001b[0m\u001b[0;34m[\u001b[0m\u001b[0mEuroChooserK2\u001b[0m\u001b[0;34m]\u001b[0m\u001b[0;34m=\u001b[0m\u001b[0;34m[\u001b[0m\u001b[0;34m]\u001b[0m\u001b[0;34m\u001b[0m\u001b[0;34m\u001b[0m\u001b[0m\n\u001b[1;32m      3\u001b[0m \u001b[0;32mfor\u001b[0m \u001b[0mi\u001b[0m \u001b[0;32min\u001b[0m \u001b[0mrange\u001b[0m\u001b[0;34m(\u001b[0m\u001b[0;36m0\u001b[0m\u001b[0;34m,\u001b[0m\u001b[0mEuroChooserK2\u001b[0m\u001b[0;34m+\u001b[0m\u001b[0;36m1\u001b[0m\u001b[0;34m)\u001b[0m\u001b[0;34m:\u001b[0m\u001b[0;34m\u001b[0m\u001b[0;34m\u001b[0m\u001b[0m\n\u001b[0;32m----> 4\u001b[0;31m     \u001b[0mBermudanA\u001b[0m\u001b[0;34m[\u001b[0m\u001b[0mEuroChooserK2\u001b[0m\u001b[0;34m]\u001b[0m\u001b[0;34m.\u001b[0m\u001b[0mappend\u001b[0m\u001b[0;34m(\u001b[0m\u001b[0mmax\u001b[0m\u001b[0;34m(\u001b[0m\u001b[0mPutPriceA\u001b[0m\u001b[0;34m[\u001b[0m\u001b[0mEuroChooserK2\u001b[0m\u001b[0;34m]\u001b[0m\u001b[0;34m[\u001b[0m\u001b[0mi\u001b[0m\u001b[0;34m]\u001b[0m\u001b[0;34m,\u001b[0m\u001b[0mCallPriceA\u001b[0m\u001b[0;34m[\u001b[0m\u001b[0mEuroChooserK2\u001b[0m\u001b[0;34m]\u001b[0m\u001b[0;34m[\u001b[0m\u001b[0mi\u001b[0m\u001b[0;34m]\u001b[0m\u001b[0;34m)\u001b[0m\u001b[0;34m)\u001b[0m\u001b[0;34m\u001b[0m\u001b[0;34m\u001b[0m\u001b[0m\n\u001b[0m\u001b[1;32m      5\u001b[0m \u001b[0mBermudanA\u001b[0m\u001b[0;34m[\u001b[0m\u001b[0mEuroChooserK1\u001b[0m\u001b[0;34m]\u001b[0m\u001b[0;34m=\u001b[0m\u001b[0;34m[\u001b[0m\u001b[0;34m]\u001b[0m\u001b[0;34m\u001b[0m\u001b[0;34m\u001b[0m\u001b[0m\n\u001b[1;32m      6\u001b[0m \u001b[0;32mfor\u001b[0m \u001b[0mk\u001b[0m \u001b[0;32min\u001b[0m \u001b[0mrange\u001b[0m\u001b[0;34m(\u001b[0m\u001b[0;36m0\u001b[0m\u001b[0;34m,\u001b[0m\u001b[0mEuroChooserK1\u001b[0m\u001b[0;34m+\u001b[0m\u001b[0;36m1\u001b[0m\u001b[0;34m)\u001b[0m\u001b[0;34m:\u001b[0m\u001b[0;34m\u001b[0m\u001b[0;34m\u001b[0m\u001b[0m\n",
      "\u001b[0;31mTypeError\u001b[0m: 'function' object is not subscriptable"
     ]
    }
   ],
   "source": [
    "BermudanA={}\n",
    "BermudanA[EuroChooserK2]=[]\n",
    "for i in range(0,EuroChooserK2+1):\n",
    "    BermudanA[EuroChooserK2].append(max(PutPriceA[EuroChooserK2][i],CallPriceA[EuroChooserK2][i]))\n",
    "BermudanA[EuroChooserK1]=[]\n",
    "for k in range(0,EuroChooserK1+1):\n",
    "    BermudanA[EuroChooserK1].append(max(chooserA[EuroChooserK1][k],exp(BermudanA[EuroChooserK1+1][k+1],BermudanA[EuroChooserK1+1][k],p,q,r)))\n",
    "for j in range(EuroChooserK1-1, -1, -1):\n",
    "    BermudanA[j]=[]\n",
    "    for m in range(0, j+1):\n",
    "        BermudanA[j].append(exp(BermudanA[j+1][m+1],BermudanA[j+1][m],p,q,r))"
   ]
  },
  {
   "cell_type": "markdown",
   "id": "56cdfdfe",
   "metadata": {},
   "source": [
    "for i in range(0,EuroChooserK2):\n",
    "    for j in range(i,-1,-1):\n",
    "        print(BermudanA[i][j])\n",
    "    print(\"\\n\")"
   ]
  },
  {
   "cell_type": "markdown",
   "id": "b59e1097",
   "metadata": {},
   "source": [
    "def BS():\n",
    "    \n",
    "    return exp(-r*N)*K*"
   ]
  },
  {
   "cell_type": "code",
   "execution_count": 29,
   "id": "ae1d0ee6",
   "metadata": {},
   "outputs": [],
   "source": [
    "def StockRatio(a,b):\n",
    "    return np.log(b/a)"
   ]
  },
  {
   "cell_type": "code",
   "execution_count": 30,
   "id": "732d6fdc",
   "metadata": {},
   "outputs": [],
   "source": [
    "def AnualV():\n",
    "    StockList = makeDataFrame(filename)\n",
    "    count=len(StockList)\n",
    "    RatioSum=0\n",
    "    for i in range(1,count):\n",
    "        ratio=StockRatio(StockList[i-1][0],StockList[i][0])\n",
    "        RatioSum+=ratio\n",
    "    Ud=RatioSum/count\n",
    "    squareSum=0\n",
    "    for i in range(1,count):\n",
    "        ratio2=StockRatio(StockList[i-1][0],StockList[i][0])\n",
    "        squareSum+=(ratio2-Ud)**2\n",
    "    Md=(squareSum/count)**(1/2)\n",
    "    Mh=Md*(252)**(1/2)\n",
    "    return Mh"
   ]
  },
  {
   "cell_type": "code",
   "execution_count": 31,
   "id": "64137aba",
   "metadata": {
    "scrolled": true
   },
   "outputs": [
    {
     "name": "stdout",
     "output_type": "stream",
     "text": [
      "     Adj Close\n",
      "0    40.680000\n",
      "1    41.349998\n",
      "2    40.060001\n",
      "3    38.560001\n",
      "4    40.660000\n",
      "..         ...\n",
      "248  29.719999\n",
      "249  29.290001\n",
      "250  31.090000\n",
      "251  29.700001\n",
      "252  29.924999\n",
      "\n",
      "[253 rows x 1 columns]\n"
     ]
    },
    {
     "data": {
      "text/plain": [
       "0.4725272137730581"
      ]
     },
     "execution_count": 31,
     "metadata": {},
     "output_type": "execute_result"
    }
   ],
   "source": [
    "AnualV()"
   ]
  },
  {
   "cell_type": "code",
   "execution_count": null,
   "id": "c92a3bab",
   "metadata": {},
   "outputs": [],
   "source": []
  },
  {
   "cell_type": "code",
   "execution_count": null,
   "id": "84bc1c79",
   "metadata": {},
   "outputs": [],
   "source": []
  }
 ],
 "metadata": {
  "kernelspec": {
   "display_name": "Python 3",
   "language": "python",
   "name": "python3"
  },
  "language_info": {
   "codemirror_mode": {
    "name": "ipython",
    "version": 3
   },
   "file_extension": ".py",
   "mimetype": "text/x-python",
   "name": "python",
   "nbconvert_exporter": "python",
   "pygments_lexer": "ipython3",
   "version": "3.8.8"
  }
 },
 "nbformat": 4,
 "nbformat_minor": 5
}
