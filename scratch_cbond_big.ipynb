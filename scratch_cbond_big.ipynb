{
 "cells": [
  {
   "cell_type": "code",
   "execution_count": 135,
   "metadata": {},
   "outputs": [],
   "source": [
    "import pandas as pd\n",
    "import numpy as np\n",
    "import matplotlib as mpl\n",
    "import math\n",
    "import copy"
   ]
  },
  {
   "cell_type": "code",
   "execution_count": 136,
   "metadata": {},
   "outputs": [],
   "source": [
    "def displayChart(tab):\n",
    "    Chart=[]\n",
    "    columns = []\n",
    "    N = len(tab)-1\n",
    "    for i in range(N, -1, -1):\n",
    "        chart = []\n",
    "        columns.append(N-i)\n",
    "        for j in range(0,i):\n",
    "            chart.append(\"\")\n",
    "        for j in range(i, N+1):\n",
    "            entry = tab[j][i]\n",
    "            chart.append(entry)\n",
    "        Chart.append(chart)\n",
    "    df = pd.DataFrame(Chart, columns = columns)\n",
    "    return df.style.hide_index()"
   ]
  },
  {
   "cell_type": "code",
   "execution_count": 137,
   "metadata": {},
   "outputs": [],
   "source": [
    "def list_to_dict(L):\n",
    "    res = {}\n",
    "    for i in range(len(L)):\n",
    "        res[i] = L[i]\n",
    "    return res"
   ]
  },
  {
   "cell_type": "code",
   "execution_count": 138,
   "metadata": {},
   "outputs": [],
   "source": [
    "def tree(t, init, up, down, negative_allowed):\n",
    "    \"\"\"t=num of time periods. init=initial value. up, down factors : num, negative values allowed : bool.\"\"\"\n",
    "    res = {}\n",
    "    gap = up+down\n",
    "    if negative_allowed:\n",
    "        for i in range(t+1):\n",
    "            res[i] = np.arange(init-i*down, init+(i+1)*up, gap)\n",
    "    else:\n",
    "        for i in range(t+1):\n",
    "            res[i] = np.maximum(np.zeros(i+1), np.arange(init-i*down, init+(i+1)*up, gap))\n",
    "    return res"
   ]
  },
  {
   "cell_type": "code",
   "execution_count": 139,
   "metadata": {},
   "outputs": [],
   "source": [
    "def bond_tree(bond):\n",
    "    print(\"unimplemented\")\n",
    "    L = []\n",
    "    for i in range(bond.periods):\n",
    "        pass"
   ]
  },
  {
   "cell_type": "code",
   "execution_count": 140,
   "metadata": {},
   "outputs": [],
   "source": [
    "class HoLee:\n",
    "    def __init__(self, periods, R0, lam, sig):\n",
    "        self.periods = periods\n",
    "        self.R0 = R0\n",
    "        self.lam = lam\n",
    "        self.sig = sig\n",
    "        self.tree_exists = False\n",
    "\n",
    "    def create_tree(self):\n",
    "        if self.lam+self.sig > 0:\n",
    "            self.up = self.lam+self.sig\n",
    "            self.down = self.sig-self.lam\n",
    "        else:\n",
    "            self.up = self.sig-self.lam\n",
    "            self.down = self.lam+self.sig\n",
    "        \n",
    "        self.tree = tree(self.periods, self.R0, self.up, self.down, True)\n",
    "        self.tree_exists = True\n",
    "        return self.tree"
   ]
  },
  {
   "cell_type": "code",
   "execution_count": 141,
   "metadata": {},
   "outputs": [],
   "source": [
    "class Stocks:\n",
    "    def __init__(self, periods, S0, alpha, beta):\n",
    "        self.periods = periods\n",
    "        self.S0 = S0\n",
    "        self.alpha = alpha\n",
    "        self.up = self.alpha\n",
    "        self.beta = beta\n",
    "        self.down = self.beta\n",
    "        self.tree_exists = False\n",
    "\n",
    "    def create_tree(self):\n",
    "        self.tree = tree(self.periods, self.S0, self.alpha, self.beta, False)\n",
    "        self.tree_exists = True\n",
    "        return self.tree"
   ]
  },
  {
   "cell_type": "code",
   "execution_count": 142,
   "metadata": {},
   "outputs": [],
   "source": [
    "def p_values(model):\n",
    "    t = model.periods\n",
    "    stock_price_chart = model.stocks_tree\n",
    "    rates = model.rates_tree\n",
    "    P = {i: np.ones(i+1) for i in range (t+1)}\n",
    "\n",
    "    # P = {i: [1]*(i+1) for i in range(t+1)}\n",
    "    for i in range(0, t):\n",
    "        for j in range(i+1):\n",
    "            if stock_price_chart[i][j] == 0:\n",
    "                P[i][j] = -1\n",
    "            else:\n",
    "                d = stock_price_chart[i+1][j] / stock_price_chart[i][j]\n",
    "                u = stock_price_chart[i+1][j+1] / stock_price_chart[i][j]\n",
    "                P[i][j] = (1 + rates[i][j] - d) / (u-d)\n",
    "    model.stock_p_vals = P\n",
    "    return P"
   ]
  },
  {
   "cell_type": "code",
   "execution_count": 143,
   "metadata": {},
   "outputs": [],
   "source": [
    "def rate_p_values(model):\n",
    "    t = model.periods\n",
    "    res = {}\n",
    "    for i in range(t):\n",
    "        res[i] = np.full(i+1, 0.5)\n",
    "    res[t] = np.ones(t+1)\n",
    "    model.rate_p_vals = res\n",
    "    return res"
   ]
  },
  {
   "cell_type": "code",
   "execution_count": 144,
   "metadata": {},
   "outputs": [],
   "source": [
    "class Model(HoLee, Stocks):\n",
    "    \"\"\"Model inherits from HoLee and Stocks. Creation of trees are delayed via methods to address efficiency concerns.\"\"\"\n",
    "    def __init__(self, periods):\n",
    "        self.periods = periods\n",
    "    \n",
    "    def init_stocks(self, S0, alpha, beta):\n",
    "        stocks = Stocks(self.periods, S0, alpha, beta)\n",
    "        self.stock_up = alpha\n",
    "        self.stock_down = beta\n",
    "        self.stocks_tree = stocks.create_tree()\n",
    "        self.p_values = p_values(self)\n",
    "\n",
    "    def init_HoLee(self, R0, lam, sig):\n",
    "        rates = HoLee(self.periods, R0, lam, sig)\n",
    "        if lam+sig > 0:\n",
    "            self.rate_up = lam+sig\n",
    "            self.rate_down = sig-lam\n",
    "        else:\n",
    "            self.rate_up = sig-lam\n",
    "            self.rate_down = lam+sig\n",
    "        self.rates_tree = rates.create_tree()\n",
    "        self.rate_p_values = rate_p_values(self)\n",
    "\n",
    "    \n",
    "    # def init_bond(self, face, q, distr_list, conv_list, call_list):\n",
    "    #     bond = Bond(self.periods, face, q, distr_list, conv_list, call_list)\n",
    "    #     self.bond_tree = bond.create_tree"
   ]
  },
  {
   "cell_type": "code",
   "execution_count": 145,
   "metadata": {},
   "outputs": [],
   "source": [
    "class Bond(Model):\n",
    "    def __init__(self, periods, face, q, distr_list, conv_list, call_list):\n",
    "        super().__init__(periods)\n",
    "        self.face = face\n",
    "        self.q = q\n",
    "        self.coup = self.face * self.q\n",
    "        self.distr_dict = list_to_dict(distr_list)\n",
    "        self.conv_dict = list_to_dict(conv_list)\n",
    "        self.call_dict = list_to_dict(call_list)\n",
    "    \n",
    "    def create_tree(self):\n",
    "        if not HoLee.tree_exists:\n",
    "            HoLee.create_tree\n",
    "        if not Stocks.tree_exists:\n",
    "            Stocks.create_tree\n",
    "        self.tree = bond_tree(self)\n",
    "        return self.tree\n"
   ]
  },
  {
   "cell_type": "code",
   "execution_count": 146,
   "metadata": {},
   "outputs": [
    {
     "name": "stdout",
     "output_type": "stream",
     "text": [
      "interest rates\n"
     ]
    },
    {
     "name": "stderr",
     "output_type": "stream",
     "text": [
      "/var/folders/bw/yjjm_7gs7vv11d3rbv60z3p00000gn/T/ipykernel_43420/4140021945.py:15: FutureWarning: this method is deprecated in favour of `Styler.hide(axis=\"index\")`\n",
      "  return df.style.hide_index()\n"
     ]
    },
    {
     "data": {
      "text/html": [
       "<style type=\"text/css\">\n",
       "</style>\n",
       "<table id=\"T_aa9bd\">\n",
       "  <thead>\n",
       "    <tr>\n",
       "      <th id=\"T_aa9bd_level0_col0\" class=\"col_heading level0 col0\" >0</th>\n",
       "      <th id=\"T_aa9bd_level0_col1\" class=\"col_heading level0 col1\" >1</th>\n",
       "      <th id=\"T_aa9bd_level0_col2\" class=\"col_heading level0 col2\" >2</th>\n",
       "      <th id=\"T_aa9bd_level0_col3\" class=\"col_heading level0 col3\" >3</th>\n",
       "      <th id=\"T_aa9bd_level0_col4\" class=\"col_heading level0 col4\" >4</th>\n",
       "    </tr>\n",
       "  </thead>\n",
       "  <tbody>\n",
       "    <tr>\n",
       "      <td id=\"T_aa9bd_row0_col0\" class=\"data row0 col0\" ></td>\n",
       "      <td id=\"T_aa9bd_row0_col1\" class=\"data row0 col1\" ></td>\n",
       "      <td id=\"T_aa9bd_row0_col2\" class=\"data row0 col2\" ></td>\n",
       "      <td id=\"T_aa9bd_row0_col3\" class=\"data row0 col3\" ></td>\n",
       "      <td id=\"T_aa9bd_row0_col4\" class=\"data row0 col4\" >0.060000</td>\n",
       "    </tr>\n",
       "    <tr>\n",
       "      <td id=\"T_aa9bd_row1_col0\" class=\"data row1 col0\" ></td>\n",
       "      <td id=\"T_aa9bd_row1_col1\" class=\"data row1 col1\" ></td>\n",
       "      <td id=\"T_aa9bd_row1_col2\" class=\"data row1 col2\" ></td>\n",
       "      <td id=\"T_aa9bd_row1_col3\" class=\"data row1 col3\" >0.055000</td>\n",
       "      <td id=\"T_aa9bd_row1_col4\" class=\"data row1 col4\" >0.050000</td>\n",
       "    </tr>\n",
       "    <tr>\n",
       "      <td id=\"T_aa9bd_row2_col0\" class=\"data row2 col0\" ></td>\n",
       "      <td id=\"T_aa9bd_row2_col1\" class=\"data row2 col1\" ></td>\n",
       "      <td id=\"T_aa9bd_row2_col2\" class=\"data row2 col2\" >0.050000</td>\n",
       "      <td id=\"T_aa9bd_row2_col3\" class=\"data row2 col3\" >0.045000</td>\n",
       "      <td id=\"T_aa9bd_row2_col4\" class=\"data row2 col4\" >0.040000</td>\n",
       "    </tr>\n",
       "    <tr>\n",
       "      <td id=\"T_aa9bd_row3_col0\" class=\"data row3 col0\" ></td>\n",
       "      <td id=\"T_aa9bd_row3_col1\" class=\"data row3 col1\" >0.045000</td>\n",
       "      <td id=\"T_aa9bd_row3_col2\" class=\"data row3 col2\" >0.040000</td>\n",
       "      <td id=\"T_aa9bd_row3_col3\" class=\"data row3 col3\" >0.035000</td>\n",
       "      <td id=\"T_aa9bd_row3_col4\" class=\"data row3 col4\" >0.030000</td>\n",
       "    </tr>\n",
       "    <tr>\n",
       "      <td id=\"T_aa9bd_row4_col0\" class=\"data row4 col0\" >0.040000</td>\n",
       "      <td id=\"T_aa9bd_row4_col1\" class=\"data row4 col1\" >0.035000</td>\n",
       "      <td id=\"T_aa9bd_row4_col2\" class=\"data row4 col2\" >0.030000</td>\n",
       "      <td id=\"T_aa9bd_row4_col3\" class=\"data row4 col3\" >0.025000</td>\n",
       "      <td id=\"T_aa9bd_row4_col4\" class=\"data row4 col4\" >0.020000</td>\n",
       "    </tr>\n",
       "  </tbody>\n",
       "</table>\n"
      ],
      "text/plain": [
       "<pandas.io.formats.style.Styler at 0x16a1c4110>"
      ]
     },
     "execution_count": 146,
     "metadata": {},
     "output_type": "execute_result"
    }
   ],
   "source": [
    "model = Model(4)\n",
    "model.init_HoLee(0.04, 0, 0.005)\n",
    "print(\"interest rates\")\n",
    "displayChart(model.rates_tree)"
   ]
  },
  {
   "cell_type": "code",
   "execution_count": 147,
   "metadata": {},
   "outputs": [
    {
     "name": "stdout",
     "output_type": "stream",
     "text": [
      "stocks\n"
     ]
    },
    {
     "name": "stderr",
     "output_type": "stream",
     "text": [
      "/var/folders/bw/yjjm_7gs7vv11d3rbv60z3p00000gn/T/ipykernel_43420/4140021945.py:15: FutureWarning: this method is deprecated in favour of `Styler.hide(axis=\"index\")`\n",
      "  return df.style.hide_index()\n"
     ]
    },
    {
     "data": {
      "text/html": [
       "<style type=\"text/css\">\n",
       "</style>\n",
       "<table id=\"T_01fff\">\n",
       "  <thead>\n",
       "    <tr>\n",
       "      <th id=\"T_01fff_level0_col0\" class=\"col_heading level0 col0\" >0</th>\n",
       "      <th id=\"T_01fff_level0_col1\" class=\"col_heading level0 col1\" >1</th>\n",
       "      <th id=\"T_01fff_level0_col2\" class=\"col_heading level0 col2\" >2</th>\n",
       "      <th id=\"T_01fff_level0_col3\" class=\"col_heading level0 col3\" >3</th>\n",
       "      <th id=\"T_01fff_level0_col4\" class=\"col_heading level0 col4\" >4</th>\n",
       "    </tr>\n",
       "  </thead>\n",
       "  <tbody>\n",
       "    <tr>\n",
       "      <td id=\"T_01fff_row0_col0\" class=\"data row0 col0\" ></td>\n",
       "      <td id=\"T_01fff_row0_col1\" class=\"data row0 col1\" ></td>\n",
       "      <td id=\"T_01fff_row0_col2\" class=\"data row0 col2\" ></td>\n",
       "      <td id=\"T_01fff_row0_col3\" class=\"data row0 col3\" ></td>\n",
       "      <td id=\"T_01fff_row0_col4\" class=\"data row0 col4\" >50.000000</td>\n",
       "    </tr>\n",
       "    <tr>\n",
       "      <td id=\"T_01fff_row1_col0\" class=\"data row1 col0\" ></td>\n",
       "      <td id=\"T_01fff_row1_col1\" class=\"data row1 col1\" ></td>\n",
       "      <td id=\"T_01fff_row1_col2\" class=\"data row1 col2\" ></td>\n",
       "      <td id=\"T_01fff_row1_col3\" class=\"data row1 col3\" >45.000000</td>\n",
       "      <td id=\"T_01fff_row1_col4\" class=\"data row1 col4\" >40.000000</td>\n",
       "    </tr>\n",
       "    <tr>\n",
       "      <td id=\"T_01fff_row2_col0\" class=\"data row2 col0\" ></td>\n",
       "      <td id=\"T_01fff_row2_col1\" class=\"data row2 col1\" ></td>\n",
       "      <td id=\"T_01fff_row2_col2\" class=\"data row2 col2\" >40.000000</td>\n",
       "      <td id=\"T_01fff_row2_col3\" class=\"data row2 col3\" >35.000000</td>\n",
       "      <td id=\"T_01fff_row2_col4\" class=\"data row2 col4\" >30.000000</td>\n",
       "    </tr>\n",
       "    <tr>\n",
       "      <td id=\"T_01fff_row3_col0\" class=\"data row3 col0\" ></td>\n",
       "      <td id=\"T_01fff_row3_col1\" class=\"data row3 col1\" >35.000000</td>\n",
       "      <td id=\"T_01fff_row3_col2\" class=\"data row3 col2\" >30.000000</td>\n",
       "      <td id=\"T_01fff_row3_col3\" class=\"data row3 col3\" >25.000000</td>\n",
       "      <td id=\"T_01fff_row3_col4\" class=\"data row3 col4\" >20.000000</td>\n",
       "    </tr>\n",
       "    <tr>\n",
       "      <td id=\"T_01fff_row4_col0\" class=\"data row4 col0\" >30.000000</td>\n",
       "      <td id=\"T_01fff_row4_col1\" class=\"data row4 col1\" >25.000000</td>\n",
       "      <td id=\"T_01fff_row4_col2\" class=\"data row4 col2\" >20.000000</td>\n",
       "      <td id=\"T_01fff_row4_col3\" class=\"data row4 col3\" >15.000000</td>\n",
       "      <td id=\"T_01fff_row4_col4\" class=\"data row4 col4\" >10.000000</td>\n",
       "    </tr>\n",
       "  </tbody>\n",
       "</table>\n"
      ],
      "text/plain": [
       "<pandas.io.formats.style.Styler at 0x16a160a10>"
      ]
     },
     "execution_count": 147,
     "metadata": {},
     "output_type": "execute_result"
    }
   ],
   "source": [
    "model.init_stocks(30,5,5)\n",
    "print(\"stocks\")\n",
    "displayChart(model.stocks_tree)"
   ]
  },
  {
   "cell_type": "code",
   "execution_count": 148,
   "metadata": {},
   "outputs": [],
   "source": [
    "# distr_list = [(10, 0) for i in range(11)]\n",
    "# distr_list[10] = (10, 0, 0.5)\n",
    "# conv_list = [1 for i in range(11)]\n",
    "# call_list = [0 for i in range(11)]\n",
    "# model.init_bond(50, .04, distr_list, conv_list, call_list)"
   ]
  },
  {
   "cell_type": "code",
   "execution_count": 149,
   "metadata": {},
   "outputs": [
    {
     "name": "stdout",
     "output_type": "stream",
     "text": [
      "p tilde\n"
     ]
    },
    {
     "name": "stderr",
     "output_type": "stream",
     "text": [
      "/var/folders/bw/yjjm_7gs7vv11d3rbv60z3p00000gn/T/ipykernel_43420/4140021945.py:15: FutureWarning: this method is deprecated in favour of `Styler.hide(axis=\"index\")`\n",
      "  return df.style.hide_index()\n"
     ]
    },
    {
     "data": {
      "text/html": [
       "<style type=\"text/css\">\n",
       "</style>\n",
       "<table id=\"T_c8509\">\n",
       "  <thead>\n",
       "    <tr>\n",
       "      <th id=\"T_c8509_level0_col0\" class=\"col_heading level0 col0\" >0</th>\n",
       "      <th id=\"T_c8509_level0_col1\" class=\"col_heading level0 col1\" >1</th>\n",
       "      <th id=\"T_c8509_level0_col2\" class=\"col_heading level0 col2\" >2</th>\n",
       "      <th id=\"T_c8509_level0_col3\" class=\"col_heading level0 col3\" >3</th>\n",
       "      <th id=\"T_c8509_level0_col4\" class=\"col_heading level0 col4\" >4</th>\n",
       "    </tr>\n",
       "  </thead>\n",
       "  <tbody>\n",
       "    <tr>\n",
       "      <td id=\"T_c8509_row0_col0\" class=\"data row0 col0\" ></td>\n",
       "      <td id=\"T_c8509_row0_col1\" class=\"data row0 col1\" ></td>\n",
       "      <td id=\"T_c8509_row0_col2\" class=\"data row0 col2\" ></td>\n",
       "      <td id=\"T_c8509_row0_col3\" class=\"data row0 col3\" ></td>\n",
       "      <td id=\"T_c8509_row0_col4\" class=\"data row0 col4\" >1.000000</td>\n",
       "    </tr>\n",
       "    <tr>\n",
       "      <td id=\"T_c8509_row1_col0\" class=\"data row1 col0\" ></td>\n",
       "      <td id=\"T_c8509_row1_col1\" class=\"data row1 col1\" ></td>\n",
       "      <td id=\"T_c8509_row1_col2\" class=\"data row1 col2\" ></td>\n",
       "      <td id=\"T_c8509_row1_col3\" class=\"data row1 col3\" >0.747500</td>\n",
       "      <td id=\"T_c8509_row1_col4\" class=\"data row1 col4\" >1.000000</td>\n",
       "    </tr>\n",
       "    <tr>\n",
       "      <td id=\"T_c8509_row2_col0\" class=\"data row2 col0\" ></td>\n",
       "      <td id=\"T_c8509_row2_col1\" class=\"data row2 col1\" ></td>\n",
       "      <td id=\"T_c8509_row2_col2\" class=\"data row2 col2\" >0.700000</td>\n",
       "      <td id=\"T_c8509_row2_col3\" class=\"data row2 col3\" >0.657500</td>\n",
       "      <td id=\"T_c8509_row2_col4\" class=\"data row2 col4\" >1.000000</td>\n",
       "    </tr>\n",
       "    <tr>\n",
       "      <td id=\"T_c8509_row3_col0\" class=\"data row3 col0\" ></td>\n",
       "      <td id=\"T_c8509_row3_col1\" class=\"data row3 col1\" >0.657500</td>\n",
       "      <td id=\"T_c8509_row3_col2\" class=\"data row3 col2\" >0.620000</td>\n",
       "      <td id=\"T_c8509_row3_col3\" class=\"data row3 col3\" >0.587500</td>\n",
       "      <td id=\"T_c8509_row3_col4\" class=\"data row3 col4\" >1.000000</td>\n",
       "    </tr>\n",
       "    <tr>\n",
       "      <td id=\"T_c8509_row4_col0\" class=\"data row4 col0\" >0.620000</td>\n",
       "      <td id=\"T_c8509_row4_col1\" class=\"data row4 col1\" >0.587500</td>\n",
       "      <td id=\"T_c8509_row4_col2\" class=\"data row4 col2\" >0.560000</td>\n",
       "      <td id=\"T_c8509_row4_col3\" class=\"data row4 col3\" >0.537500</td>\n",
       "      <td id=\"T_c8509_row4_col4\" class=\"data row4 col4\" >1.000000</td>\n",
       "    </tr>\n",
       "  </tbody>\n",
       "</table>\n"
      ],
      "text/plain": [
       "<pandas.io.formats.style.Styler at 0x16a1d6a10>"
      ]
     },
     "execution_count": 149,
     "metadata": {},
     "output_type": "execute_result"
    }
   ],
   "source": [
    "p_vals = p_values(model)\n",
    "print(\"p tilde\")\n",
    "displayChart(p_vals)\n",
    "# print(p_vals)\n",
    "# print(p_vals[1][1])"
   ]
  },
  {
   "cell_type": "code",
   "execution_count": 150,
   "metadata": {},
   "outputs": [
    {
     "name": "stdout",
     "output_type": "stream",
     "text": [
      "rate p tilde\n"
     ]
    },
    {
     "name": "stderr",
     "output_type": "stream",
     "text": [
      "/var/folders/bw/yjjm_7gs7vv11d3rbv60z3p00000gn/T/ipykernel_43420/4140021945.py:15: FutureWarning: this method is deprecated in favour of `Styler.hide(axis=\"index\")`\n",
      "  return df.style.hide_index()\n"
     ]
    },
    {
     "data": {
      "text/html": [
       "<style type=\"text/css\">\n",
       "</style>\n",
       "<table id=\"T_ac9e9\">\n",
       "  <thead>\n",
       "    <tr>\n",
       "      <th id=\"T_ac9e9_level0_col0\" class=\"col_heading level0 col0\" >0</th>\n",
       "      <th id=\"T_ac9e9_level0_col1\" class=\"col_heading level0 col1\" >1</th>\n",
       "      <th id=\"T_ac9e9_level0_col2\" class=\"col_heading level0 col2\" >2</th>\n",
       "      <th id=\"T_ac9e9_level0_col3\" class=\"col_heading level0 col3\" >3</th>\n",
       "      <th id=\"T_ac9e9_level0_col4\" class=\"col_heading level0 col4\" >4</th>\n",
       "    </tr>\n",
       "  </thead>\n",
       "  <tbody>\n",
       "    <tr>\n",
       "      <td id=\"T_ac9e9_row0_col0\" class=\"data row0 col0\" ></td>\n",
       "      <td id=\"T_ac9e9_row0_col1\" class=\"data row0 col1\" ></td>\n",
       "      <td id=\"T_ac9e9_row0_col2\" class=\"data row0 col2\" ></td>\n",
       "      <td id=\"T_ac9e9_row0_col3\" class=\"data row0 col3\" ></td>\n",
       "      <td id=\"T_ac9e9_row0_col4\" class=\"data row0 col4\" >1.000000</td>\n",
       "    </tr>\n",
       "    <tr>\n",
       "      <td id=\"T_ac9e9_row1_col0\" class=\"data row1 col0\" ></td>\n",
       "      <td id=\"T_ac9e9_row1_col1\" class=\"data row1 col1\" ></td>\n",
       "      <td id=\"T_ac9e9_row1_col2\" class=\"data row1 col2\" ></td>\n",
       "      <td id=\"T_ac9e9_row1_col3\" class=\"data row1 col3\" >0.500000</td>\n",
       "      <td id=\"T_ac9e9_row1_col4\" class=\"data row1 col4\" >1.000000</td>\n",
       "    </tr>\n",
       "    <tr>\n",
       "      <td id=\"T_ac9e9_row2_col0\" class=\"data row2 col0\" ></td>\n",
       "      <td id=\"T_ac9e9_row2_col1\" class=\"data row2 col1\" ></td>\n",
       "      <td id=\"T_ac9e9_row2_col2\" class=\"data row2 col2\" >0.500000</td>\n",
       "      <td id=\"T_ac9e9_row2_col3\" class=\"data row2 col3\" >0.500000</td>\n",
       "      <td id=\"T_ac9e9_row2_col4\" class=\"data row2 col4\" >1.000000</td>\n",
       "    </tr>\n",
       "    <tr>\n",
       "      <td id=\"T_ac9e9_row3_col0\" class=\"data row3 col0\" ></td>\n",
       "      <td id=\"T_ac9e9_row3_col1\" class=\"data row3 col1\" >0.500000</td>\n",
       "      <td id=\"T_ac9e9_row3_col2\" class=\"data row3 col2\" >0.500000</td>\n",
       "      <td id=\"T_ac9e9_row3_col3\" class=\"data row3 col3\" >0.500000</td>\n",
       "      <td id=\"T_ac9e9_row3_col4\" class=\"data row3 col4\" >1.000000</td>\n",
       "    </tr>\n",
       "    <tr>\n",
       "      <td id=\"T_ac9e9_row4_col0\" class=\"data row4 col0\" >0.500000</td>\n",
       "      <td id=\"T_ac9e9_row4_col1\" class=\"data row4 col1\" >0.500000</td>\n",
       "      <td id=\"T_ac9e9_row4_col2\" class=\"data row4 col2\" >0.500000</td>\n",
       "      <td id=\"T_ac9e9_row4_col3\" class=\"data row4 col3\" >0.500000</td>\n",
       "      <td id=\"T_ac9e9_row4_col4\" class=\"data row4 col4\" >1.000000</td>\n",
       "    </tr>\n",
       "  </tbody>\n",
       "</table>\n"
      ],
      "text/plain": [
       "<pandas.io.formats.style.Styler at 0x16a148e10>"
      ]
     },
     "execution_count": 150,
     "metadata": {},
     "output_type": "execute_result"
    }
   ],
   "source": [
    "rate_p_vals = rate_p_values(model)\n",
    "print(\"rate p tilde\")\n",
    "displayChart(rate_p_vals)"
   ]
  },
  {
   "cell_type": "code",
   "execution_count": 151,
   "metadata": {},
   "outputs": [],
   "source": [
    "distr_list = [(10, 0) for i in range(11)]\n",
    "distr_list[10] = (10, 0, 0.5)\n",
    "conv_list = np.ones(11) #[1 for i in range(11)]\n",
    "call_list = np.zeros(11) #[0 for i in range(11)]\n",
    "cbond = Bond(4, 50, 0.04, distr_list, conv_list, call_list)"
   ]
  },
  {
   "cell_type": "code",
   "execution_count": 152,
   "metadata": {},
   "outputs": [
    {
     "name": "stdout",
     "output_type": "stream",
     "text": [
      "0.005\n"
     ]
    }
   ],
   "source": [
    "\"\"\"\n",
    "Idea: one dictionary. Key: integer tuple (time period, # stock heads, # tails), Value: bond price before coupon.\n",
    "\"\"\"\n",
    "\n",
    "def two_coin(model, bond):\n",
    "    face = 50\n",
    "    t = model.periods\n",
    "    S = model.stocks_tree\n",
    "    R = model.rates_tree\n",
    "    s_p = model.p_vals\n",
    "    r_p = model.rate_p_vals\n",
    "    c = bond.coup\n",
    "    res = {}\n",
    "    #fill in the last period \n",
    "    for i in range(t+1):            #i: number of stock heads\n",
    "        for j in range(t+1):        #j: number of rate heads\n",
    "            cur_stock = S[t][i]\n",
    "            res[(t, i, j)] = max(conv_list[t]*cur_stock, face * (bond.distr_list[t+1][2] if cur_stock <= bond.distr_list[t+1][0] else 1))\n",
    "    #now all the final period prices have been filled. what remains is to perform backwards induction\n",
    "    #Backwards Induction:\n",
    "    for n in range(t-1, -1, -1):\n",
    "        for i in range(n+1):        #i: number of stock heads\n",
    "            for j in range(n+1):    #j: number of rate heads\n",
    "                cur_stock = S[n][i]\n",
    "                cur_rate = R[n][i]\n",
    "                cur_disc = 1/(1+cur_rate)\n",
    "                #there are four cases. two adjacent stock price moves and two adjacent rates moves. make sure to get the correct pvals\n",
    "                #stock head rate head\n",
    "                hh = res[(n+1, i+1, j+1)]\n",
    "                hh_coup = \n",
    "                #stock head rate tail\n",
    "\n",
    "                #stock tail rate head\n",
    "\n",
    "                #stock tail rate tail\n",
    "\n",
    "                res[(n, i, j)]\n",
    "        pass\n",
    "\n",
    "\n",
    "\n",
    "print(model.rate_up)\n",
    "    "
   ]
  }
 ],
 "metadata": {
  "kernelspec": {
   "display_name": "my-nump-env",
   "language": "python",
   "name": "python3"
  },
  "language_info": {
   "codemirror_mode": {
    "name": "ipython",
    "version": 3
   },
   "file_extension": ".py",
   "mimetype": "text/x-python",
   "name": "python",
   "nbconvert_exporter": "python",
   "pygments_lexer": "ipython3",
   "version": "3.11.0"
  },
  "orig_nbformat": 4
 },
 "nbformat": 4,
 "nbformat_minor": 2
}
