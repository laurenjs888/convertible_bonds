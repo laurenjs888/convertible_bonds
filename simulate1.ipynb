{
 "cells": [
  {
   "cell_type": "code",
   "execution_count": 343,
   "id": "595497ea",
   "metadata": {},
   "outputs": [],
   "source": [
    "import pandas as pd\n",
    "import numpy as np\n",
    "import matplotlib as mpl\n",
    "import math"
   ]
  },
  {
   "cell_type": "code",
   "execution_count": 344,
   "id": "1a530f93",
   "metadata": {},
   "outputs": [],
   "source": [
    "# filename=r'/Users/Amelia/Desktop/DAL.csv'"
   ]
  },
  {
   "cell_type": "code",
   "execution_count": 345,
   "id": "d7d5ceea",
   "metadata": {},
   "outputs": [],
   "source": [
    "# def makeDataFrame(filename):\n",
    "#     data=pd.read_csv(filename)\n",
    "#     df=pd.DataFrame(data,columns=['Adj Close'])\n",
    "#     print(df)\n",
    "#     s=df.values.tolist()\n",
    "#     return s "
   ]
  },
  {
   "cell_type": "markdown",
   "id": "1d001c54",
   "metadata": {},
   "source": [
    "makeDataFrame(filename)"
   ]
  },
  {
   "cell_type": "code",
   "execution_count": 346,
   "id": "4ff9820c",
   "metadata": {},
   "outputs": [],
   "source": [
    "# parameters\n",
    "S0=30\n",
    "r=0.06\n",
    "t=4\n",
    "u=1+r+math.sqrt((1+r)**2-1) \n",
    "drift=0\n",
    "vol=10 # for additive amount, how much to add\n",
    "d=(1+r)/u\n",
    "face=50\n",
    "coupon_rate = 0.04\n",
    "coupon = coupon_rate*face\n",
    "default_threshold = 1/3\n",
    "bankrupcy_ratio = 2.4\n",
    "K=55 # call value"
   ]
  },
  {
   "cell_type": "code",
   "execution_count": 347,
   "id": "a1d50b86",
   "metadata": {},
   "outputs": [],
   "source": [
    "def g(x): # payoff function e.g for a call it would be max(0, x-K)\n",
    "    if x==0:\n",
    "        return [0, 0]\n",
    "    if x <= default_threshold*S0:\n",
    "        return [x*bankrupcy_ratio, 0]\n",
    "    return [face, coupon] # first entry is the actual value, second is dividends or coupons"
   ]
  },
  {
   "cell_type": "markdown",
   "id": "10689cfc",
   "metadata": {},
   "source": [
    "K2 has to be greater than K1"
   ]
  },
  {
   "cell_type": "code",
   "execution_count": 348,
   "id": "00d54a6f",
   "metadata": {},
   "outputs": [
    {
     "name": "stdout",
     "output_type": "stream",
     "text": [
      "0.5 0.5\n"
     ]
    }
   ],
   "source": [
    "p=0.5#(1+r-d)/(u-d)\n",
    "q=1-p\n",
    "p=1-q # fixes floating-point errors hopefully\n",
    "print(p, q) # only use these in the multiplicative model"
   ]
  },
  {
   "cell_type": "code",
   "execution_count": 349,
   "id": "104486ab",
   "metadata": {},
   "outputs": [],
   "source": [
    "def nSigFigs(num, n):\n",
    "    #print(num == np.nan)\n",
    "    if type(num) not in [float, int, np.float64] or num == float(\"NaN\"): return float(\"NaN\")\n",
    "    return int(num * 10**n) / 10**n"
   ]
  },
  {
   "cell_type": "code",
   "execution_count": 350,
   "id": "a3df1baf",
   "metadata": {},
   "outputs": [],
   "source": [
    "def displayChart(tab):\n",
    "    Chart=[]\n",
    "    columns = []\n",
    "    N = len(tab)-1\n",
    "    for i in range(N, -1, -1):\n",
    "        chart = []\n",
    "        columns.append(N-i)\n",
    "        for j in range(0,i):\n",
    "            chart.append(\"\")\n",
    "        for j in range(i, N+1):\n",
    "            entry = tab[j][i]\n",
    "            chart.append(entry)\n",
    "        Chart.append(chart)\n",
    "    df = pd.DataFrame(Chart, columns = columns)\n",
    "    return df.style.hide_index()"
   ]
  },
  {
   "cell_type": "code",
   "execution_count": 351,
   "id": "f7888ca6",
   "metadata": {},
   "outputs": [
    {
     "name": "stdout",
     "output_type": "stream",
     "text": [
      "interest rates\n"
     ]
    },
    {
     "data": {
      "text/html": [
       "<style  type=\"text/css\" >\n",
       "</style><table id=\"T_cac0c0f4_10d7_11ee_9c26_acde48001122\" ><thead>    <tr>        <th class=\"col_heading level0 col0\" >0</th>        <th class=\"col_heading level0 col1\" >1</th>        <th class=\"col_heading level0 col2\" >2</th>        <th class=\"col_heading level0 col3\" >3</th>        <th class=\"col_heading level0 col4\" >4</th>    </tr></thead><tbody>\n",
       "                <tr>\n",
       "                                <td id=\"T_cac0c0f4_10d7_11ee_9c26_acde48001122row0_col0\" class=\"data row0 col0\" ></td>\n",
       "                        <td id=\"T_cac0c0f4_10d7_11ee_9c26_acde48001122row0_col1\" class=\"data row0 col1\" ></td>\n",
       "                        <td id=\"T_cac0c0f4_10d7_11ee_9c26_acde48001122row0_col2\" class=\"data row0 col2\" ></td>\n",
       "                        <td id=\"T_cac0c0f4_10d7_11ee_9c26_acde48001122row0_col3\" class=\"data row0 col3\" ></td>\n",
       "                        <td id=\"T_cac0c0f4_10d7_11ee_9c26_acde48001122row0_col4\" class=\"data row0 col4\" >0.080000</td>\n",
       "            </tr>\n",
       "            <tr>\n",
       "                                <td id=\"T_cac0c0f4_10d7_11ee_9c26_acde48001122row1_col0\" class=\"data row1 col0\" ></td>\n",
       "                        <td id=\"T_cac0c0f4_10d7_11ee_9c26_acde48001122row1_col1\" class=\"data row1 col1\" ></td>\n",
       "                        <td id=\"T_cac0c0f4_10d7_11ee_9c26_acde48001122row1_col2\" class=\"data row1 col2\" ></td>\n",
       "                        <td id=\"T_cac0c0f4_10d7_11ee_9c26_acde48001122row1_col3\" class=\"data row1 col3\" >0.075000</td>\n",
       "                        <td id=\"T_cac0c0f4_10d7_11ee_9c26_acde48001122row1_col4\" class=\"data row1 col4\" >0.070000</td>\n",
       "            </tr>\n",
       "            <tr>\n",
       "                                <td id=\"T_cac0c0f4_10d7_11ee_9c26_acde48001122row2_col0\" class=\"data row2 col0\" ></td>\n",
       "                        <td id=\"T_cac0c0f4_10d7_11ee_9c26_acde48001122row2_col1\" class=\"data row2 col1\" ></td>\n",
       "                        <td id=\"T_cac0c0f4_10d7_11ee_9c26_acde48001122row2_col2\" class=\"data row2 col2\" >0.070000</td>\n",
       "                        <td id=\"T_cac0c0f4_10d7_11ee_9c26_acde48001122row2_col3\" class=\"data row2 col3\" >0.065000</td>\n",
       "                        <td id=\"T_cac0c0f4_10d7_11ee_9c26_acde48001122row2_col4\" class=\"data row2 col4\" >0.060000</td>\n",
       "            </tr>\n",
       "            <tr>\n",
       "                                <td id=\"T_cac0c0f4_10d7_11ee_9c26_acde48001122row3_col0\" class=\"data row3 col0\" ></td>\n",
       "                        <td id=\"T_cac0c0f4_10d7_11ee_9c26_acde48001122row3_col1\" class=\"data row3 col1\" >0.065000</td>\n",
       "                        <td id=\"T_cac0c0f4_10d7_11ee_9c26_acde48001122row3_col2\" class=\"data row3 col2\" >0.060000</td>\n",
       "                        <td id=\"T_cac0c0f4_10d7_11ee_9c26_acde48001122row3_col3\" class=\"data row3 col3\" >0.055000</td>\n",
       "                        <td id=\"T_cac0c0f4_10d7_11ee_9c26_acde48001122row3_col4\" class=\"data row3 col4\" >0.050000</td>\n",
       "            </tr>\n",
       "            <tr>\n",
       "                                <td id=\"T_cac0c0f4_10d7_11ee_9c26_acde48001122row4_col0\" class=\"data row4 col0\" >0.060000</td>\n",
       "                        <td id=\"T_cac0c0f4_10d7_11ee_9c26_acde48001122row4_col1\" class=\"data row4 col1\" >0.055000</td>\n",
       "                        <td id=\"T_cac0c0f4_10d7_11ee_9c26_acde48001122row4_col2\" class=\"data row4 col2\" >0.050000</td>\n",
       "                        <td id=\"T_cac0c0f4_10d7_11ee_9c26_acde48001122row4_col3\" class=\"data row4 col3\" >0.045000</td>\n",
       "                        <td id=\"T_cac0c0f4_10d7_11ee_9c26_acde48001122row4_col4\" class=\"data row4 col4\" >0.040000</td>\n",
       "            </tr>\n",
       "    </tbody></table>"
      ],
      "text/plain": [
       "<pandas.io.formats.style.Styler at 0x7fe77016f7d0>"
      ]
     },
     "execution_count": 351,
     "metadata": {},
     "output_type": "execute_result"
    }
   ],
   "source": [
    "def r_values(drift, vol):\n",
    "    R = {}\n",
    "    for i in range(t, -1, -1):\n",
    "        R[i] = r + i*drift - vol*np.arange(i, -1, -1) + vol*np.arange(0, i+1, 1)\n",
    "    return R\n",
    "\n",
    "rates = r_values(0, 0.005)\n",
    "print(\"interest rates\")\n",
    "displayChart(rates)"
   ]
  },
  {
   "cell_type": "code",
   "execution_count": 352,
   "id": "b59454a5",
   "metadata": {},
   "outputs": [
    {
     "name": "stdout",
     "output_type": "stream",
     "text": [
      "stock price\n"
     ]
    },
    {
     "data": {
      "text/html": [
       "<style  type=\"text/css\" >\n",
       "</style><table id=\"T_cac318cc_10d7_11ee_9c26_acde48001122\" ><thead>    <tr>        <th class=\"col_heading level0 col0\" >0</th>        <th class=\"col_heading level0 col1\" >1</th>        <th class=\"col_heading level0 col2\" >2</th>        <th class=\"col_heading level0 col3\" >3</th>        <th class=\"col_heading level0 col4\" >4</th>    </tr></thead><tbody>\n",
       "                <tr>\n",
       "                                <td id=\"T_cac318cc_10d7_11ee_9c26_acde48001122row0_col0\" class=\"data row0 col0\" ></td>\n",
       "                        <td id=\"T_cac318cc_10d7_11ee_9c26_acde48001122row0_col1\" class=\"data row0 col1\" ></td>\n",
       "                        <td id=\"T_cac318cc_10d7_11ee_9c26_acde48001122row0_col2\" class=\"data row0 col2\" ></td>\n",
       "                        <td id=\"T_cac318cc_10d7_11ee_9c26_acde48001122row0_col3\" class=\"data row0 col3\" ></td>\n",
       "                        <td id=\"T_cac318cc_10d7_11ee_9c26_acde48001122row0_col4\" class=\"data row0 col4\" >70.000000</td>\n",
       "            </tr>\n",
       "            <tr>\n",
       "                                <td id=\"T_cac318cc_10d7_11ee_9c26_acde48001122row1_col0\" class=\"data row1 col0\" ></td>\n",
       "                        <td id=\"T_cac318cc_10d7_11ee_9c26_acde48001122row1_col1\" class=\"data row1 col1\" ></td>\n",
       "                        <td id=\"T_cac318cc_10d7_11ee_9c26_acde48001122row1_col2\" class=\"data row1 col2\" ></td>\n",
       "                        <td id=\"T_cac318cc_10d7_11ee_9c26_acde48001122row1_col3\" class=\"data row1 col3\" >60.000000</td>\n",
       "                        <td id=\"T_cac318cc_10d7_11ee_9c26_acde48001122row1_col4\" class=\"data row1 col4\" >50.000000</td>\n",
       "            </tr>\n",
       "            <tr>\n",
       "                                <td id=\"T_cac318cc_10d7_11ee_9c26_acde48001122row2_col0\" class=\"data row2 col0\" ></td>\n",
       "                        <td id=\"T_cac318cc_10d7_11ee_9c26_acde48001122row2_col1\" class=\"data row2 col1\" ></td>\n",
       "                        <td id=\"T_cac318cc_10d7_11ee_9c26_acde48001122row2_col2\" class=\"data row2 col2\" >50.000000</td>\n",
       "                        <td id=\"T_cac318cc_10d7_11ee_9c26_acde48001122row2_col3\" class=\"data row2 col3\" >40.000000</td>\n",
       "                        <td id=\"T_cac318cc_10d7_11ee_9c26_acde48001122row2_col4\" class=\"data row2 col4\" >30.000000</td>\n",
       "            </tr>\n",
       "            <tr>\n",
       "                                <td id=\"T_cac318cc_10d7_11ee_9c26_acde48001122row3_col0\" class=\"data row3 col0\" ></td>\n",
       "                        <td id=\"T_cac318cc_10d7_11ee_9c26_acde48001122row3_col1\" class=\"data row3 col1\" >40.000000</td>\n",
       "                        <td id=\"T_cac318cc_10d7_11ee_9c26_acde48001122row3_col2\" class=\"data row3 col2\" >30.000000</td>\n",
       "                        <td id=\"T_cac318cc_10d7_11ee_9c26_acde48001122row3_col3\" class=\"data row3 col3\" >20.000000</td>\n",
       "                        <td id=\"T_cac318cc_10d7_11ee_9c26_acde48001122row3_col4\" class=\"data row3 col4\" >10.000000</td>\n",
       "            </tr>\n",
       "            <tr>\n",
       "                                <td id=\"T_cac318cc_10d7_11ee_9c26_acde48001122row4_col0\" class=\"data row4 col0\" >30.000000</td>\n",
       "                        <td id=\"T_cac318cc_10d7_11ee_9c26_acde48001122row4_col1\" class=\"data row4 col1\" >20.000000</td>\n",
       "                        <td id=\"T_cac318cc_10d7_11ee_9c26_acde48001122row4_col2\" class=\"data row4 col2\" >10.000000</td>\n",
       "                        <td id=\"T_cac318cc_10d7_11ee_9c26_acde48001122row4_col3\" class=\"data row4 col3\" >0.000000</td>\n",
       "                        <td id=\"T_cac318cc_10d7_11ee_9c26_acde48001122row4_col4\" class=\"data row4 col4\" >0.000000</td>\n",
       "            </tr>\n",
       "    </tbody></table>"
      ],
      "text/plain": [
       "<pandas.io.formats.style.Styler at 0x7fe770173790>"
      ]
     },
     "execution_count": 352,
     "metadata": {},
     "output_type": "execute_result"
    }
   ],
   "source": [
    "def StockPrice(mode='a'): # a for additive, m for multiplicative\n",
    "    StockPrice={}\n",
    "    if mode == 'm':\n",
    "        for i in range(t, -1, -1):\n",
    "            StockPrice[i] = S0 * d ** (np.arange(i,-1,-1)) * u ** (np.arange(0,i+1,1)) #np.empty(N+1)\n",
    "\n",
    "    elif mode == 'a':\n",
    "        for i in range(t, -1, -1):\n",
    "            StockPrice[i] = np.maximum(np.zeros(i+1), S0 + i*drift - vol*np.arange(i, -1, -1) + vol*np.arange(0,i+1,1))\n",
    "    '''for n in range(0, N+1):\n",
    "        StockPrice[N].append(S0*(u**n)*(d**(N-n)))\n",
    "    for i in range(N-1, -1, -1):\n",
    "        StockPrice[i]=[] #np.empty(i+1)\n",
    "        for j in range(0, i+1):\n",
    "            StockPrice[i].append((StockPrice[i+1][j+1])/u)'''\n",
    "    return StockPrice\n",
    "\n",
    "SP = StockPrice()\n",
    "print(\"stock price\")\n",
    "displayChart(SP)\n",
    "\n",
    "# for i in range(t, -1, -1):\n",
    "#     print(str(i) + \": \"+str([nSigFigs(x, n=4) for x in SP[i]]))"
   ]
  },
  {
   "cell_type": "code",
   "execution_count": 353,
   "id": "76c0c50f",
   "metadata": {},
   "outputs": [
    {
     "name": "stdout",
     "output_type": "stream",
     "text": [
      "p tilde\n",
      "{0: [0.5900000000000002], 1: [0.5549999999999999, 0.6299999999999999], 2: [0.525, 0.5900000000000002, 0.6750000000000002], 3: [-1, 0.5549999999999999, 0.6299999999999999, 0.7249999999999996], 4: [1, 1, 1, 1, 1]}\n"
     ]
    }
   ],
   "source": [
    "def p_values(stock_price_chart, rates):\n",
    "    P = {i: [1]*(i+1) for i in range(t+1)}\n",
    "    for i in range(0, t):\n",
    "        for j in range(i+1):\n",
    "            if stock_price_chart[i][j] == 0:\n",
    "                P[i][j] = -1\n",
    "            else:\n",
    "                d = stock_price_chart[i+1][j] / stock_price_chart[i][j]\n",
    "                u = stock_price_chart[i+1][j+1] / stock_price_chart[i][j]\n",
    "                P[i][j] = (1 + rates[i][j] - d) / (u-d)\n",
    "                # print(d)\n",
    "                # print(u)\n",
    "                # print(u-d)\n",
    "                # print(1+rates[i][j])\n",
    "                # print(1 + rates[i][j] - d)\n",
    "    return P\n",
    "\n",
    "p_vals = p_values(SP, rates)\n",
    "print(\"p tilde\")\n",
    "# displayChart(p_vals)\n",
    "print(p_vals)"
   ]
  },
  {
   "cell_type": "code",
   "execution_count": 354,
   "id": "e0ed9314",
   "metadata": {},
   "outputs": [],
   "source": [
    "# additive model\n",
    "def exp(x,y,p=p,r=r):\n",
    "    if p != -1:\n",
    "        return (x*p+y*(1-p))/(1+r)\n",
    "    return 0\n",
    "\n",
    "# multiplicative model\n",
    "def rnExp(x,y):\n",
    "    return exp(x,y,p,r)"
   ]
  },
  {
   "cell_type": "code",
   "execution_count": 355,
   "id": "dd42b446",
   "metadata": {},
   "outputs": [
    {
     "name": "stdout",
     "output_type": "stream",
     "text": [
      "Vanilla Bond payoff: [face value (after coupon), coupon]\n"
     ]
    },
    {
     "data": {
      "text/html": [
       "<style  type=\"text/css\" >\n",
       "</style><table id=\"T_cacac0ea_10d7_11ee_9c26_acde48001122\" ><thead>    <tr>        <th class=\"col_heading level0 col0\" >0</th>        <th class=\"col_heading level0 col1\" >1</th>        <th class=\"col_heading level0 col2\" >2</th>        <th class=\"col_heading level0 col3\" >3</th>        <th class=\"col_heading level0 col4\" >4</th>    </tr></thead><tbody>\n",
       "                <tr>\n",
       "                                <td id=\"T_cacac0ea_10d7_11ee_9c26_acde48001122row0_col0\" class=\"data row0 col0\" ></td>\n",
       "                        <td id=\"T_cacac0ea_10d7_11ee_9c26_acde48001122row0_col1\" class=\"data row0 col1\" ></td>\n",
       "                        <td id=\"T_cacac0ea_10d7_11ee_9c26_acde48001122row0_col2\" class=\"data row0 col2\" ></td>\n",
       "                        <td id=\"T_cacac0ea_10d7_11ee_9c26_acde48001122row0_col3\" class=\"data row0 col3\" ></td>\n",
       "                        <td id=\"T_cacac0ea_10d7_11ee_9c26_acde48001122row0_col4\" class=\"data row0 col4\" >[50, 2.0]</td>\n",
       "            </tr>\n",
       "            <tr>\n",
       "                                <td id=\"T_cacac0ea_10d7_11ee_9c26_acde48001122row1_col0\" class=\"data row1 col0\" ></td>\n",
       "                        <td id=\"T_cacac0ea_10d7_11ee_9c26_acde48001122row1_col1\" class=\"data row1 col1\" ></td>\n",
       "                        <td id=\"T_cacac0ea_10d7_11ee_9c26_acde48001122row1_col2\" class=\"data row1 col2\" ></td>\n",
       "                        <td id=\"T_cacac0ea_10d7_11ee_9c26_acde48001122row1_col3\" class=\"data row1 col3\" >[48.37209302325582, 2.0]</td>\n",
       "                        <td id=\"T_cacac0ea_10d7_11ee_9c26_acde48001122row1_col4\" class=\"data row1 col4\" >[50, 2.0]</td>\n",
       "            </tr>\n",
       "            <tr>\n",
       "                                <td id=\"T_cacac0ea_10d7_11ee_9c26_acde48001122row2_col0\" class=\"data row2 col0\" ></td>\n",
       "                        <td id=\"T_cacac0ea_10d7_11ee_9c26_acde48001122row2_col1\" class=\"data row2 col1\" ></td>\n",
       "                        <td id=\"T_cacac0ea_10d7_11ee_9c26_acde48001122row2_col2\" class=\"data row2 col2\" >[47.21467980526789, 2.0]</td>\n",
       "                        <td id=\"T_cacac0ea_10d7_11ee_9c26_acde48001122row2_col3\" class=\"data row2 col3\" >[48.82629107981221, 2.0]</td>\n",
       "                        <td id=\"T_cacac0ea_10d7_11ee_9c26_acde48001122row2_col4\" class=\"data row2 col4\" >[50, 2.0]</td>\n",
       "            </tr>\n",
       "            <tr>\n",
       "                                <td id=\"T_cacac0ea_10d7_11ee_9c26_acde48001122row3_col0\" class=\"data row3 col0\" ></td>\n",
       "                        <td id=\"T_cacac0ea_10d7_11ee_9c26_acde48001122row3_col1\" class=\"data row3 col1\" >[44.94132093951991, 2.0]</td>\n",
       "                        <td id=\"T_cacac0ea_10d7_11ee_9c26_acde48001122row3_col2\" class=\"data row3 col2\" >[43.56015817099983, 2.0]</td>\n",
       "                        <td id=\"T_cacac0ea_10d7_11ee_9c26_acde48001122row3_col3\" class=\"data row3 col3\" >[37.478672985782, 2.0]</td>\n",
       "                        <td id=\"T_cacac0ea_10d7_11ee_9c26_acde48001122row3_col4\" class=\"data row3 col4\" >[24.0, 0]</td>\n",
       "            </tr>\n",
       "            <tr>\n",
       "                                <td id=\"T_cacac0ea_10d7_11ee_9c26_acde48001122row4_col0\" class=\"data row4 col0\" >[39.7185738654593, 2.0]</td>\n",
       "                        <td id=\"T_cacac0ea_10d7_11ee_9c26_acde48001122row4_col1\" class=\"data row4 col1\" >[33.13733888553687, 2.0]</td>\n",
       "                        <td id=\"T_cacac0ea_10d7_11ee_9c26_acde48001122row4_col2\" class=\"data row4 col2\" >[19.739336492891, 2.0]</td>\n",
       "                        <td id=\"T_cacac0ea_10d7_11ee_9c26_acde48001122row4_col3\" class=\"data row4 col3\" >[0, 0]</td>\n",
       "                        <td id=\"T_cacac0ea_10d7_11ee_9c26_acde48001122row4_col4\" class=\"data row4 col4\" >[0, 0]</td>\n",
       "            </tr>\n",
       "    </tbody></table>"
      ],
      "text/plain": [
       "<pandas.io.formats.style.Styler at 0x7fe76f547f10>"
      ]
     },
     "execution_count": 355,
     "metadata": {},
     "output_type": "execute_result"
    }
   ],
   "source": [
    "bond_payoff = list(map(g, SP[t]))\n",
    "def vanillaBond(payoff): # coupon amount\n",
    "    vanillaBond={}\n",
    "    vanillaBond[t]=bond_payoff\n",
    "    #IP=IntrinsicPut()\n",
    "    #for n in range(0, N+1):\n",
    "    #    PutPriceA[N].append(IP[N][n])\n",
    "    for i in range(t-1, -1, -1):\n",
    "        vanillaBond[i]=[]\n",
    "        for j in range(i+1):\n",
    "            entry = [0,0]\n",
    "            if SP[i][j] != 0: \n",
    "                entry[0] = exp(vanillaBond[i+1][j+1][0], vanillaBond[i+1][j][0], p_vals[i][j], rates[i][j]) + exp(vanillaBond[i+1][j+1][1], vanillaBond[i+1][j][1], p_vals[i][j], rates[i][j])\n",
    "                entry[0] = entry[0]\n",
    "                entry[1] = coupon if SP[i][j] >= default_threshold or i<t else 0\n",
    "            #print(entry)\n",
    "            vanillaBond[i].append(entry)\n",
    "    return vanillaBond\n",
    "\n",
    "vBond = vanillaBond(bond_payoff)\n",
    "print(\"Vanilla Bond payoff: [face value (after coupon), coupon]\")\n",
    "displayChart(vBond)"
   ]
  },
  {
   "cell_type": "code",
   "execution_count": 356,
   "id": "c4cdca9f",
   "metadata": {},
   "outputs": [
    {
     "name": "stdout",
     "output_type": "stream",
     "text": [
      "Convertible Bond payoff: [face value (after coupon), coupon]\n",
      "Convertible but not callable\n"
     ]
    },
    {
     "data": {
      "text/html": [
       "<style  type=\"text/css\" >\n",
       "</style><table id=\"T_cacda2d8_10d7_11ee_9c26_acde48001122\" ><thead>    <tr>        <th class=\"col_heading level0 col0\" >0</th>        <th class=\"col_heading level0 col1\" >1</th>        <th class=\"col_heading level0 col2\" >2</th>        <th class=\"col_heading level0 col3\" >3</th>        <th class=\"col_heading level0 col4\" >4</th>    </tr></thead><tbody>\n",
       "                <tr>\n",
       "                                <td id=\"T_cacda2d8_10d7_11ee_9c26_acde48001122row0_col0\" class=\"data row0 col0\" ></td>\n",
       "                        <td id=\"T_cacda2d8_10d7_11ee_9c26_acde48001122row0_col1\" class=\"data row0 col1\" ></td>\n",
       "                        <td id=\"T_cacda2d8_10d7_11ee_9c26_acde48001122row0_col2\" class=\"data row0 col2\" ></td>\n",
       "                        <td id=\"T_cacda2d8_10d7_11ee_9c26_acde48001122row0_col3\" class=\"data row0 col3\" ></td>\n",
       "                        <td id=\"T_cacda2d8_10d7_11ee_9c26_acde48001122row0_col4\" class=\"data row0 col4\" >[70.0, 2.0]</td>\n",
       "            </tr>\n",
       "            <tr>\n",
       "                                <td id=\"T_cacda2d8_10d7_11ee_9c26_acde48001122row1_col0\" class=\"data row1 col0\" ></td>\n",
       "                        <td id=\"T_cacda2d8_10d7_11ee_9c26_acde48001122row1_col1\" class=\"data row1 col1\" ></td>\n",
       "                        <td id=\"T_cacda2d8_10d7_11ee_9c26_acde48001122row1_col2\" class=\"data row1 col2\" ></td>\n",
       "                        <td id=\"T_cacda2d8_10d7_11ee_9c26_acde48001122row1_col3\" class=\"data row1 col3\" >[61.86046511627906, 2.0]</td>\n",
       "                        <td id=\"T_cacda2d8_10d7_11ee_9c26_acde48001122row1_col4\" class=\"data row1 col4\" >[50.0, 2.0]</td>\n",
       "            </tr>\n",
       "            <tr>\n",
       "                                <td id=\"T_cacda2d8_10d7_11ee_9c26_acde48001122row2_col0\" class=\"data row2 col0\" ></td>\n",
       "                        <td id=\"T_cacda2d8_10d7_11ee_9c26_acde48001122row2_col1\" class=\"data row2 col1\" ></td>\n",
       "                        <td id=\"T_cacda2d8_10d7_11ee_9c26_acde48001122row2_col2\" class=\"data row2 col2\" >[55.723699583576945, 2.0]</td>\n",
       "                        <td id=\"T_cacda2d8_10d7_11ee_9c26_acde48001122row2_col3\" class=\"data row2 col3\" >[48.82629107981221, 2.0]</td>\n",
       "                        <td id=\"T_cacda2d8_10d7_11ee_9c26_acde48001122row2_col4\" class=\"data row2 col4\" >[50, 2.0]</td>\n",
       "            </tr>\n",
       "            <tr>\n",
       "                                <td id=\"T_cacda2d8_10d7_11ee_9c26_acde48001122row3_col0\" class=\"data row3 col0\" ></td>\n",
       "                        <td id=\"T_cacda2d8_10d7_11ee_9c26_acde48001122row3_col1\" class=\"data row3 col1\" >[49.974825597111185, 2.0]</td>\n",
       "                        <td id=\"T_cacda2d8_10d7_11ee_9c26_acde48001122row3_col2\" class=\"data row3 col2\" >[43.56015817099983, 2.0]</td>\n",
       "                        <td id=\"T_cacda2d8_10d7_11ee_9c26_acde48001122row3_col3\" class=\"data row3 col3\" >[37.478672985782, 2.0]</td>\n",
       "                        <td id=\"T_cacda2d8_10d7_11ee_9c26_acde48001122row3_col4\" class=\"data row3 col4\" >[24.0, 0]</td>\n",
       "            </tr>\n",
       "            <tr>\n",
       "                                <td id=\"T_cacda2d8_10d7_11ee_9c26_acde48001122row4_col0\" class=\"data row4 col0\" >[42.52024155223181, 2.0]</td>\n",
       "                        <td id=\"T_cacda2d8_10d7_11ee_9c26_acde48001122row4_col1\" class=\"data row4 col1\" >[33.13733888553687, 2.0]</td>\n",
       "                        <td id=\"T_cacda2d8_10d7_11ee_9c26_acde48001122row4_col2\" class=\"data row4 col2\" >[19.739336492891, 2.0]</td>\n",
       "                        <td id=\"T_cacda2d8_10d7_11ee_9c26_acde48001122row4_col3\" class=\"data row4 col3\" >[0, 0]</td>\n",
       "                        <td id=\"T_cacda2d8_10d7_11ee_9c26_acde48001122row4_col4\" class=\"data row4 col4\" >[0.0, 0]</td>\n",
       "            </tr>\n",
       "    </tbody></table>"
      ],
      "text/plain": [
       "<pandas.io.formats.style.Styler at 0x7fe76f5c85d0>"
      ]
     },
     "execution_count": 356,
     "metadata": {},
     "output_type": "execute_result"
    }
   ],
   "source": [
    "def convBond(payoff):\n",
    "    convBond = {}\n",
    "    convBond[t] = [[max(SP[t][i], payoff[i][0]), payoff[i][1]] for i in range(t+1)]\n",
    "    for i in range(t-1, -1, -1):\n",
    "        convBond[i]=[]\n",
    "        for j in range(i+1):\n",
    "            entry = [0,0]\n",
    "            if SP[i][j] != 0: \n",
    "                entry[0] = exp(convBond[i+1][j+1][0], convBond[i+1][j][0], p_vals[i][j], rates[i][j]) \\\n",
    "                         + exp(convBond[i+1][j+1][1], convBond[i+1][j][1], p_vals[i][j], rates[i][j])\n",
    "                entry[0] = max(entry[0], SP[i][j])\n",
    "                entry[1] = coupon if SP[i][j] >= default_threshold or i<t else 0\n",
    "            #print(entry)\n",
    "            convBond[i].append(entry)\n",
    "    return convBond\n",
    "\n",
    "cBond = convBond(bond_payoff)\n",
    "print(\"Convertible Bond payoff: [face value (after coupon), coupon]\")\n",
    "print(\"Convertible but not callable\")\n",
    "displayChart(cBond)"
   ]
  },
  {
   "cell_type": "markdown",
   "id": "4e05e951",
   "metadata": {},
   "source": []
  },
  {
   "attachments": {},
   "cell_type": "markdown",
   "id": "0301f334",
   "metadata": {},
   "source": [
    "experiment code below"
   ]
  },
  {
   "cell_type": "code",
   "execution_count": 357,
   "id": "4b9af55e",
   "metadata": {},
   "outputs": [],
   "source": [
    "# x is how much to change for additive model\n",
    "def simulate_one(x):\n",
    "    global vol\n",
    "    v = x\n",
    "    \n",
    "    rates = r_values(0, 0.005)\n",
    "    SP = StockPrice()\n",
    "    \n",
    "simulate_one(1)"
   ]
  },
  {
   "cell_type": "code",
   "execution_count": 371,
   "metadata": {},
   "outputs": [
    {
     "name": "stdout",
     "output_type": "stream",
     "text": [
      "{0: [0], 1: [0, 0], 2: [0, 0, 1], 3: [0, 1, 1, 0], 4: [1, 1, 1, 1, 1]}\n"
     ]
    }
   ],
   "source": [
    "from scipy.stats import bernoulli\n",
    "\n",
    "# rolls = {}\n",
    "\n",
    "# for key in range(0, t+1, 1):\n",
    "#         rolls[key] = [0]*(key+1)\n",
    "#         for j in range(0, key+1, 1):\n",
    "#             prob = max(0, min(1, p_vals[key][j]))\n",
    "#             roll = bernoulli.rvs(size=1, p=prob)\n",
    "#             rolls[key][j] = roll[0]\n",
    "\n",
    "\n",
    "# if roll==1, then it is a head\n",
    "\n",
    "interests = rates\n",
    "for key in range(1, t+1, 1):\n",
    "      for j in range(0, key+1, 1):\n",
    "            prob = max(0, min(1, p_vals[key][j]))\n",
    "            [roll] = bernoulli.rvs(size=1, p=prob)\n",
    "            if(roll==1):\n",
    "                  interests[key][j] = interests[key-1][j]+0.005\n",
    "            else:\n",
    "                  interests[key][j] = interests[key-1][j]-0.005\n"
   ]
  }
 ],
 "metadata": {
  "kernelspec": {
   "display_name": "Python 3",
   "language": "python",
   "name": "python3"
  },
  "language_info": {
   "codemirror_mode": {
    "name": "ipython",
    "version": 3
   },
   "file_extension": ".py",
   "mimetype": "text/x-python",
   "name": "python",
   "nbconvert_exporter": "python",
   "pygments_lexer": "ipython3",
   "version": "3.7.6"
  }
 },
 "nbformat": 4,
 "nbformat_minor": 5
}
